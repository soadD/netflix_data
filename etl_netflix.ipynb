{
 "cells": [
  {
   "cell_type": "markdown",
   "metadata": {
    "colab_type": "text",
    "id": "view-in-github"
   },
   "source": [
    "<a href=\"https://colab.research.google.com/github/soadD/netflix_data/blob/main/tabela_global_ETL.ipynb\" target=\"_parent\"><img src=\"https://colab.research.google.com/assets/colab-badge.svg\" alt=\"Open In Colab\"/></a>"
   ]
  },
  {
   "cell_type": "markdown",
   "metadata": {},
   "source": [
    "## **PROJETO FINAL - STREAMING**\n",
    "\n",
    "Escola: SoulCode Academy\n",
    "\n",
    "Curso: Analista de Dados e Dashboard\n",
    "\n",
    "Assunto: Análise Netflix\n",
    "\n",
    "Professora: Franciane Rodrigues\n",
    "\n",
    "Alunos (as):\n",
    "* Arthur Vale\n",
    "* Crislane Silva\n",
    "* Ewerton Lima\n",
    "* Lucas Berenger\n",
    "* Lidiane Dias Vicente\n",
    "* Rafael Freitas\n",
    "\n",
    "Data: 05/Junho/2024"
   ]
  },
  {
   "cell_type": "markdown",
   "metadata": {},
   "source": [
    "# Preparando ambiente\n",
    "\n",
    "Importando as bibliotecas necessárias para manipulação e análise dos dados."
   ]
  },
  {
   "cell_type": "code",
   "execution_count": 28,
   "metadata": {},
   "outputs": [
    {
     "name": "stdout",
     "output_type": "stream",
     "text": [
      "Collecting pandera\n",
      "  Obtaining dependency information for pandera from https://files.pythonhosted.org/packages/06/94/c32006319a68a2bdcf26e0e334837860fcd0600fc9db9eb5d9478ad08943/pandera-0.19.3-py3-none-any.whl.metadata\n",
      "  Downloading pandera-0.19.3-py3-none-any.whl.metadata (15 kB)\n",
      "Collecting multimethod<=1.10.0 (from pandera)\n",
      "  Obtaining dependency information for multimethod<=1.10.0 from https://files.pythonhosted.org/packages/7f/bd/750245e47e7f307d9f94d4fa84727f4ed9956005dfa671d58be1d531a0f6/multimethod-1.10-py3-none-any.whl.metadata\n",
      "  Downloading multimethod-1.10-py3-none-any.whl.metadata (8.2 kB)\n",
      "Requirement already satisfied: numpy>=1.19.0 in /Users/ewerton/anaconda3/lib/python3.11/site-packages (from pandera) (1.24.3)\n",
      "Requirement already satisfied: packaging>=20.0 in /Users/ewerton/anaconda3/lib/python3.11/site-packages (from pandera) (23.1)\n",
      "Requirement already satisfied: pandas>=1.2.0 in /Users/ewerton/anaconda3/lib/python3.11/site-packages (from pandera) (2.0.3)\n",
      "Requirement already satisfied: pydantic in /Users/ewerton/anaconda3/lib/python3.11/site-packages (from pandera) (1.10.8)\n",
      "Collecting typeguard (from pandera)\n",
      "  Obtaining dependency information for typeguard from https://files.pythonhosted.org/packages/eb/de/be0ba39ee73760bf33329b7c6f95bc67e96593c69c881671e312538e24bb/typeguard-4.3.0-py3-none-any.whl.metadata\n",
      "  Downloading typeguard-4.3.0-py3-none-any.whl.metadata (3.7 kB)\n",
      "Collecting typing-inspect>=0.6.0 (from pandera)\n",
      "  Obtaining dependency information for typing-inspect>=0.6.0 from https://files.pythonhosted.org/packages/65/f3/107a22063bf27bdccf2024833d3445f4eea42b2e598abfbd46f6a63b6cb0/typing_inspect-0.9.0-py3-none-any.whl.metadata\n",
      "  Downloading typing_inspect-0.9.0-py3-none-any.whl.metadata (1.5 kB)\n",
      "Requirement already satisfied: wrapt in /Users/ewerton/anaconda3/lib/python3.11/site-packages (from pandera) (1.14.1)\n",
      "Requirement already satisfied: python-dateutil>=2.8.2 in /Users/ewerton/anaconda3/lib/python3.11/site-packages (from pandas>=1.2.0->pandera) (2.8.2)\n",
      "Requirement already satisfied: pytz>=2020.1 in /Users/ewerton/anaconda3/lib/python3.11/site-packages (from pandas>=1.2.0->pandera) (2023.3.post1)\n",
      "Requirement already satisfied: tzdata>=2022.1 in /Users/ewerton/anaconda3/lib/python3.11/site-packages (from pandas>=1.2.0->pandera) (2023.3)\n",
      "Requirement already satisfied: mypy-extensions>=0.3.0 in /Users/ewerton/anaconda3/lib/python3.11/site-packages (from typing-inspect>=0.6.0->pandera) (1.0.0)\n",
      "Requirement already satisfied: typing-extensions>=3.7.4 in /Users/ewerton/anaconda3/lib/python3.11/site-packages (from typing-inspect>=0.6.0->pandera) (4.7.1)\n",
      "Collecting typing-extensions>=3.7.4 (from typing-inspect>=0.6.0->pandera)\n",
      "  Obtaining dependency information for typing-extensions>=3.7.4 from https://files.pythonhosted.org/packages/b6/53/84a859aaddfe7378a6e5820e864a2d75763e82b6fcbda1a00e92ec620bb7/typing_extensions-4.12.1-py3-none-any.whl.metadata\n",
      "  Downloading typing_extensions-4.12.1-py3-none-any.whl.metadata (3.0 kB)\n",
      "Requirement already satisfied: six>=1.5 in /Users/ewerton/anaconda3/lib/python3.11/site-packages (from python-dateutil>=2.8.2->pandas>=1.2.0->pandera) (1.16.0)\n",
      "Downloading pandera-0.19.3-py3-none-any.whl (251 kB)\n",
      "\u001b[2K   \u001b[90m━━━━━━━━━━━━━━━━━━━━━━━━━━━━━━━━━━━━━━━━\u001b[0m \u001b[32m251.9/251.9 kB\u001b[0m \u001b[31m3.8 MB/s\u001b[0m eta \u001b[36m0:00:00\u001b[0m \u001b[36m0:00:01\u001b[0m\n",
      "\u001b[?25hDownloading multimethod-1.10-py3-none-any.whl (9.9 kB)\n",
      "Downloading typing_inspect-0.9.0-py3-none-any.whl (8.8 kB)\n",
      "Downloading typeguard-4.3.0-py3-none-any.whl (35 kB)\n",
      "Downloading typing_extensions-4.12.1-py3-none-any.whl (37 kB)\n",
      "Installing collected packages: typing-extensions, multimethod, typing-inspect, typeguard, pandera\n",
      "  Attempting uninstall: typing-extensions\n",
      "    Found existing installation: typing_extensions 4.7.1\n",
      "    Uninstalling typing_extensions-4.7.1:\n",
      "      Successfully uninstalled typing_extensions-4.7.1\n",
      "Successfully installed multimethod-1.10 pandera-0.19.3 typeguard-4.3.0 typing-extensions-4.12.1 typing-inspect-0.9.0\n"
     ]
    }
   ],
   "source": [
    "# Instala e importa a biblioteca para verifica da integridade dos dados\n",
    "!pip install pandera"
   ]
  },
  {
   "cell_type": "code",
   "execution_count": 87,
   "metadata": {
    "id": "nFCF-3amrfTB"
   },
   "outputs": [],
   "source": [
    "# Importa as bibliotecas necessárias\n",
    "import pandas as pd\n",
    "import numpy as np\n",
    "import seaborn as sns\n",
    "import matplotlib.pyplot as plt\n",
    "import warnings\n",
    "import pandera as pa"
   ]
  },
  {
   "cell_type": "markdown",
   "metadata": {},
   "source": [
    "# EXTRAÇÃO\n",
    "\n",
    "Importando os dados."
   ]
  },
  {
   "cell_type": "markdown",
   "metadata": {},
   "source": [
    "## Dataset Netflix Global"
   ]
  },
  {
   "cell_type": "code",
   "execution_count": 88,
   "metadata": {
    "id": "w1dTqcBErkYX"
   },
   "outputs": [],
   "source": [
    "# Extrai os dados do arquivo CSV\n",
    "df_global = pd.read_csv('neflix_global_dataset_with_gender_final.csv')"
   ]
  },
  {
   "cell_type": "markdown",
   "metadata": {},
   "source": [
    "## Dataset Neflix Países"
   ]
  },
  {
   "cell_type": "code",
   "execution_count": 89,
   "metadata": {
    "scrolled": true
   },
   "outputs": [
    {
     "name": "stderr",
     "output_type": "stream",
     "text": [
      "/Users/ewerton/anaconda3/lib/python3.11/site-packages/openpyxl/styles/stylesheet.py:226: UserWarning: Workbook contains no default style, apply openpyxl's default\n",
      "  warn(\"Workbook contains no default style, apply openpyxl's default\")\n"
     ]
    }
   ],
   "source": [
    "# Extrai os dados do arquivo excel\n",
    "df_countries = pd.read_excel('all-weeks-countries.xlsx', sheet_name='Top 10')"
   ]
  },
  {
   "cell_type": "markdown",
   "metadata": {},
   "source": [
    "## Dataset Usuários Netflix"
   ]
  },
  {
   "cell_type": "code",
   "execution_count": 90,
   "metadata": {},
   "outputs": [],
   "source": [
    "# Extrai os dados do arquivo CSV\n",
    "df_users = pd.read_csv('netflix-userbase.csv')"
   ]
  },
  {
   "cell_type": "markdown",
   "metadata": {},
   "source": [
    "# Transformação"
   ]
  },
  {
   "cell_type": "markdown",
   "metadata": {},
   "source": [
    "# Visão geral dos dados Netflix Global"
   ]
  },
  {
   "cell_type": "code",
   "execution_count": 91,
   "metadata": {},
   "outputs": [
    {
     "data": {
      "text/plain": [
       "Index(['week', 'category', 'weekly_rank', 'show_title', 'season_title',\n",
       "       'weekly_hours_viewed', 'runtime', 'weekly_views',\n",
       "       'cumulative_weeks_in_top_10', 'is_staggered_launch',\n",
       "       'episode_launch_details', 'gender'],\n",
       "      dtype='object')"
      ]
     },
     "execution_count": 91,
     "metadata": {},
     "output_type": "execute_result"
    }
   ],
   "source": [
    "# Mostra todas as colunas do dataframe\n",
    "df_global.columns"
   ]
  },
  {
   "cell_type": "code",
   "execution_count": 92,
   "metadata": {
    "colab": {
     "base_uri": "https://localhost:8080/",
     "height": 652
    },
    "id": "419t8M0ps_jN",
    "outputId": "63314480-b78c-4e18-ff5b-d57691e54edb"
   },
   "outputs": [
    {
     "name": "stdout",
     "output_type": "stream",
     "text": [
      "<class 'pandas.core.frame.DataFrame'>\n",
      "RangeIndex: 6080 entries, 0 to 6079\n",
      "Data columns (total 12 columns):\n",
      " #   Column                      Non-Null Count  Dtype  \n",
      "---  ------                      --------------  -----  \n",
      " 0   week                        6080 non-null   object \n",
      " 1   category                    6080 non-null   object \n",
      " 2   weekly_rank                 6080 non-null   int64  \n",
      " 3   show_title                  6080 non-null   object \n",
      " 4   season_title                2959 non-null   object \n",
      " 5   weekly_hours_viewed         6080 non-null   int64  \n",
      " 6   runtime                     2000 non-null   float64\n",
      " 7   weekly_views                2000 non-null   float64\n",
      " 8   cumulative_weeks_in_top_10  6080 non-null   int64  \n",
      " 9   is_staggered_launch         6080 non-null   bool   \n",
      " 10  episode_launch_details      78 non-null     object \n",
      " 11  gender                      6080 non-null   object \n",
      "dtypes: bool(1), float64(2), int64(3), object(6)\n",
      "memory usage: 528.6+ KB\n"
     ]
    }
   ],
   "source": [
    "# Mostra um resumo conciso do dataframe\n",
    "df_global.info()"
   ]
  },
  {
   "cell_type": "code",
   "execution_count": 93,
   "metadata": {
    "scrolled": true
   },
   "outputs": [
    {
     "data": {
      "text/html": [
       "<div>\n",
       "<style scoped>\n",
       "    .dataframe tbody tr th:only-of-type {\n",
       "        vertical-align: middle;\n",
       "    }\n",
       "\n",
       "    .dataframe tbody tr th {\n",
       "        vertical-align: top;\n",
       "    }\n",
       "\n",
       "    .dataframe thead th {\n",
       "        text-align: right;\n",
       "    }\n",
       "</style>\n",
       "<table border=\"1\" class=\"dataframe\">\n",
       "  <thead>\n",
       "    <tr style=\"text-align: right;\">\n",
       "      <th></th>\n",
       "      <th>week</th>\n",
       "      <th>category</th>\n",
       "      <th>weekly_rank</th>\n",
       "      <th>show_title</th>\n",
       "      <th>season_title</th>\n",
       "      <th>weekly_hours_viewed</th>\n",
       "      <th>runtime</th>\n",
       "      <th>weekly_views</th>\n",
       "      <th>cumulative_weeks_in_top_10</th>\n",
       "      <th>is_staggered_launch</th>\n",
       "      <th>episode_launch_details</th>\n",
       "      <th>gender</th>\n",
       "    </tr>\n",
       "  </thead>\n",
       "  <tbody>\n",
       "    <tr>\n",
       "      <th>0</th>\n",
       "      <td>2024-05-26</td>\n",
       "      <td>Films (English)</td>\n",
       "      <td>1</td>\n",
       "      <td>Atlas</td>\n",
       "      <td>NaN</td>\n",
       "      <td>56300000</td>\n",
       "      <td>2.0000</td>\n",
       "      <td>28200000.0</td>\n",
       "      <td>1</td>\n",
       "      <td>False</td>\n",
       "      <td>NaN</td>\n",
       "      <td>Action, Adventure, Drama</td>\n",
       "    </tr>\n",
       "    <tr>\n",
       "      <th>1</th>\n",
       "      <td>2024-05-26</td>\n",
       "      <td>Films (English)</td>\n",
       "      <td>2</td>\n",
       "      <td>Thelma the Unicorn</td>\n",
       "      <td>NaN</td>\n",
       "      <td>17400000</td>\n",
       "      <td>1.6333</td>\n",
       "      <td>10700000.0</td>\n",
       "      <td>2</td>\n",
       "      <td>False</td>\n",
       "      <td>NaN</td>\n",
       "      <td>Animation, Adventure, Comedy</td>\n",
       "    </tr>\n",
       "    <tr>\n",
       "      <th>2</th>\n",
       "      <td>2024-05-26</td>\n",
       "      <td>Films (English)</td>\n",
       "      <td>3</td>\n",
       "      <td>Ice Age: Dawn of the Dinosaurs</td>\n",
       "      <td>NaN</td>\n",
       "      <td>15100000</td>\n",
       "      <td>1.5833</td>\n",
       "      <td>9500000.0</td>\n",
       "      <td>1</td>\n",
       "      <td>False</td>\n",
       "      <td>NaN</td>\n",
       "      <td>Animation, Adventure, Comedy</td>\n",
       "    </tr>\n",
       "    <tr>\n",
       "      <th>3</th>\n",
       "      <td>2024-05-26</td>\n",
       "      <td>Films (English)</td>\n",
       "      <td>4</td>\n",
       "      <td>Mother of the Bride</td>\n",
       "      <td>NaN</td>\n",
       "      <td>14000000</td>\n",
       "      <td>1.5000</td>\n",
       "      <td>9300000.0</td>\n",
       "      <td>3</td>\n",
       "      <td>False</td>\n",
       "      <td>NaN</td>\n",
       "      <td>Comedy, Drama, Romance</td>\n",
       "    </tr>\n",
       "    <tr>\n",
       "      <th>4</th>\n",
       "      <td>2024-05-26</td>\n",
       "      <td>Films (English)</td>\n",
       "      <td>5</td>\n",
       "      <td>Disturbia</td>\n",
       "      <td>NaN</td>\n",
       "      <td>14100000</td>\n",
       "      <td>1.7500</td>\n",
       "      <td>8100000.0</td>\n",
       "      <td>2</td>\n",
       "      <td>False</td>\n",
       "      <td>NaN</td>\n",
       "      <td>Crime, Drama, Mystery</td>\n",
       "    </tr>\n",
       "    <tr>\n",
       "      <th>...</th>\n",
       "      <td>...</td>\n",
       "      <td>...</td>\n",
       "      <td>...</td>\n",
       "      <td>...</td>\n",
       "      <td>...</td>\n",
       "      <td>...</td>\n",
       "      <td>...</td>\n",
       "      <td>...</td>\n",
       "      <td>...</td>\n",
       "      <td>...</td>\n",
       "      <td>...</td>\n",
       "      <td>...</td>\n",
       "    </tr>\n",
       "    <tr>\n",
       "      <th>6075</th>\n",
       "      <td>2021-07-04</td>\n",
       "      <td>TV (Non-English)</td>\n",
       "      <td>6</td>\n",
       "      <td>Elite</td>\n",
       "      <td>Elite: Season 1</td>\n",
       "      <td>10530000</td>\n",
       "      <td>NaN</td>\n",
       "      <td>NaN</td>\n",
       "      <td>1</td>\n",
       "      <td>False</td>\n",
       "      <td>NaN</td>\n",
       "      <td>Crime, Drama, Thriller</td>\n",
       "    </tr>\n",
       "    <tr>\n",
       "      <th>6076</th>\n",
       "      <td>2021-07-04</td>\n",
       "      <td>TV (Non-English)</td>\n",
       "      <td>7</td>\n",
       "      <td>Elite</td>\n",
       "      <td>Elite: Season 3</td>\n",
       "      <td>10200000</td>\n",
       "      <td>NaN</td>\n",
       "      <td>NaN</td>\n",
       "      <td>1</td>\n",
       "      <td>False</td>\n",
       "      <td>NaN</td>\n",
       "      <td>Crime, Drama, Thriller</td>\n",
       "    </tr>\n",
       "    <tr>\n",
       "      <th>6077</th>\n",
       "      <td>2021-07-04</td>\n",
       "      <td>TV (Non-English)</td>\n",
       "      <td>8</td>\n",
       "      <td>Elite</td>\n",
       "      <td>Elite: Season 2</td>\n",
       "      <td>10140000</td>\n",
       "      <td>NaN</td>\n",
       "      <td>NaN</td>\n",
       "      <td>1</td>\n",
       "      <td>False</td>\n",
       "      <td>NaN</td>\n",
       "      <td>Crime, Drama, Thriller</td>\n",
       "    </tr>\n",
       "    <tr>\n",
       "      <th>6078</th>\n",
       "      <td>2021-07-04</td>\n",
       "      <td>TV (Non-English)</td>\n",
       "      <td>9</td>\n",
       "      <td>Katla</td>\n",
       "      <td>Katla: Season 1</td>\n",
       "      <td>9190000</td>\n",
       "      <td>NaN</td>\n",
       "      <td>NaN</td>\n",
       "      <td>1</td>\n",
       "      <td>False</td>\n",
       "      <td>NaN</td>\n",
       "      <td>Drama, Fantasy, Mystery</td>\n",
       "    </tr>\n",
       "    <tr>\n",
       "      <th>6079</th>\n",
       "      <td>2021-07-04</td>\n",
       "      <td>TV (Non-English)</td>\n",
       "      <td>10</td>\n",
       "      <td>Record of Ragnarok</td>\n",
       "      <td>Record of Ragnarok: Season 1</td>\n",
       "      <td>9140000</td>\n",
       "      <td>NaN</td>\n",
       "      <td>NaN</td>\n",
       "      <td>1</td>\n",
       "      <td>False</td>\n",
       "      <td>NaN</td>\n",
       "      <td>Animation, Action, Adventure</td>\n",
       "    </tr>\n",
       "  </tbody>\n",
       "</table>\n",
       "<p>6080 rows × 12 columns</p>\n",
       "</div>"
      ],
      "text/plain": [
       "            week          category  weekly_rank  \\\n",
       "0     2024-05-26   Films (English)            1   \n",
       "1     2024-05-26   Films (English)            2   \n",
       "2     2024-05-26   Films (English)            3   \n",
       "3     2024-05-26   Films (English)            4   \n",
       "4     2024-05-26   Films (English)            5   \n",
       "...          ...               ...          ...   \n",
       "6075  2021-07-04  TV (Non-English)            6   \n",
       "6076  2021-07-04  TV (Non-English)            7   \n",
       "6077  2021-07-04  TV (Non-English)            8   \n",
       "6078  2021-07-04  TV (Non-English)            9   \n",
       "6079  2021-07-04  TV (Non-English)           10   \n",
       "\n",
       "                          show_title                  season_title  \\\n",
       "0                              Atlas                           NaN   \n",
       "1                 Thelma the Unicorn                           NaN   \n",
       "2     Ice Age: Dawn of the Dinosaurs                           NaN   \n",
       "3                Mother of the Bride                           NaN   \n",
       "4                          Disturbia                           NaN   \n",
       "...                              ...                           ...   \n",
       "6075                           Elite               Elite: Season 1   \n",
       "6076                           Elite               Elite: Season 3   \n",
       "6077                           Elite               Elite: Season 2   \n",
       "6078                           Katla               Katla: Season 1   \n",
       "6079              Record of Ragnarok  Record of Ragnarok: Season 1   \n",
       "\n",
       "      weekly_hours_viewed  runtime  weekly_views  cumulative_weeks_in_top_10  \\\n",
       "0                56300000   2.0000    28200000.0                           1   \n",
       "1                17400000   1.6333    10700000.0                           2   \n",
       "2                15100000   1.5833     9500000.0                           1   \n",
       "3                14000000   1.5000     9300000.0                           3   \n",
       "4                14100000   1.7500     8100000.0                           2   \n",
       "...                   ...      ...           ...                         ...   \n",
       "6075             10530000      NaN           NaN                           1   \n",
       "6076             10200000      NaN           NaN                           1   \n",
       "6077             10140000      NaN           NaN                           1   \n",
       "6078              9190000      NaN           NaN                           1   \n",
       "6079              9140000      NaN           NaN                           1   \n",
       "\n",
       "      is_staggered_launch episode_launch_details                        gender  \n",
       "0                   False                    NaN      Action, Adventure, Drama  \n",
       "1                   False                    NaN  Animation, Adventure, Comedy  \n",
       "2                   False                    NaN  Animation, Adventure, Comedy  \n",
       "3                   False                    NaN        Comedy, Drama, Romance  \n",
       "4                   False                    NaN         Crime, Drama, Mystery  \n",
       "...                   ...                    ...                           ...  \n",
       "6075                False                    NaN        Crime, Drama, Thriller  \n",
       "6076                False                    NaN        Crime, Drama, Thriller  \n",
       "6077                False                    NaN        Crime, Drama, Thriller  \n",
       "6078                False                    NaN       Drama, Fantasy, Mystery  \n",
       "6079                False                    NaN  Animation, Action, Adventure  \n",
       "\n",
       "[6080 rows x 12 columns]"
      ]
     },
     "execution_count": 93,
     "metadata": {},
     "output_type": "execute_result"
    }
   ],
   "source": [
    "# Mostra um resumo do dataframe, com os 5 primeiros e últimos registros e total de linhas e colunas\n",
    "df_global"
   ]
  },
  {
   "cell_type": "markdown",
   "metadata": {},
   "source": [
    "## Valores únicos"
   ]
  },
  {
   "cell_type": "code",
   "execution_count": 94,
   "metadata": {},
   "outputs": [
    {
     "name": "stdout",
     "output_type": "stream",
     "text": [
      "['Films (English)' 'Films (Non-English)' 'TV (English)' 'TV (Non-English)']\n"
     ]
    }
   ],
   "source": [
    "# Mostra os valores únicos da coluna selecionada\n",
    "print(pd.unique(df_global['category']))"
   ]
  },
  {
   "cell_type": "code",
   "execution_count": 95,
   "metadata": {},
   "outputs": [
    {
     "data": {
      "text/plain": [
       "False"
      ]
     },
     "execution_count": 95,
     "metadata": {},
     "output_type": "execute_result"
    }
   ],
   "source": [
    "# Verificando se os dados são unicos na coluna selecionada\n",
    "df_global['show_title'].is_unique"
   ]
  },
  {
   "cell_type": "code",
   "execution_count": 96,
   "metadata": {},
   "outputs": [
    {
     "name": "stdout",
     "output_type": "stream",
     "text": [
      "Número de títulos únicos é: 1993\n"
     ]
    }
   ],
   "source": [
    "# Calcula o número de títulos únicos na coluna\n",
    "unique_global_titles = df_global['show_title'].nunique()\n",
    "print(f\"Número de títulos únicos é: {unique_global_titles}\")"
   ]
  },
  {
   "cell_type": "code",
   "execution_count": 97,
   "metadata": {},
   "outputs": [
    {
     "data": {
      "text/plain": [
       "False"
      ]
     },
     "execution_count": 97,
     "metadata": {},
     "output_type": "execute_result"
    }
   ],
   "source": [
    "# Verificando se os dados são unicos na coluna selecionada\n",
    "df_global['season_title'].is_unique"
   ]
  },
  {
   "cell_type": "code",
   "execution_count": 98,
   "metadata": {},
   "outputs": [
    {
     "name": "stdout",
     "output_type": "stream",
     "text": [
      "Número de títulos únicos é: 878\n"
     ]
    }
   ],
   "source": [
    "# Calcula o númerod de temporadas únicas na coluna\n",
    "unique_global_season = df_global['season_title'].nunique()\n",
    "print(f\"Número de títulos únicos é: {unique_global_season}\")"
   ]
  },
  {
   "cell_type": "code",
   "execution_count": 99,
   "metadata": {},
   "outputs": [
    {
     "name": "stdout",
     "output_type": "stream",
     "text": [
      "[ 1  2  3  4  5  6  7  8  9 10]\n"
     ]
    }
   ],
   "source": [
    "# Mostra os valores únicos da coluna selecionada\n",
    "print(pd.unique(df_global['weekly_rank']))"
   ]
  },
  {
   "cell_type": "code",
   "execution_count": 100,
   "metadata": {},
   "outputs": [
    {
     "name": "stdout",
     "output_type": "stream",
     "text": [
      "[ 1  2  3 10  5  4  6  8 11 17  7 12  9 14 16 15 13 18 22 21 25 23 20 19\n",
      " 24 28 27 26 30 29]\n"
     ]
    }
   ],
   "source": [
    "# Mostra os valores únicos da coluna selecionadas\n",
    "print(df_global['cumulative_weeks_in_top_10'].unique())"
   ]
  },
  {
   "cell_type": "code",
   "execution_count": 101,
   "metadata": {},
   "outputs": [
    {
     "data": {
      "text/plain": [
       "array([False,  True])"
      ]
     },
     "execution_count": 101,
     "metadata": {},
     "output_type": "execute_result"
    }
   ],
   "source": [
    "# Mostra os valores únicos da coluna selecionadas\n",
    "df_global['is_staggered_launch'].unique()"
   ]
  },
  {
   "cell_type": "markdown",
   "metadata": {},
   "source": [
    "## Valores duplicados"
   ]
  },
  {
   "cell_type": "code",
   "execution_count": 102,
   "metadata": {},
   "outputs": [
    {
     "data": {
      "text/plain": [
       "6080"
      ]
     },
     "execution_count": 102,
     "metadata": {},
     "output_type": "execute_result"
    }
   ],
   "source": [
    "# Mostra o número de registros (linhas)\n",
    "df_global.shape[0]"
   ]
  },
  {
   "cell_type": "code",
   "execution_count": 103,
   "metadata": {},
   "outputs": [
    {
     "data": {
      "text/plain": [
       "0       False\n",
       "1       False\n",
       "2       False\n",
       "3       False\n",
       "4       False\n",
       "        ...  \n",
       "6075    False\n",
       "6076    False\n",
       "6077    False\n",
       "6078    False\n",
       "6079    False\n",
       "Length: 6080, dtype: bool"
      ]
     },
     "execution_count": 103,
     "metadata": {},
     "output_type": "execute_result"
    }
   ],
   "source": [
    "# Verifica se há linhas duplicadas\n",
    "df_global.duplicated()"
   ]
  },
  {
   "cell_type": "markdown",
   "metadata": {},
   "source": [
    "## Valores ausentes e nulos"
   ]
  },
  {
   "cell_type": "code",
   "execution_count": 104,
   "metadata": {},
   "outputs": [
    {
     "data": {
      "text/plain": [
       "week                             0\n",
       "category                         0\n",
       "weekly_rank                      0\n",
       "show_title                       0\n",
       "season_title                  3121\n",
       "weekly_hours_viewed              0\n",
       "runtime                       4080\n",
       "weekly_views                  4080\n",
       "cumulative_weeks_in_top_10       0\n",
       "is_staggered_launch              0\n",
       "episode_launch_details        6002\n",
       "gender                           0\n",
       "dtype: int64"
      ]
     },
     "execution_count": 104,
     "metadata": {},
     "output_type": "execute_result"
    }
   ],
   "source": [
    "# Mostra a quantidade total de valores nulos em cada coluna do dataframe\n",
    "df_global.isnull().sum()"
   ]
  },
  {
   "cell_type": "code",
   "execution_count": 105,
   "metadata": {},
   "outputs": [
    {
     "name": "stdout",
     "output_type": "stream",
     "text": [
      "week                           0.0\n",
      "category                       0.0\n",
      "weekly_rank                    0.0\n",
      "show_title                     0.0\n",
      "season_title                  51.3\n",
      "weekly_hours_viewed            0.0\n",
      "runtime                       67.1\n",
      "weekly_views                  67.1\n",
      "cumulative_weeks_in_top_10     0.0\n",
      "is_staggered_launch            0.0\n",
      "episode_launch_details        98.7\n",
      "gender                         0.0\n",
      "dtype: float64\n"
     ]
    }
   ],
   "source": [
    "# Verifica o percentural de valores nulos\n",
    "porcentagem_nulos = (df_global.isnull().sum() / len(df_global)) * 100\n",
    "\n",
    "print(round(porcentagem_nulos, 1))"
   ]
  },
  {
   "cell_type": "code",
   "execution_count": 106,
   "metadata": {},
   "outputs": [
    {
     "name": "stdout",
     "output_type": "stream",
     "text": [
      "<class 'pandas.core.frame.DataFrame'>\n",
      "RangeIndex: 6080 entries, 0 to 6079\n",
      "Data columns (total 8 columns):\n",
      " #   Column                      Non-Null Count  Dtype \n",
      "---  ------                      --------------  ----- \n",
      " 0   week                        6080 non-null   object\n",
      " 1   category                    6080 non-null   object\n",
      " 2   weekly_rank                 6080 non-null   int64 \n",
      " 3   show_title                  6080 non-null   object\n",
      " 4   weekly_hours_viewed         6080 non-null   int64 \n",
      " 5   cumulative_weeks_in_top_10  6080 non-null   int64 \n",
      " 6   is_staggered_launch         6080 non-null   bool  \n",
      " 7   gender                      6080 non-null   object\n",
      "dtypes: bool(1), int64(3), object(4)\n",
      "memory usage: 338.6+ KB\n"
     ]
    }
   ],
   "source": [
    "# Faz uma cópia do dataset completo para ficar de backup\n",
    "df_global_completo = df_global.copy()\n",
    "\n",
    "# Exclui a coluna selecionda\n",
    "df_global.drop(columns=['season_title', 'runtime', 'weekly_views', 'episode_launch_details'], inplace=True)\n",
    "df_global.info()"
   ]
  },
  {
   "cell_type": "markdown",
   "metadata": {},
   "source": [
    "## Tradução"
   ]
  },
  {
   "cell_type": "code",
   "execution_count": 107,
   "metadata": {},
   "outputs": [
    {
     "data": {
      "text/html": [
       "<div>\n",
       "<style scoped>\n",
       "    .dataframe tbody tr th:only-of-type {\n",
       "        vertical-align: middle;\n",
       "    }\n",
       "\n",
       "    .dataframe tbody tr th {\n",
       "        vertical-align: top;\n",
       "    }\n",
       "\n",
       "    .dataframe thead th {\n",
       "        text-align: right;\n",
       "    }\n",
       "</style>\n",
       "<table border=\"1\" class=\"dataframe\">\n",
       "  <thead>\n",
       "    <tr style=\"text-align: right;\">\n",
       "      <th></th>\n",
       "      <th>semana</th>\n",
       "      <th>categoria</th>\n",
       "      <th>rank_semanal</th>\n",
       "      <th>titulo</th>\n",
       "      <th>horas_semanais_visualizadas</th>\n",
       "      <th>semanas_acumuladas_top_10</th>\n",
       "      <th>lançamento_escalonado</th>\n",
       "      <th>gender</th>\n",
       "    </tr>\n",
       "  </thead>\n",
       "  <tbody>\n",
       "    <tr>\n",
       "      <th>0</th>\n",
       "      <td>2024-05-26</td>\n",
       "      <td>Films (English)</td>\n",
       "      <td>1</td>\n",
       "      <td>Atlas</td>\n",
       "      <td>56300000</td>\n",
       "      <td>1</td>\n",
       "      <td>False</td>\n",
       "      <td>Action, Adventure, Drama</td>\n",
       "    </tr>\n",
       "    <tr>\n",
       "      <th>1</th>\n",
       "      <td>2024-05-26</td>\n",
       "      <td>Films (English)</td>\n",
       "      <td>2</td>\n",
       "      <td>Thelma the Unicorn</td>\n",
       "      <td>17400000</td>\n",
       "      <td>2</td>\n",
       "      <td>False</td>\n",
       "      <td>Animation, Adventure, Comedy</td>\n",
       "    </tr>\n",
       "    <tr>\n",
       "      <th>2</th>\n",
       "      <td>2024-05-26</td>\n",
       "      <td>Films (English)</td>\n",
       "      <td>3</td>\n",
       "      <td>Ice Age: Dawn of the Dinosaurs</td>\n",
       "      <td>15100000</td>\n",
       "      <td>1</td>\n",
       "      <td>False</td>\n",
       "      <td>Animation, Adventure, Comedy</td>\n",
       "    </tr>\n",
       "    <tr>\n",
       "      <th>3</th>\n",
       "      <td>2024-05-26</td>\n",
       "      <td>Films (English)</td>\n",
       "      <td>4</td>\n",
       "      <td>Mother of the Bride</td>\n",
       "      <td>14000000</td>\n",
       "      <td>3</td>\n",
       "      <td>False</td>\n",
       "      <td>Comedy, Drama, Romance</td>\n",
       "    </tr>\n",
       "    <tr>\n",
       "      <th>4</th>\n",
       "      <td>2024-05-26</td>\n",
       "      <td>Films (English)</td>\n",
       "      <td>5</td>\n",
       "      <td>Disturbia</td>\n",
       "      <td>14100000</td>\n",
       "      <td>2</td>\n",
       "      <td>False</td>\n",
       "      <td>Crime, Drama, Mystery</td>\n",
       "    </tr>\n",
       "  </tbody>\n",
       "</table>\n",
       "</div>"
      ],
      "text/plain": [
       "       semana        categoria  rank_semanal                          titulo  \\\n",
       "0  2024-05-26  Films (English)             1                           Atlas   \n",
       "1  2024-05-26  Films (English)             2              Thelma the Unicorn   \n",
       "2  2024-05-26  Films (English)             3  Ice Age: Dawn of the Dinosaurs   \n",
       "3  2024-05-26  Films (English)             4             Mother of the Bride   \n",
       "4  2024-05-26  Films (English)             5                       Disturbia   \n",
       "\n",
       "   horas_semanais_visualizadas  semanas_acumuladas_top_10  \\\n",
       "0                     56300000                          1   \n",
       "1                     17400000                          2   \n",
       "2                     15100000                          1   \n",
       "3                     14000000                          3   \n",
       "4                     14100000                          2   \n",
       "\n",
       "   lançamento_escalonado                        gender  \n",
       "0                  False      Action, Adventure, Drama  \n",
       "1                  False  Animation, Adventure, Comedy  \n",
       "2                  False  Animation, Adventure, Comedy  \n",
       "3                  False        Comedy, Drama, Romance  \n",
       "4                  False         Crime, Drama, Mystery  "
      ]
     },
     "execution_count": 107,
     "metadata": {},
     "output_type": "execute_result"
    }
   ],
   "source": [
    "# Renomea as colunas para tradução e padronização\n",
    "df_global.rename(columns={\n",
    "    'week': 'semana',\n",
    "    'category': 'categoria',\n",
    "    'weekly_rank': 'rank_semanal',\n",
    "    'show_title': 'titulo',\n",
    "    'weekly_hours_viewed': 'horas_semanais_visualizadas',\n",
    "    'cumulative_weeks_in_top_10': 'semanas_acumuladas_top_10',\n",
    "    'is_staggered_launch': 'lançamento_escalonado',\n",
    "}, inplace=True)\n",
    "\n",
    "df_global.head()"
   ]
  },
  {
   "cell_type": "markdown",
   "metadata": {},
   "source": [
    "## Tipagem"
   ]
  },
  {
   "cell_type": "code",
   "execution_count": 108,
   "metadata": {},
   "outputs": [
    {
     "data": {
      "text/plain": [
       "semana                         datetime64[ns]\n",
       "categoria                              object\n",
       "rank_semanal                            int64\n",
       "titulo                                 object\n",
       "horas_semanais_visualizadas             int64\n",
       "semanas_acumuladas_top_10               int64\n",
       "lançamento_escalonado                    bool\n",
       "gender                                 object\n",
       "dtype: object"
      ]
     },
     "execution_count": 108,
     "metadata": {},
     "output_type": "execute_result"
    }
   ],
   "source": [
    "# Convertendo o tipo de dado para datetime\n",
    "df_global['semana'] = pd.to_datetime(df_global.semana)\n",
    "\n",
    "df_global.dtypes"
   ]
  },
  {
   "cell_type": "markdown",
   "metadata": {},
   "source": [
    "## Novas variáveis"
   ]
  },
  {
   "cell_type": "code",
   "execution_count": 109,
   "metadata": {},
   "outputs": [
    {
     "data": {
      "text/html": [
       "<div>\n",
       "<style scoped>\n",
       "    .dataframe tbody tr th:only-of-type {\n",
       "        vertical-align: middle;\n",
       "    }\n",
       "\n",
       "    .dataframe tbody tr th {\n",
       "        vertical-align: top;\n",
       "    }\n",
       "\n",
       "    .dataframe thead th {\n",
       "        text-align: right;\n",
       "    }\n",
       "</style>\n",
       "<table border=\"1\" class=\"dataframe\">\n",
       "  <thead>\n",
       "    <tr style=\"text-align: right;\">\n",
       "      <th></th>\n",
       "      <th>semana</th>\n",
       "      <th>categoria</th>\n",
       "      <th>rank_semanal</th>\n",
       "      <th>titulo</th>\n",
       "      <th>horas_semanais_visualizadas</th>\n",
       "      <th>semanas_acumuladas_top_10</th>\n",
       "      <th>lançamento_escalonado</th>\n",
       "      <th>gender</th>\n",
       "      <th>ano</th>\n",
       "      <th>mes</th>\n",
       "    </tr>\n",
       "  </thead>\n",
       "  <tbody>\n",
       "    <tr>\n",
       "      <th>0</th>\n",
       "      <td>2024-05-26</td>\n",
       "      <td>Films (English)</td>\n",
       "      <td>1</td>\n",
       "      <td>Atlas</td>\n",
       "      <td>56300000</td>\n",
       "      <td>1</td>\n",
       "      <td>False</td>\n",
       "      <td>Action, Adventure, Drama</td>\n",
       "      <td>2024</td>\n",
       "      <td>5</td>\n",
       "    </tr>\n",
       "    <tr>\n",
       "      <th>1</th>\n",
       "      <td>2024-05-26</td>\n",
       "      <td>Films (English)</td>\n",
       "      <td>2</td>\n",
       "      <td>Thelma the Unicorn</td>\n",
       "      <td>17400000</td>\n",
       "      <td>2</td>\n",
       "      <td>False</td>\n",
       "      <td>Animation, Adventure, Comedy</td>\n",
       "      <td>2024</td>\n",
       "      <td>5</td>\n",
       "    </tr>\n",
       "    <tr>\n",
       "      <th>2</th>\n",
       "      <td>2024-05-26</td>\n",
       "      <td>Films (English)</td>\n",
       "      <td>3</td>\n",
       "      <td>Ice Age: Dawn of the Dinosaurs</td>\n",
       "      <td>15100000</td>\n",
       "      <td>1</td>\n",
       "      <td>False</td>\n",
       "      <td>Animation, Adventure, Comedy</td>\n",
       "      <td>2024</td>\n",
       "      <td>5</td>\n",
       "    </tr>\n",
       "    <tr>\n",
       "      <th>3</th>\n",
       "      <td>2024-05-26</td>\n",
       "      <td>Films (English)</td>\n",
       "      <td>4</td>\n",
       "      <td>Mother of the Bride</td>\n",
       "      <td>14000000</td>\n",
       "      <td>3</td>\n",
       "      <td>False</td>\n",
       "      <td>Comedy, Drama, Romance</td>\n",
       "      <td>2024</td>\n",
       "      <td>5</td>\n",
       "    </tr>\n",
       "    <tr>\n",
       "      <th>4</th>\n",
       "      <td>2024-05-26</td>\n",
       "      <td>Films (English)</td>\n",
       "      <td>5</td>\n",
       "      <td>Disturbia</td>\n",
       "      <td>14100000</td>\n",
       "      <td>2</td>\n",
       "      <td>False</td>\n",
       "      <td>Crime, Drama, Mystery</td>\n",
       "      <td>2024</td>\n",
       "      <td>5</td>\n",
       "    </tr>\n",
       "  </tbody>\n",
       "</table>\n",
       "</div>"
      ],
      "text/plain": [
       "      semana        categoria  rank_semanal                          titulo  \\\n",
       "0 2024-05-26  Films (English)             1                           Atlas   \n",
       "1 2024-05-26  Films (English)             2              Thelma the Unicorn   \n",
       "2 2024-05-26  Films (English)             3  Ice Age: Dawn of the Dinosaurs   \n",
       "3 2024-05-26  Films (English)             4             Mother of the Bride   \n",
       "4 2024-05-26  Films (English)             5                       Disturbia   \n",
       "\n",
       "   horas_semanais_visualizadas  semanas_acumuladas_top_10  \\\n",
       "0                     56300000                          1   \n",
       "1                     17400000                          2   \n",
       "2                     15100000                          1   \n",
       "3                     14000000                          3   \n",
       "4                     14100000                          2   \n",
       "\n",
       "   lançamento_escalonado                        gender   ano  mes  \n",
       "0                  False      Action, Adventure, Drama  2024    5  \n",
       "1                  False  Animation, Adventure, Comedy  2024    5  \n",
       "2                  False  Animation, Adventure, Comedy  2024    5  \n",
       "3                  False        Comedy, Drama, Romance  2024    5  \n",
       "4                  False         Crime, Drama, Mystery  2024    5  "
      ]
     },
     "execution_count": 109,
     "metadata": {},
     "output_type": "execute_result"
    }
   ],
   "source": [
    "# Seleciona o dia/mês/ano da variável data\n",
    "df_global['ano'] = df_global['semana'].dt.year\n",
    "df_global['mes'] = df_global['semana'].dt.month\n",
    "\n",
    "df_global.head()"
   ]
  },
  {
   "cell_type": "code",
   "execution_count": 110,
   "metadata": {},
   "outputs": [
    {
     "data": {
      "text/plain": [
       "0        maio\n",
       "1        maio\n",
       "2        maio\n",
       "3        maio\n",
       "4        maio\n",
       "        ...  \n",
       "6075    julho\n",
       "6076    julho\n",
       "6077    julho\n",
       "6078    julho\n",
       "6079    julho\n",
       "Name: mes, Length: 6080, dtype: object"
      ]
     },
     "execution_count": 110,
     "metadata": {},
     "output_type": "execute_result"
    }
   ],
   "source": [
    "# Cria o dicionário para fazer a correspondência de valores, conforme definido abaixo\n",
    "meses = {\n",
    "    1: 'janeiro',\n",
    "    2: 'fevereiro',\n",
    "    3: 'março',\n",
    "    4: 'abril',\n",
    "    5: 'maio',\n",
    "    6: 'junho',\n",
    "    7: 'julho',\n",
    "    8: 'agosto',\n",
    "    9: 'setembro',\n",
    "    10: 'outubro',\n",
    "    11: 'novembro',\n",
    "    12: 'dezembro'\n",
    "}\n",
    "\n",
    "# Mapea todos campos da coluna, tendo como parâmetro a dicionário criado acima\n",
    "df_global.mes = df_global.mes.map(meses)\n",
    "df_global.mes"
   ]
  },
  {
   "cell_type": "markdown",
   "metadata": {},
   "source": [
    "## Integridade dos dados"
   ]
  },
  {
   "cell_type": "code",
   "execution_count": 111,
   "metadata": {},
   "outputs": [
    {
     "data": {
      "text/html": [
       "<div>\n",
       "<style scoped>\n",
       "    .dataframe tbody tr th:only-of-type {\n",
       "        vertical-align: middle;\n",
       "    }\n",
       "\n",
       "    .dataframe tbody tr th {\n",
       "        vertical-align: top;\n",
       "    }\n",
       "\n",
       "    .dataframe thead th {\n",
       "        text-align: right;\n",
       "    }\n",
       "</style>\n",
       "<table border=\"1\" class=\"dataframe\">\n",
       "  <thead>\n",
       "    <tr style=\"text-align: right;\">\n",
       "      <th></th>\n",
       "      <th>semana</th>\n",
       "      <th>categoria</th>\n",
       "      <th>rank_semanal</th>\n",
       "      <th>titulo</th>\n",
       "      <th>horas_semanais_visualizadas</th>\n",
       "      <th>semanas_acumuladas_top_10</th>\n",
       "      <th>lançamento_escalonado</th>\n",
       "      <th>gender</th>\n",
       "      <th>ano</th>\n",
       "      <th>mes</th>\n",
       "    </tr>\n",
       "  </thead>\n",
       "  <tbody>\n",
       "    <tr>\n",
       "      <th>0</th>\n",
       "      <td>2024-05-26</td>\n",
       "      <td>Films (English)</td>\n",
       "      <td>1</td>\n",
       "      <td>Atlas</td>\n",
       "      <td>56300000</td>\n",
       "      <td>1</td>\n",
       "      <td>False</td>\n",
       "      <td>Action, Adventure, Drama</td>\n",
       "      <td>2024</td>\n",
       "      <td>maio</td>\n",
       "    </tr>\n",
       "    <tr>\n",
       "      <th>1</th>\n",
       "      <td>2024-05-26</td>\n",
       "      <td>Films (English)</td>\n",
       "      <td>2</td>\n",
       "      <td>Thelma the Unicorn</td>\n",
       "      <td>17400000</td>\n",
       "      <td>2</td>\n",
       "      <td>False</td>\n",
       "      <td>Animation, Adventure, Comedy</td>\n",
       "      <td>2024</td>\n",
       "      <td>maio</td>\n",
       "    </tr>\n",
       "    <tr>\n",
       "      <th>2</th>\n",
       "      <td>2024-05-26</td>\n",
       "      <td>Films (English)</td>\n",
       "      <td>3</td>\n",
       "      <td>Ice Age: Dawn of the Dinosaurs</td>\n",
       "      <td>15100000</td>\n",
       "      <td>1</td>\n",
       "      <td>False</td>\n",
       "      <td>Animation, Adventure, Comedy</td>\n",
       "      <td>2024</td>\n",
       "      <td>maio</td>\n",
       "    </tr>\n",
       "    <tr>\n",
       "      <th>3</th>\n",
       "      <td>2024-05-26</td>\n",
       "      <td>Films (English)</td>\n",
       "      <td>4</td>\n",
       "      <td>Mother of the Bride</td>\n",
       "      <td>14000000</td>\n",
       "      <td>3</td>\n",
       "      <td>False</td>\n",
       "      <td>Comedy, Drama, Romance</td>\n",
       "      <td>2024</td>\n",
       "      <td>maio</td>\n",
       "    </tr>\n",
       "    <tr>\n",
       "      <th>4</th>\n",
       "      <td>2024-05-26</td>\n",
       "      <td>Films (English)</td>\n",
       "      <td>5</td>\n",
       "      <td>Disturbia</td>\n",
       "      <td>14100000</td>\n",
       "      <td>2</td>\n",
       "      <td>False</td>\n",
       "      <td>Crime, Drama, Mystery</td>\n",
       "      <td>2024</td>\n",
       "      <td>maio</td>\n",
       "    </tr>\n",
       "    <tr>\n",
       "      <th>...</th>\n",
       "      <td>...</td>\n",
       "      <td>...</td>\n",
       "      <td>...</td>\n",
       "      <td>...</td>\n",
       "      <td>...</td>\n",
       "      <td>...</td>\n",
       "      <td>...</td>\n",
       "      <td>...</td>\n",
       "      <td>...</td>\n",
       "      <td>...</td>\n",
       "    </tr>\n",
       "    <tr>\n",
       "      <th>6075</th>\n",
       "      <td>2021-07-04</td>\n",
       "      <td>TV (Non-English)</td>\n",
       "      <td>6</td>\n",
       "      <td>Elite</td>\n",
       "      <td>10530000</td>\n",
       "      <td>1</td>\n",
       "      <td>False</td>\n",
       "      <td>Crime, Drama, Thriller</td>\n",
       "      <td>2021</td>\n",
       "      <td>julho</td>\n",
       "    </tr>\n",
       "    <tr>\n",
       "      <th>6076</th>\n",
       "      <td>2021-07-04</td>\n",
       "      <td>TV (Non-English)</td>\n",
       "      <td>7</td>\n",
       "      <td>Elite</td>\n",
       "      <td>10200000</td>\n",
       "      <td>1</td>\n",
       "      <td>False</td>\n",
       "      <td>Crime, Drama, Thriller</td>\n",
       "      <td>2021</td>\n",
       "      <td>julho</td>\n",
       "    </tr>\n",
       "    <tr>\n",
       "      <th>6077</th>\n",
       "      <td>2021-07-04</td>\n",
       "      <td>TV (Non-English)</td>\n",
       "      <td>8</td>\n",
       "      <td>Elite</td>\n",
       "      <td>10140000</td>\n",
       "      <td>1</td>\n",
       "      <td>False</td>\n",
       "      <td>Crime, Drama, Thriller</td>\n",
       "      <td>2021</td>\n",
       "      <td>julho</td>\n",
       "    </tr>\n",
       "    <tr>\n",
       "      <th>6078</th>\n",
       "      <td>2021-07-04</td>\n",
       "      <td>TV (Non-English)</td>\n",
       "      <td>9</td>\n",
       "      <td>Katla</td>\n",
       "      <td>9190000</td>\n",
       "      <td>1</td>\n",
       "      <td>False</td>\n",
       "      <td>Drama, Fantasy, Mystery</td>\n",
       "      <td>2021</td>\n",
       "      <td>julho</td>\n",
       "    </tr>\n",
       "    <tr>\n",
       "      <th>6079</th>\n",
       "      <td>2021-07-04</td>\n",
       "      <td>TV (Non-English)</td>\n",
       "      <td>10</td>\n",
       "      <td>Record of Ragnarok</td>\n",
       "      <td>9140000</td>\n",
       "      <td>1</td>\n",
       "      <td>False</td>\n",
       "      <td>Animation, Action, Adventure</td>\n",
       "      <td>2021</td>\n",
       "      <td>julho</td>\n",
       "    </tr>\n",
       "  </tbody>\n",
       "</table>\n",
       "<p>6080 rows × 10 columns</p>\n",
       "</div>"
      ],
      "text/plain": [
       "         semana         categoria  rank_semanal  \\\n",
       "0    2024-05-26   Films (English)             1   \n",
       "1    2024-05-26   Films (English)             2   \n",
       "2    2024-05-26   Films (English)             3   \n",
       "3    2024-05-26   Films (English)             4   \n",
       "4    2024-05-26   Films (English)             5   \n",
       "...         ...               ...           ...   \n",
       "6075 2021-07-04  TV (Non-English)             6   \n",
       "6076 2021-07-04  TV (Non-English)             7   \n",
       "6077 2021-07-04  TV (Non-English)             8   \n",
       "6078 2021-07-04  TV (Non-English)             9   \n",
       "6079 2021-07-04  TV (Non-English)            10   \n",
       "\n",
       "                              titulo  horas_semanais_visualizadas  \\\n",
       "0                              Atlas                     56300000   \n",
       "1                 Thelma the Unicorn                     17400000   \n",
       "2     Ice Age: Dawn of the Dinosaurs                     15100000   \n",
       "3                Mother of the Bride                     14000000   \n",
       "4                          Disturbia                     14100000   \n",
       "...                              ...                          ...   \n",
       "6075                           Elite                     10530000   \n",
       "6076                           Elite                     10200000   \n",
       "6077                           Elite                     10140000   \n",
       "6078                           Katla                      9190000   \n",
       "6079              Record of Ragnarok                      9140000   \n",
       "\n",
       "      semanas_acumuladas_top_10  lançamento_escalonado  \\\n",
       "0                             1                  False   \n",
       "1                             2                  False   \n",
       "2                             1                  False   \n",
       "3                             3                  False   \n",
       "4                             2                  False   \n",
       "...                         ...                    ...   \n",
       "6075                          1                  False   \n",
       "6076                          1                  False   \n",
       "6077                          1                  False   \n",
       "6078                          1                  False   \n",
       "6079                          1                  False   \n",
       "\n",
       "                            gender   ano    mes  \n",
       "0         Action, Adventure, Drama  2024   maio  \n",
       "1     Animation, Adventure, Comedy  2024   maio  \n",
       "2     Animation, Adventure, Comedy  2024   maio  \n",
       "3           Comedy, Drama, Romance  2024   maio  \n",
       "4            Crime, Drama, Mystery  2024   maio  \n",
       "...                            ...   ...    ...  \n",
       "6075        Crime, Drama, Thriller  2021  julho  \n",
       "6076        Crime, Drama, Thriller  2021  julho  \n",
       "6077        Crime, Drama, Thriller  2021  julho  \n",
       "6078       Drama, Fantasy, Mystery  2021  julho  \n",
       "6079  Animation, Action, Adventure  2021  julho  \n",
       "\n",
       "[6080 rows x 10 columns]"
      ]
     },
     "execution_count": 111,
     "metadata": {},
     "output_type": "execute_result"
    }
   ],
   "source": [
    "# Define schema de validação\n",
    "schema = pa.DataFrameSchema({\n",
    "    'semana': pa.Column(pa.DateTime),\n",
    "    'categoria': pa.Column(pa.String),\n",
    "    'rank_semanal': pa.Column(pa.Int),\n",
    "    'titulo': pa.Column(pa.String),\n",
    "    'horas_semanais_visualizadas': pa.Column(pa.Int),\n",
    "    'semanas_acumuladas_top_10': pa.Column(pa.Int),\n",
    "    'lançamento_escalonado': pa.Column(pa.Bool),\n",
    "    'ano': pa.Column(pa.Int32),\n",
    "    'mes': pa.Column(pa.String)\n",
    "})\n",
    "\n",
    "# Validar o dataframe\n",
    "schema.validate(df_global)"
   ]
  },
  {
   "cell_type": "markdown",
   "metadata": {},
   "source": [
    "## Enriquecendo o Dataset Neflix Global"
   ]
  },
  {
   "cell_type": "markdown",
   "metadata": {},
   "source": [
    "### Visando enriquecer a análise extraímos alguns dados do gênero dos filmes/séries de uma outra fonte: https://www.omdbapi.com/"
   ]
  },
  {
   "cell_type": "code",
   "execution_count": null,
   "metadata": {},
   "outputs": [],
   "source": [
    "# Extraindo os nomes de todos os títulos de filmes e séries do Netflix em uma lista\n",
    "unique_show = df_global['titulo'].unique()"
   ]
  },
  {
   "cell_type": "markdown",
   "metadata": {},
   "source": [
    "#### Vamos criar aqui um dicionário cujas chaves serão os títulos dos filmes e séries e os valores serão o gênero respectivo recebido da aplicação."
   ]
  },
  {
   "cell_type": "code",
   "execution_count": null,
   "metadata": {},
   "outputs": [],
   "source": [
    "title_gender_dict: dict = {}\n",
    "\n",
    "for title in unique_show:\n",
    "    title_gender_dict[title] = \"\""
   ]
  },
  {
   "cell_type": "markdown",
   "metadata": {},
   "source": [
    "#### A função abaixo permite integrar com a API do serviço WEB descrito acima. Vamos solicitar o gênero de cada título via requisição http."
   ]
  },
  {
   "cell_type": "code",
   "execution_count": null,
   "metadata": {},
   "outputs": [],
   "source": [
    "import requests\n",
    "\n",
    "def get_movie_genre(api_key, title):\n",
    "    url = f\"http://www.omdbapi.com/?apikey={api_key}&t={title}\"\n",
    "    response = requests.get(url)\n",
    "    if response.status_code == 200:\n",
    "        data = response.json()\n",
    "        if 'Genre' in data:\n",
    "            return data['Genre']\n",
    "        else:\n",
    "            print(f\"Genre not found for title: {title}\")\n",
    "            return \"\"\n",
    "    else:\n",
    "        print(f\"Error: Unable to fetch data (status code: {response.status_code})\")\n",
    "        return \"\""
   ]
  },
  {
   "cell_type": "markdown",
   "metadata": {},
   "source": [
    "#### Após o cadastro e a integração com a aplicação (API) da fonte, foi possível extrair o gênero de cada filme"
   ]
  },
  {
   "cell_type": "code",
   "execution_count": null,
   "metadata": {},
   "outputs": [],
   "source": [
    "# Coloque a sua chave de API com o seu atual OMDb API key\n",
    "api_key = 'XXXXX'\n",
    "\n",
    "# Solicite a informação do gênero para cada título, uma requisição por vez\n",
    "for title, value in title_gender_dict.items():\n",
    "    print(50*\"-\")\n",
    "    print(f\"title: {title}, value: {value}\") \n",
    "    genre = get_movie_genre(api_key, title)\n",
    "    print(f\"The genre of '{title}' is: {genre}\")\n",
    "    title_gender_dict[title] = genre"
   ]
  },
  {
   "cell_type": "code",
   "execution_count": null,
   "metadata": {},
   "outputs": [],
   "source": [
    "# Criando uma função para definir os valores de gênero por título\n",
    "def categorize_gender(x):\n",
    "    return title_gender_dict[x]"
   ]
  },
  {
   "cell_type": "code",
   "execution_count": null,
   "metadata": {},
   "outputs": [],
   "source": [
    "# Criando a coluna genero com os dados recebidos via API\n",
    "df_global['genero'] = df_global['titulo'].apply(categorize_gender)"
   ]
  },
  {
   "cell_type": "code",
   "execution_count": 116,
   "metadata": {},
   "outputs": [],
   "source": [
    "# Criando um arquivo CSV com os dados de genero de filme/série\n",
    "output_file_path = 'neflix_global_dataset_with_gender_tratado_final.csv'\n",
    "df_global.to_csv(output_file_path, index=False)"
   ]
  },
  {
   "cell_type": "code",
   "execution_count": 118,
   "metadata": {},
   "outputs": [],
   "source": [
    "# Lendo novamente o dataset tratado\n",
    "df_global = pd.read_csv('neflix_global_dataset_with_gender_tratado_final.csv')"
   ]
  },
  {
   "cell_type": "code",
   "execution_count": 119,
   "metadata": {},
   "outputs": [
    {
     "data": {
      "text/html": [
       "<div>\n",
       "<style scoped>\n",
       "    .dataframe tbody tr th:only-of-type {\n",
       "        vertical-align: middle;\n",
       "    }\n",
       "\n",
       "    .dataframe tbody tr th {\n",
       "        vertical-align: top;\n",
       "    }\n",
       "\n",
       "    .dataframe thead th {\n",
       "        text-align: right;\n",
       "    }\n",
       "</style>\n",
       "<table border=\"1\" class=\"dataframe\">\n",
       "  <thead>\n",
       "    <tr style=\"text-align: right;\">\n",
       "      <th></th>\n",
       "      <th>semana</th>\n",
       "      <th>categoria</th>\n",
       "      <th>rank_semanal</th>\n",
       "      <th>titulo</th>\n",
       "      <th>horas_semanais_visualizadas</th>\n",
       "      <th>semanas_acumuladas_top_10</th>\n",
       "      <th>lançamento_escalonado</th>\n",
       "      <th>genero</th>\n",
       "      <th>ano</th>\n",
       "      <th>mes</th>\n",
       "    </tr>\n",
       "  </thead>\n",
       "  <tbody>\n",
       "    <tr>\n",
       "      <th>0</th>\n",
       "      <td>2024-05-26</td>\n",
       "      <td>Films (English)</td>\n",
       "      <td>1</td>\n",
       "      <td>Atlas</td>\n",
       "      <td>56300000</td>\n",
       "      <td>1</td>\n",
       "      <td>False</td>\n",
       "      <td>Action, Adventure, Drama</td>\n",
       "      <td>2024</td>\n",
       "      <td>maio</td>\n",
       "    </tr>\n",
       "    <tr>\n",
       "      <th>1</th>\n",
       "      <td>2024-05-26</td>\n",
       "      <td>Films (English)</td>\n",
       "      <td>2</td>\n",
       "      <td>Thelma the Unicorn</td>\n",
       "      <td>17400000</td>\n",
       "      <td>2</td>\n",
       "      <td>False</td>\n",
       "      <td>Animation, Adventure, Comedy</td>\n",
       "      <td>2024</td>\n",
       "      <td>maio</td>\n",
       "    </tr>\n",
       "    <tr>\n",
       "      <th>2</th>\n",
       "      <td>2024-05-26</td>\n",
       "      <td>Films (English)</td>\n",
       "      <td>3</td>\n",
       "      <td>Ice Age: Dawn of the Dinosaurs</td>\n",
       "      <td>15100000</td>\n",
       "      <td>1</td>\n",
       "      <td>False</td>\n",
       "      <td>Animation, Adventure, Comedy</td>\n",
       "      <td>2024</td>\n",
       "      <td>maio</td>\n",
       "    </tr>\n",
       "    <tr>\n",
       "      <th>3</th>\n",
       "      <td>2024-05-26</td>\n",
       "      <td>Films (English)</td>\n",
       "      <td>4</td>\n",
       "      <td>Mother of the Bride</td>\n",
       "      <td>14000000</td>\n",
       "      <td>3</td>\n",
       "      <td>False</td>\n",
       "      <td>Comedy, Drama, Romance</td>\n",
       "      <td>2024</td>\n",
       "      <td>maio</td>\n",
       "    </tr>\n",
       "    <tr>\n",
       "      <th>4</th>\n",
       "      <td>2024-05-26</td>\n",
       "      <td>Films (English)</td>\n",
       "      <td>5</td>\n",
       "      <td>Disturbia</td>\n",
       "      <td>14100000</td>\n",
       "      <td>2</td>\n",
       "      <td>False</td>\n",
       "      <td>Crime, Drama, Mystery</td>\n",
       "      <td>2024</td>\n",
       "      <td>maio</td>\n",
       "    </tr>\n",
       "    <tr>\n",
       "      <th>5</th>\n",
       "      <td>2024-05-26</td>\n",
       "      <td>Films (English)</td>\n",
       "      <td>6</td>\n",
       "      <td>Sing 2</td>\n",
       "      <td>13900000</td>\n",
       "      <td>10</td>\n",
       "      <td>False</td>\n",
       "      <td>Animation, Adventure, Comedy</td>\n",
       "      <td>2024</td>\n",
       "      <td>maio</td>\n",
       "    </tr>\n",
       "    <tr>\n",
       "      <th>6</th>\n",
       "      <td>2024-05-26</td>\n",
       "      <td>Films (English)</td>\n",
       "      <td>7</td>\n",
       "      <td>Ice Age: Collision Course</td>\n",
       "      <td>11700000</td>\n",
       "      <td>1</td>\n",
       "      <td>False</td>\n",
       "      <td>Animation, Adventure, Comedy</td>\n",
       "      <td>2024</td>\n",
       "      <td>maio</td>\n",
       "    </tr>\n",
       "    <tr>\n",
       "      <th>7</th>\n",
       "      <td>2024-05-26</td>\n",
       "      <td>Films (English)</td>\n",
       "      <td>8</td>\n",
       "      <td>A Simple Favor</td>\n",
       "      <td>12200000</td>\n",
       "      <td>1</td>\n",
       "      <td>False</td>\n",
       "      <td>Comedy, Crime, Mystery</td>\n",
       "      <td>2024</td>\n",
       "      <td>maio</td>\n",
       "    </tr>\n",
       "    <tr>\n",
       "      <th>8</th>\n",
       "      <td>2024-05-26</td>\n",
       "      <td>Films (English)</td>\n",
       "      <td>9</td>\n",
       "      <td>Madame Web</td>\n",
       "      <td>11900000</td>\n",
       "      <td>2</td>\n",
       "      <td>False</td>\n",
       "      <td>Action, Adventure, Sci-Fi</td>\n",
       "      <td>2024</td>\n",
       "      <td>maio</td>\n",
       "    </tr>\n",
       "    <tr>\n",
       "      <th>9</th>\n",
       "      <td>2024-05-26</td>\n",
       "      <td>Films (English)</td>\n",
       "      <td>10</td>\n",
       "      <td>Security</td>\n",
       "      <td>5100000</td>\n",
       "      <td>3</td>\n",
       "      <td>False</td>\n",
       "      <td>Action, Crime, Thriller</td>\n",
       "      <td>2024</td>\n",
       "      <td>maio</td>\n",
       "    </tr>\n",
       "  </tbody>\n",
       "</table>\n",
       "</div>"
      ],
      "text/plain": [
       "       semana        categoria  rank_semanal                          titulo  \\\n",
       "0  2024-05-26  Films (English)             1                           Atlas   \n",
       "1  2024-05-26  Films (English)             2              Thelma the Unicorn   \n",
       "2  2024-05-26  Films (English)             3  Ice Age: Dawn of the Dinosaurs   \n",
       "3  2024-05-26  Films (English)             4             Mother of the Bride   \n",
       "4  2024-05-26  Films (English)             5                       Disturbia   \n",
       "5  2024-05-26  Films (English)             6                          Sing 2   \n",
       "6  2024-05-26  Films (English)             7       Ice Age: Collision Course   \n",
       "7  2024-05-26  Films (English)             8                  A Simple Favor   \n",
       "8  2024-05-26  Films (English)             9                      Madame Web   \n",
       "9  2024-05-26  Films (English)            10                        Security   \n",
       "\n",
       "   horas_semanais_visualizadas  semanas_acumuladas_top_10  \\\n",
       "0                     56300000                          1   \n",
       "1                     17400000                          2   \n",
       "2                     15100000                          1   \n",
       "3                     14000000                          3   \n",
       "4                     14100000                          2   \n",
       "5                     13900000                         10   \n",
       "6                     11700000                          1   \n",
       "7                     12200000                          1   \n",
       "8                     11900000                          2   \n",
       "9                      5100000                          3   \n",
       "\n",
       "   lançamento_escalonado                        genero   ano   mes  \n",
       "0                  False      Action, Adventure, Drama  2024  maio  \n",
       "1                  False  Animation, Adventure, Comedy  2024  maio  \n",
       "2                  False  Animation, Adventure, Comedy  2024  maio  \n",
       "3                  False        Comedy, Drama, Romance  2024  maio  \n",
       "4                  False         Crime, Drama, Mystery  2024  maio  \n",
       "5                  False  Animation, Adventure, Comedy  2024  maio  \n",
       "6                  False  Animation, Adventure, Comedy  2024  maio  \n",
       "7                  False        Comedy, Crime, Mystery  2024  maio  \n",
       "8                  False     Action, Adventure, Sci-Fi  2024  maio  \n",
       "9                  False       Action, Crime, Thriller  2024  maio  "
      ]
     },
     "execution_count": 119,
     "metadata": {},
     "output_type": "execute_result"
    }
   ],
   "source": [
    "df_global.head(10)"
   ]
  },
  {
   "cell_type": "markdown",
   "metadata": {},
   "source": [
    "## Visão geral dos dados Netflix de Países"
   ]
  },
  {
   "cell_type": "code",
   "execution_count": 32,
   "metadata": {},
   "outputs": [
    {
     "data": {
      "text/plain": [
       "Index(['country_name', 'country_iso2', 'week', 'category', 'weekly_rank',\n",
       "       'show_title', 'season_title', 'cumulative_weeks_in_top_10'],\n",
       "      dtype='object')"
      ]
     },
     "execution_count": 32,
     "metadata": {},
     "output_type": "execute_result"
    }
   ],
   "source": [
    "# Mostra todas as colunas do dataframe\n",
    "df_countries.columns"
   ]
  },
  {
   "cell_type": "code",
   "execution_count": 33,
   "metadata": {},
   "outputs": [
    {
     "name": "stdout",
     "output_type": "stream",
     "text": [
      "<class 'pandas.core.frame.DataFrame'>\n",
      "RangeIndex: 283420 entries, 0 to 283419\n",
      "Data columns (total 8 columns):\n",
      " #   Column                      Non-Null Count   Dtype \n",
      "---  ------                      --------------   ----- \n",
      " 0   country_name                283420 non-null  object\n",
      " 1   country_iso2                283420 non-null  object\n",
      " 2   week                        283420 non-null  object\n",
      " 3   category                    283420 non-null  object\n",
      " 4   weekly_rank                 283420 non-null  int64 \n",
      " 5   show_title                  283420 non-null  object\n",
      " 6   season_title                138659 non-null  object\n",
      " 7   cumulative_weeks_in_top_10  283420 non-null  int64 \n",
      "dtypes: int64(2), object(6)\n",
      "memory usage: 17.3+ MB\n"
     ]
    }
   ],
   "source": [
    "# Mostra um resumo conciso do dataframe\n",
    "df_countries.info()"
   ]
  },
  {
   "cell_type": "code",
   "execution_count": 34,
   "metadata": {},
   "outputs": [
    {
     "data": {
      "text/html": [
       "<div>\n",
       "<style scoped>\n",
       "    .dataframe tbody tr th:only-of-type {\n",
       "        vertical-align: middle;\n",
       "    }\n",
       "\n",
       "    .dataframe tbody tr th {\n",
       "        vertical-align: top;\n",
       "    }\n",
       "\n",
       "    .dataframe thead th {\n",
       "        text-align: right;\n",
       "    }\n",
       "</style>\n",
       "<table border=\"1\" class=\"dataframe\">\n",
       "  <thead>\n",
       "    <tr style=\"text-align: right;\">\n",
       "      <th></th>\n",
       "      <th>country_name</th>\n",
       "      <th>country_iso2</th>\n",
       "      <th>week</th>\n",
       "      <th>category</th>\n",
       "      <th>weekly_rank</th>\n",
       "      <th>show_title</th>\n",
       "      <th>season_title</th>\n",
       "      <th>cumulative_weeks_in_top_10</th>\n",
       "    </tr>\n",
       "  </thead>\n",
       "  <tbody>\n",
       "    <tr>\n",
       "      <th>0</th>\n",
       "      <td>Argentina</td>\n",
       "      <td>AR</td>\n",
       "      <td>2024-05-26</td>\n",
       "      <td>Films</td>\n",
       "      <td>1</td>\n",
       "      <td>Sing 2</td>\n",
       "      <td>NaN</td>\n",
       "      <td>1</td>\n",
       "    </tr>\n",
       "    <tr>\n",
       "      <th>1</th>\n",
       "      <td>Argentina</td>\n",
       "      <td>AR</td>\n",
       "      <td>2024-05-26</td>\n",
       "      <td>Films</td>\n",
       "      <td>2</td>\n",
       "      <td>Atlas</td>\n",
       "      <td>NaN</td>\n",
       "      <td>1</td>\n",
       "    </tr>\n",
       "    <tr>\n",
       "      <th>2</th>\n",
       "      <td>Argentina</td>\n",
       "      <td>AR</td>\n",
       "      <td>2024-05-26</td>\n",
       "      <td>Films</td>\n",
       "      <td>3</td>\n",
       "      <td>Ice Age: Dawn of the Dinosaurs</td>\n",
       "      <td>NaN</td>\n",
       "      <td>1</td>\n",
       "    </tr>\n",
       "    <tr>\n",
       "      <th>3</th>\n",
       "      <td>Argentina</td>\n",
       "      <td>AR</td>\n",
       "      <td>2024-05-26</td>\n",
       "      <td>Films</td>\n",
       "      <td>4</td>\n",
       "      <td>In Good Hands 2</td>\n",
       "      <td>NaN</td>\n",
       "      <td>1</td>\n",
       "    </tr>\n",
       "    <tr>\n",
       "      <th>4</th>\n",
       "      <td>Argentina</td>\n",
       "      <td>AR</td>\n",
       "      <td>2024-05-26</td>\n",
       "      <td>Films</td>\n",
       "      <td>5</td>\n",
       "      <td>Daddy Daughter Trip</td>\n",
       "      <td>NaN</td>\n",
       "      <td>2</td>\n",
       "    </tr>\n",
       "    <tr>\n",
       "      <th>...</th>\n",
       "      <td>...</td>\n",
       "      <td>...</td>\n",
       "      <td>...</td>\n",
       "      <td>...</td>\n",
       "      <td>...</td>\n",
       "      <td>...</td>\n",
       "      <td>...</td>\n",
       "      <td>...</td>\n",
       "    </tr>\n",
       "    <tr>\n",
       "      <th>283415</th>\n",
       "      <td>Vietnam</td>\n",
       "      <td>VN</td>\n",
       "      <td>2021-07-04</td>\n",
       "      <td>TV</td>\n",
       "      <td>6</td>\n",
       "      <td>Reply 1988</td>\n",
       "      <td>Reply 1988: Season 1</td>\n",
       "      <td>1</td>\n",
       "    </tr>\n",
       "    <tr>\n",
       "      <th>283416</th>\n",
       "      <td>Vietnam</td>\n",
       "      <td>VN</td>\n",
       "      <td>2021-07-04</td>\n",
       "      <td>TV</td>\n",
       "      <td>7</td>\n",
       "      <td>Nevertheless,</td>\n",
       "      <td>Nevertheless,: Limited Series</td>\n",
       "      <td>1</td>\n",
       "    </tr>\n",
       "    <tr>\n",
       "      <th>283417</th>\n",
       "      <td>Vietnam</td>\n",
       "      <td>VN</td>\n",
       "      <td>2021-07-04</td>\n",
       "      <td>TV</td>\n",
       "      <td>8</td>\n",
       "      <td>Too Hot to Handle</td>\n",
       "      <td>Too Hot to Handle: Season 2</td>\n",
       "      <td>1</td>\n",
       "    </tr>\n",
       "    <tr>\n",
       "      <th>283418</th>\n",
       "      <td>Vietnam</td>\n",
       "      <td>VN</td>\n",
       "      <td>2021-07-04</td>\n",
       "      <td>TV</td>\n",
       "      <td>9</td>\n",
       "      <td>Record of Ragnarok</td>\n",
       "      <td>Record of Ragnarok: Season 1</td>\n",
       "      <td>1</td>\n",
       "    </tr>\n",
       "    <tr>\n",
       "      <th>283419</th>\n",
       "      <td>Vietnam</td>\n",
       "      <td>VN</td>\n",
       "      <td>2021-07-04</td>\n",
       "      <td>TV</td>\n",
       "      <td>10</td>\n",
       "      <td>Crash Landing on You</td>\n",
       "      <td>Crash Landing on You: Limited Series</td>\n",
       "      <td>1</td>\n",
       "    </tr>\n",
       "  </tbody>\n",
       "</table>\n",
       "<p>283420 rows × 8 columns</p>\n",
       "</div>"
      ],
      "text/plain": [
       "       country_name country_iso2        week category  weekly_rank  \\\n",
       "0         Argentina           AR  2024-05-26    Films            1   \n",
       "1         Argentina           AR  2024-05-26    Films            2   \n",
       "2         Argentina           AR  2024-05-26    Films            3   \n",
       "3         Argentina           AR  2024-05-26    Films            4   \n",
       "4         Argentina           AR  2024-05-26    Films            5   \n",
       "...             ...          ...         ...      ...          ...   \n",
       "283415      Vietnam           VN  2021-07-04       TV            6   \n",
       "283416      Vietnam           VN  2021-07-04       TV            7   \n",
       "283417      Vietnam           VN  2021-07-04       TV            8   \n",
       "283418      Vietnam           VN  2021-07-04       TV            9   \n",
       "283419      Vietnam           VN  2021-07-04       TV           10   \n",
       "\n",
       "                            show_title                          season_title  \\\n",
       "0                               Sing 2                                   NaN   \n",
       "1                                Atlas                                   NaN   \n",
       "2       Ice Age: Dawn of the Dinosaurs                                   NaN   \n",
       "3                      In Good Hands 2                                   NaN   \n",
       "4                  Daddy Daughter Trip                                   NaN   \n",
       "...                                ...                                   ...   \n",
       "283415                      Reply 1988                  Reply 1988: Season 1   \n",
       "283416                   Nevertheless,         Nevertheless,: Limited Series   \n",
       "283417               Too Hot to Handle           Too Hot to Handle: Season 2   \n",
       "283418              Record of Ragnarok          Record of Ragnarok: Season 1   \n",
       "283419            Crash Landing on You  Crash Landing on You: Limited Series   \n",
       "\n",
       "        cumulative_weeks_in_top_10  \n",
       "0                                1  \n",
       "1                                1  \n",
       "2                                1  \n",
       "3                                1  \n",
       "4                                2  \n",
       "...                            ...  \n",
       "283415                           1  \n",
       "283416                           1  \n",
       "283417                           1  \n",
       "283418                           1  \n",
       "283419                           1  \n",
       "\n",
       "[283420 rows x 8 columns]"
      ]
     },
     "execution_count": 34,
     "metadata": {},
     "output_type": "execute_result"
    }
   ],
   "source": [
    "# Mostra um resumo do dataframe, com os 5 primeiros e últimos registros e total de linhas e colunas\n",
    "df_countries"
   ]
  },
  {
   "cell_type": "markdown",
   "metadata": {},
   "source": [
    "## Valores únicos"
   ]
  },
  {
   "cell_type": "code",
   "execution_count": 31,
   "metadata": {},
   "outputs": [
    {
     "name": "stdout",
     "output_type": "stream",
     "text": [
      "['Argentina' 'Australia' 'Austria' 'Bahamas' 'Bahrain' 'Bangladesh'\n",
      " 'Belgium' 'Bolivia' 'Brazil' 'Bulgaria' 'Canada' 'Chile' 'Colombia'\n",
      " 'Costa Rica' 'Croatia' 'Cyprus' 'Czech Republic' 'Denmark'\n",
      " 'Dominican Republic' 'Ecuador' 'Egypt' 'El Salvador' 'Estonia' 'Finland'\n",
      " 'France' 'Germany' 'Greece' 'Guadeloupe' 'Guatemala' 'Honduras'\n",
      " 'Hong Kong' 'Hungary' 'Iceland' 'India' 'Indonesia' 'Ireland' 'Israel'\n",
      " 'Italy' 'Jamaica' 'Japan' 'Jordan' 'Kenya' 'Kuwait' 'Latvia' 'Lebanon'\n",
      " 'Lithuania' 'Luxembourg' 'Malaysia' 'Maldives' 'Malta' 'Martinique'\n",
      " 'Mauritius' 'Mexico' 'Morocco' 'Netherlands' 'New Caledonia'\n",
      " 'New Zealand' 'Nicaragua' 'Nigeria' 'Norway' 'Oman' 'Pakistan' 'Panama'\n",
      " 'Paraguay' 'Peru' 'Philippines' 'Poland' 'Portugal' 'Qatar' 'Romania'\n",
      " 'Russia' 'Réunion' 'Saudi Arabia' 'Serbia' 'Singapore' 'Slovakia'\n",
      " 'Slovenia' 'South Africa' 'South Korea' 'Spain' 'Sri Lanka' 'Sweden'\n",
      " 'Switzerland' 'Taiwan' 'Thailand' 'Trinidad and Tobago' 'Turkey'\n",
      " 'Ukraine' 'United Arab Emirates' 'United Kingdom' 'United States'\n",
      " 'Uruguay' 'Venezuela' 'Vietnam']\n"
     ]
    }
   ],
   "source": [
    "# Mostra os valores únicos da coluna selecionadas\n",
    "print(df_countries['country_name'].unique())"
   ]
  },
  {
   "cell_type": "code",
   "execution_count": 35,
   "metadata": {},
   "outputs": [
    {
     "name": "stdout",
     "output_type": "stream",
     "text": [
      "['AR' 'AU' 'AT' 'BS' 'BH' 'BD' 'BE' 'BO' 'BR' 'BG' 'CA' 'CL' 'CO' 'CR'\n",
      " 'HR' 'CY' 'CZ' 'DK' 'DO' 'EC' 'EG' 'SV' 'EE' 'FI' 'FR' 'DE' 'GR' 'GP'\n",
      " 'GT' 'HN' 'HK' 'HU' 'IS' 'IN' 'ID' 'IE' 'IL' 'IT' 'JM' 'JP' 'JO' 'KE'\n",
      " 'KW' 'LV' 'LB' 'LT' 'LU' 'MY' 'MV' 'MT' 'MQ' 'MU' 'MX' 'MA' 'NL' 'NC'\n",
      " 'NZ' 'NI' 'NG' 'NO' 'OM' 'PK' 'PA' 'PY' 'PE' 'PH' 'PL' 'PT' 'QA' 'RO'\n",
      " 'RU' 'RE' 'SA' 'RS' 'SG' 'SK' 'SI' 'ZA' 'KR' 'ES' 'LK' 'SE' 'CH' 'TW'\n",
      " 'TH' 'TT' 'TR' 'UA' 'AE' 'GB' 'US' 'UY' 'VE' 'VN']\n"
     ]
    }
   ],
   "source": [
    "# Mostra os valores únicos da coluna selecionadas\n",
    "print(df_countries['country_iso2'].unique())"
   ]
  },
  {
   "cell_type": "code",
   "execution_count": 36,
   "metadata": {},
   "outputs": [
    {
     "name": "stdout",
     "output_type": "stream",
     "text": [
      "['Films' 'TV']\n"
     ]
    }
   ],
   "source": [
    "# Mostra os valores únicos da coluna selecionadas\n",
    "print(df_countries['category'].unique())"
   ]
  },
  {
   "cell_type": "code",
   "execution_count": 37,
   "metadata": {},
   "outputs": [
    {
     "name": "stdout",
     "output_type": "stream",
     "text": [
      "[ 1  2  3  4  5  6  7  8  9 10]\n"
     ]
    }
   ],
   "source": [
    "# Mostra os valores únicos da coluna selecionadas\n",
    "print(df_countries['weekly_rank'].unique())"
   ]
  },
  {
   "cell_type": "code",
   "execution_count": 38,
   "metadata": {},
   "outputs": [
    {
     "name": "stdout",
     "output_type": "stream",
     "text": [
      "[  1   2   3   5   6   7   4  10   8  82  21  20  81  19  80  18  79  17\n",
      "  78   9  16  15  14  77  13  76  25  12  24  75  11  23  74  22  73  72\n",
      "  71  70  69  68  67  66  65  31  64  63  62  61  60  59  58  57  56  55\n",
      "  54  30  53  29  52  28  51  27  26  50  49  48  47  46  45  44  43  42\n",
      "  41  40  39  38  37  36  35  34  33  32  83  93  92  91  90  89  88  87\n",
      "  86  85  84 102 101 100  99  98  97  96  95  94 113 112 111 110 109 108\n",
      " 107 106 105 104 103]\n"
     ]
    }
   ],
   "source": [
    "# Mostra os valores únicos da coluna selecionadas\n",
    "print(df_countries['cumulative_weeks_in_top_10'].unique())"
   ]
  },
  {
   "cell_type": "code",
   "execution_count": 39,
   "metadata": {},
   "outputs": [
    {
     "data": {
      "text/plain": [
       "False"
      ]
     },
     "execution_count": 39,
     "metadata": {},
     "output_type": "execute_result"
    }
   ],
   "source": [
    "# Verificando se os dados são unicos na coluna selecionada\n",
    "df_countries['show_title'].is_unique"
   ]
  },
  {
   "cell_type": "code",
   "execution_count": 40,
   "metadata": {},
   "outputs": [
    {
     "name": "stdout",
     "output_type": "stream",
     "text": [
      "Número de títulos únicos é: 7439\n"
     ]
    }
   ],
   "source": [
    "# Calcula o númerod de títulos únicos na coluna\n",
    "unique_countries_titles = df_countries['show_title'].nunique()\n",
    "print(f\"Número de títulos únicos é: {unique_countries_titles}\")"
   ]
  },
  {
   "cell_type": "code",
   "execution_count": 41,
   "metadata": {},
   "outputs": [
    {
     "data": {
      "text/plain": [
       "False"
      ]
     },
     "execution_count": 41,
     "metadata": {},
     "output_type": "execute_result"
    }
   ],
   "source": [
    "# Verificando se os dados são unicos na coluna selecionada\n",
    "df_countries['season_title'].is_unique"
   ]
  },
  {
   "cell_type": "code",
   "execution_count": 42,
   "metadata": {},
   "outputs": [
    {
     "name": "stdout",
     "output_type": "stream",
     "text": [
      "Número de títulos de temporadas únicas é: 2504\n"
     ]
    }
   ],
   "source": [
    "# Calcula o númerod de títulos únicos na coluna\n",
    "unique_countries_season = df_countries['season_title'].nunique()\n",
    "print(f\"Número de títulos de temporadas únicas é: {unique_countries_season}\")"
   ]
  },
  {
   "cell_type": "markdown",
   "metadata": {},
   "source": [
    "## Valores duplicados"
   ]
  },
  {
   "cell_type": "code",
   "execution_count": 43,
   "metadata": {},
   "outputs": [
    {
     "data": {
      "text/plain": [
       "283420"
      ]
     },
     "execution_count": 43,
     "metadata": {},
     "output_type": "execute_result"
    }
   ],
   "source": [
    "# Mostra o número de registros (linhas)\n",
    "df_countries.shape[0]"
   ]
  },
  {
   "cell_type": "code",
   "execution_count": 44,
   "metadata": {},
   "outputs": [
    {
     "data": {
      "text/plain": [
       "0         False\n",
       "1         False\n",
       "2         False\n",
       "3         False\n",
       "4         False\n",
       "          ...  \n",
       "283415    False\n",
       "283416    False\n",
       "283417    False\n",
       "283418    False\n",
       "283419    False\n",
       "Length: 283420, dtype: bool"
      ]
     },
     "execution_count": 44,
     "metadata": {},
     "output_type": "execute_result"
    }
   ],
   "source": [
    "# Verifica se há linhas duplicadas\n",
    "df_countries.duplicated()"
   ]
  },
  {
   "cell_type": "markdown",
   "metadata": {},
   "source": [
    "## Valores ausentes e nulos"
   ]
  },
  {
   "cell_type": "code",
   "execution_count": 45,
   "metadata": {},
   "outputs": [
    {
     "data": {
      "text/plain": [
       "country_name                       0\n",
       "country_iso2                       0\n",
       "week                               0\n",
       "category                           0\n",
       "weekly_rank                        0\n",
       "show_title                         0\n",
       "season_title                  144761\n",
       "cumulative_weeks_in_top_10         0\n",
       "dtype: int64"
      ]
     },
     "execution_count": 45,
     "metadata": {},
     "output_type": "execute_result"
    }
   ],
   "source": [
    "# Mostra a quantidade total de valores nulos em cada coluna do dataframe\n",
    "df_countries.isna().sum()"
   ]
  },
  {
   "cell_type": "code",
   "execution_count": 46,
   "metadata": {},
   "outputs": [
    {
     "name": "stdout",
     "output_type": "stream",
     "text": [
      "country_name                   0.0\n",
      "country_iso2                   0.0\n",
      "week                           0.0\n",
      "category                       0.0\n",
      "weekly_rank                    0.0\n",
      "show_title                     0.0\n",
      "season_title                  51.1\n",
      "cumulative_weeks_in_top_10     0.0\n",
      "dtype: float64\n"
     ]
    }
   ],
   "source": [
    "# Verifica o percentural de valores nulos\n",
    "porcentagem_nulos = (df_countries.isna().sum() / len(df_countries)) * 100\n",
    "print(round(porcentagem_nulos, 1))"
   ]
  },
  {
   "cell_type": "code",
   "execution_count": 47,
   "metadata": {},
   "outputs": [
    {
     "name": "stdout",
     "output_type": "stream",
     "text": [
      "<class 'pandas.core.frame.DataFrame'>\n",
      "RangeIndex: 283420 entries, 0 to 283419\n",
      "Data columns (total 7 columns):\n",
      " #   Column                      Non-Null Count   Dtype \n",
      "---  ------                      --------------   ----- \n",
      " 0   country_name                283420 non-null  object\n",
      " 1   country_iso2                283420 non-null  object\n",
      " 2   week                        283420 non-null  object\n",
      " 3   category                    283420 non-null  object\n",
      " 4   weekly_rank                 283420 non-null  int64 \n",
      " 5   show_title                  283420 non-null  object\n",
      " 6   cumulative_weeks_in_top_10  283420 non-null  int64 \n",
      "dtypes: int64(2), object(5)\n",
      "memory usage: 15.1+ MB\n"
     ]
    }
   ],
   "source": [
    "# Faz uma cópia do dataset completo para ficar de backup\n",
    "df_countries_completo = df_countries.copy()\n",
    "\n",
    "# Exclui a coluna selecionda\n",
    "df_countries.drop(columns=['season_title'], inplace=True)\n",
    "df_countries.info()"
   ]
  },
  {
   "cell_type": "markdown",
   "metadata": {},
   "source": [
    "## Tradução"
   ]
  },
  {
   "cell_type": "markdown",
   "metadata": {},
   "source": [
    "Renomeando as colunas do dataframe."
   ]
  },
  {
   "cell_type": "code",
   "execution_count": 48,
   "metadata": {},
   "outputs": [
    {
     "data": {
      "text/html": [
       "<div>\n",
       "<style scoped>\n",
       "    .dataframe tbody tr th:only-of-type {\n",
       "        vertical-align: middle;\n",
       "    }\n",
       "\n",
       "    .dataframe tbody tr th {\n",
       "        vertical-align: top;\n",
       "    }\n",
       "\n",
       "    .dataframe thead th {\n",
       "        text-align: right;\n",
       "    }\n",
       "</style>\n",
       "<table border=\"1\" class=\"dataframe\">\n",
       "  <thead>\n",
       "    <tr style=\"text-align: right;\">\n",
       "      <th></th>\n",
       "      <th>nome_pais</th>\n",
       "      <th>iso_pais</th>\n",
       "      <th>semana</th>\n",
       "      <th>categoria</th>\n",
       "      <th>rank_semanal</th>\n",
       "      <th>titulo</th>\n",
       "      <th>semanas_acumuladas_top_10</th>\n",
       "    </tr>\n",
       "  </thead>\n",
       "  <tbody>\n",
       "    <tr>\n",
       "      <th>0</th>\n",
       "      <td>Argentina</td>\n",
       "      <td>AR</td>\n",
       "      <td>2024-05-26</td>\n",
       "      <td>Films</td>\n",
       "      <td>1</td>\n",
       "      <td>Sing 2</td>\n",
       "      <td>1</td>\n",
       "    </tr>\n",
       "    <tr>\n",
       "      <th>1</th>\n",
       "      <td>Argentina</td>\n",
       "      <td>AR</td>\n",
       "      <td>2024-05-26</td>\n",
       "      <td>Films</td>\n",
       "      <td>2</td>\n",
       "      <td>Atlas</td>\n",
       "      <td>1</td>\n",
       "    </tr>\n",
       "    <tr>\n",
       "      <th>2</th>\n",
       "      <td>Argentina</td>\n",
       "      <td>AR</td>\n",
       "      <td>2024-05-26</td>\n",
       "      <td>Films</td>\n",
       "      <td>3</td>\n",
       "      <td>Ice Age: Dawn of the Dinosaurs</td>\n",
       "      <td>1</td>\n",
       "    </tr>\n",
       "    <tr>\n",
       "      <th>3</th>\n",
       "      <td>Argentina</td>\n",
       "      <td>AR</td>\n",
       "      <td>2024-05-26</td>\n",
       "      <td>Films</td>\n",
       "      <td>4</td>\n",
       "      <td>In Good Hands 2</td>\n",
       "      <td>1</td>\n",
       "    </tr>\n",
       "    <tr>\n",
       "      <th>4</th>\n",
       "      <td>Argentina</td>\n",
       "      <td>AR</td>\n",
       "      <td>2024-05-26</td>\n",
       "      <td>Films</td>\n",
       "      <td>5</td>\n",
       "      <td>Daddy Daughter Trip</td>\n",
       "      <td>2</td>\n",
       "    </tr>\n",
       "  </tbody>\n",
       "</table>\n",
       "</div>"
      ],
      "text/plain": [
       "   nome_pais iso_pais      semana categoria  rank_semanal  \\\n",
       "0  Argentina       AR  2024-05-26     Films             1   \n",
       "1  Argentina       AR  2024-05-26     Films             2   \n",
       "2  Argentina       AR  2024-05-26     Films             3   \n",
       "3  Argentina       AR  2024-05-26     Films             4   \n",
       "4  Argentina       AR  2024-05-26     Films             5   \n",
       "\n",
       "                           titulo  semanas_acumuladas_top_10  \n",
       "0                          Sing 2                          1  \n",
       "1                           Atlas                          1  \n",
       "2  Ice Age: Dawn of the Dinosaurs                          1  \n",
       "3                 In Good Hands 2                          1  \n",
       "4             Daddy Daughter Trip                          2  "
      ]
     },
     "execution_count": 48,
     "metadata": {},
     "output_type": "execute_result"
    }
   ],
   "source": [
    "# Renomea as colunas para tradução, padronização e melhor entendimento\n",
    "df_countries.rename(columns={\n",
    "    'country_name': 'nome_pais',\n",
    "    'country_iso2':'iso_pais',\n",
    "    'week': 'semana',\n",
    "    'category': 'categoria',\n",
    "    'weekly_rank': 'rank_semanal',\n",
    "    'show_title': 'titulo',\n",
    "    'cumulative_weeks_in_top_10' : 'semanas_acumuladas_top_10',\n",
    "}, inplace=True)\n",
    "\n",
    "df_countries.head()"
   ]
  },
  {
   "cell_type": "markdown",
   "metadata": {},
   "source": [
    "## Tipagem"
   ]
  },
  {
   "cell_type": "code",
   "execution_count": 49,
   "metadata": {},
   "outputs": [
    {
     "data": {
      "text/plain": [
       "nome_pais                            object\n",
       "iso_pais                             object\n",
       "semana                       datetime64[ns]\n",
       "categoria                            object\n",
       "rank_semanal                          int64\n",
       "titulo                               object\n",
       "semanas_acumuladas_top_10             int64\n",
       "dtype: object"
      ]
     },
     "execution_count": 49,
     "metadata": {},
     "output_type": "execute_result"
    }
   ],
   "source": [
    "# Convertendo o tipo de dado para datetime\n",
    "df_countries['semana'] = pd.to_datetime(df_countries.semana)\n",
    "\n",
    "df_countries.dtypes"
   ]
  },
  {
   "cell_type": "markdown",
   "metadata": {},
   "source": [
    "## Novas variáveis"
   ]
  },
  {
   "cell_type": "code",
   "execution_count": 50,
   "metadata": {},
   "outputs": [
    {
     "data": {
      "text/html": [
       "<div>\n",
       "<style scoped>\n",
       "    .dataframe tbody tr th:only-of-type {\n",
       "        vertical-align: middle;\n",
       "    }\n",
       "\n",
       "    .dataframe tbody tr th {\n",
       "        vertical-align: top;\n",
       "    }\n",
       "\n",
       "    .dataframe thead th {\n",
       "        text-align: right;\n",
       "    }\n",
       "</style>\n",
       "<table border=\"1\" class=\"dataframe\">\n",
       "  <thead>\n",
       "    <tr style=\"text-align: right;\">\n",
       "      <th></th>\n",
       "      <th>nome_pais</th>\n",
       "      <th>iso_pais</th>\n",
       "      <th>semana</th>\n",
       "      <th>categoria</th>\n",
       "      <th>rank_semanal</th>\n",
       "      <th>titulo</th>\n",
       "      <th>semanas_acumuladas_top_10</th>\n",
       "      <th>ano</th>\n",
       "      <th>mes</th>\n",
       "    </tr>\n",
       "  </thead>\n",
       "  <tbody>\n",
       "    <tr>\n",
       "      <th>0</th>\n",
       "      <td>Argentina</td>\n",
       "      <td>AR</td>\n",
       "      <td>2024-05-26</td>\n",
       "      <td>Films</td>\n",
       "      <td>1</td>\n",
       "      <td>Sing 2</td>\n",
       "      <td>1</td>\n",
       "      <td>2024</td>\n",
       "      <td>5</td>\n",
       "    </tr>\n",
       "    <tr>\n",
       "      <th>1</th>\n",
       "      <td>Argentina</td>\n",
       "      <td>AR</td>\n",
       "      <td>2024-05-26</td>\n",
       "      <td>Films</td>\n",
       "      <td>2</td>\n",
       "      <td>Atlas</td>\n",
       "      <td>1</td>\n",
       "      <td>2024</td>\n",
       "      <td>5</td>\n",
       "    </tr>\n",
       "    <tr>\n",
       "      <th>2</th>\n",
       "      <td>Argentina</td>\n",
       "      <td>AR</td>\n",
       "      <td>2024-05-26</td>\n",
       "      <td>Films</td>\n",
       "      <td>3</td>\n",
       "      <td>Ice Age: Dawn of the Dinosaurs</td>\n",
       "      <td>1</td>\n",
       "      <td>2024</td>\n",
       "      <td>5</td>\n",
       "    </tr>\n",
       "    <tr>\n",
       "      <th>3</th>\n",
       "      <td>Argentina</td>\n",
       "      <td>AR</td>\n",
       "      <td>2024-05-26</td>\n",
       "      <td>Films</td>\n",
       "      <td>4</td>\n",
       "      <td>In Good Hands 2</td>\n",
       "      <td>1</td>\n",
       "      <td>2024</td>\n",
       "      <td>5</td>\n",
       "    </tr>\n",
       "    <tr>\n",
       "      <th>4</th>\n",
       "      <td>Argentina</td>\n",
       "      <td>AR</td>\n",
       "      <td>2024-05-26</td>\n",
       "      <td>Films</td>\n",
       "      <td>5</td>\n",
       "      <td>Daddy Daughter Trip</td>\n",
       "      <td>2</td>\n",
       "      <td>2024</td>\n",
       "      <td>5</td>\n",
       "    </tr>\n",
       "  </tbody>\n",
       "</table>\n",
       "</div>"
      ],
      "text/plain": [
       "   nome_pais iso_pais     semana categoria  rank_semanal  \\\n",
       "0  Argentina       AR 2024-05-26     Films             1   \n",
       "1  Argentina       AR 2024-05-26     Films             2   \n",
       "2  Argentina       AR 2024-05-26     Films             3   \n",
       "3  Argentina       AR 2024-05-26     Films             4   \n",
       "4  Argentina       AR 2024-05-26     Films             5   \n",
       "\n",
       "                           titulo  semanas_acumuladas_top_10   ano  mes  \n",
       "0                          Sing 2                          1  2024    5  \n",
       "1                           Atlas                          1  2024    5  \n",
       "2  Ice Age: Dawn of the Dinosaurs                          1  2024    5  \n",
       "3                 In Good Hands 2                          1  2024    5  \n",
       "4             Daddy Daughter Trip                          2  2024    5  "
      ]
     },
     "execution_count": 50,
     "metadata": {},
     "output_type": "execute_result"
    }
   ],
   "source": [
    "# Seleciona o ano e mes da variável data\n",
    "df_countries['ano'] = df_countries['semana'].dt.year\n",
    "df_countries['mes'] = df_countries['semana'].dt.month\n",
    "\n",
    "df_countries.head()"
   ]
  },
  {
   "cell_type": "code",
   "execution_count": 51,
   "metadata": {},
   "outputs": [
    {
     "data": {
      "text/plain": [
       "0          maio\n",
       "1          maio\n",
       "2          maio\n",
       "3          maio\n",
       "4          maio\n",
       "          ...  \n",
       "283415    julho\n",
       "283416    julho\n",
       "283417    julho\n",
       "283418    julho\n",
       "283419    julho\n",
       "Name: mes, Length: 283420, dtype: object"
      ]
     },
     "execution_count": 51,
     "metadata": {},
     "output_type": "execute_result"
    }
   ],
   "source": [
    "# Cria o dicionário para fazer a correspondência de valores, conforme definido abaixo\n",
    "meses = {\n",
    "    1: 'janeiro',\n",
    "    2: 'fevereiro',\n",
    "    3: 'março',\n",
    "    4: 'abril',\n",
    "    5: 'maio',\n",
    "    6: 'junho',\n",
    "    7: 'julho',\n",
    "    8: 'agosto',\n",
    "    9: 'setembro',\n",
    "    10: 'outubro',\n",
    "    11: 'novembro',\n",
    "    12: 'dezembro'\n",
    "}\n",
    "\n",
    "# Mapea todos campos da coluna, tendo como parâmetro a dicionário criado acima\n",
    "df_countries.mes = df_countries.mes.map(meses)\n",
    "df_countries.mes"
   ]
  },
  {
   "cell_type": "markdown",
   "metadata": {},
   "source": [
    "## Integridade dos dados"
   ]
  },
  {
   "cell_type": "code",
   "execution_count": 52,
   "metadata": {},
   "outputs": [
    {
     "data": {
      "text/html": [
       "<div>\n",
       "<style scoped>\n",
       "    .dataframe tbody tr th:only-of-type {\n",
       "        vertical-align: middle;\n",
       "    }\n",
       "\n",
       "    .dataframe tbody tr th {\n",
       "        vertical-align: top;\n",
       "    }\n",
       "\n",
       "    .dataframe thead th {\n",
       "        text-align: right;\n",
       "    }\n",
       "</style>\n",
       "<table border=\"1\" class=\"dataframe\">\n",
       "  <thead>\n",
       "    <tr style=\"text-align: right;\">\n",
       "      <th></th>\n",
       "      <th>nome_pais</th>\n",
       "      <th>iso_pais</th>\n",
       "      <th>semana</th>\n",
       "      <th>categoria</th>\n",
       "      <th>rank_semanal</th>\n",
       "      <th>titulo</th>\n",
       "      <th>semanas_acumuladas_top_10</th>\n",
       "      <th>ano</th>\n",
       "      <th>mes</th>\n",
       "    </tr>\n",
       "  </thead>\n",
       "  <tbody>\n",
       "    <tr>\n",
       "      <th>0</th>\n",
       "      <td>Argentina</td>\n",
       "      <td>AR</td>\n",
       "      <td>2024-05-26</td>\n",
       "      <td>Films</td>\n",
       "      <td>1</td>\n",
       "      <td>Sing 2</td>\n",
       "      <td>1</td>\n",
       "      <td>2024</td>\n",
       "      <td>maio</td>\n",
       "    </tr>\n",
       "    <tr>\n",
       "      <th>1</th>\n",
       "      <td>Argentina</td>\n",
       "      <td>AR</td>\n",
       "      <td>2024-05-26</td>\n",
       "      <td>Films</td>\n",
       "      <td>2</td>\n",
       "      <td>Atlas</td>\n",
       "      <td>1</td>\n",
       "      <td>2024</td>\n",
       "      <td>maio</td>\n",
       "    </tr>\n",
       "    <tr>\n",
       "      <th>2</th>\n",
       "      <td>Argentina</td>\n",
       "      <td>AR</td>\n",
       "      <td>2024-05-26</td>\n",
       "      <td>Films</td>\n",
       "      <td>3</td>\n",
       "      <td>Ice Age: Dawn of the Dinosaurs</td>\n",
       "      <td>1</td>\n",
       "      <td>2024</td>\n",
       "      <td>maio</td>\n",
       "    </tr>\n",
       "    <tr>\n",
       "      <th>3</th>\n",
       "      <td>Argentina</td>\n",
       "      <td>AR</td>\n",
       "      <td>2024-05-26</td>\n",
       "      <td>Films</td>\n",
       "      <td>4</td>\n",
       "      <td>In Good Hands 2</td>\n",
       "      <td>1</td>\n",
       "      <td>2024</td>\n",
       "      <td>maio</td>\n",
       "    </tr>\n",
       "    <tr>\n",
       "      <th>4</th>\n",
       "      <td>Argentina</td>\n",
       "      <td>AR</td>\n",
       "      <td>2024-05-26</td>\n",
       "      <td>Films</td>\n",
       "      <td>5</td>\n",
       "      <td>Daddy Daughter Trip</td>\n",
       "      <td>2</td>\n",
       "      <td>2024</td>\n",
       "      <td>maio</td>\n",
       "    </tr>\n",
       "    <tr>\n",
       "      <th>...</th>\n",
       "      <td>...</td>\n",
       "      <td>...</td>\n",
       "      <td>...</td>\n",
       "      <td>...</td>\n",
       "      <td>...</td>\n",
       "      <td>...</td>\n",
       "      <td>...</td>\n",
       "      <td>...</td>\n",
       "      <td>...</td>\n",
       "    </tr>\n",
       "    <tr>\n",
       "      <th>283415</th>\n",
       "      <td>Vietnam</td>\n",
       "      <td>VN</td>\n",
       "      <td>2021-07-04</td>\n",
       "      <td>TV</td>\n",
       "      <td>6</td>\n",
       "      <td>Reply 1988</td>\n",
       "      <td>1</td>\n",
       "      <td>2021</td>\n",
       "      <td>julho</td>\n",
       "    </tr>\n",
       "    <tr>\n",
       "      <th>283416</th>\n",
       "      <td>Vietnam</td>\n",
       "      <td>VN</td>\n",
       "      <td>2021-07-04</td>\n",
       "      <td>TV</td>\n",
       "      <td>7</td>\n",
       "      <td>Nevertheless,</td>\n",
       "      <td>1</td>\n",
       "      <td>2021</td>\n",
       "      <td>julho</td>\n",
       "    </tr>\n",
       "    <tr>\n",
       "      <th>283417</th>\n",
       "      <td>Vietnam</td>\n",
       "      <td>VN</td>\n",
       "      <td>2021-07-04</td>\n",
       "      <td>TV</td>\n",
       "      <td>8</td>\n",
       "      <td>Too Hot to Handle</td>\n",
       "      <td>1</td>\n",
       "      <td>2021</td>\n",
       "      <td>julho</td>\n",
       "    </tr>\n",
       "    <tr>\n",
       "      <th>283418</th>\n",
       "      <td>Vietnam</td>\n",
       "      <td>VN</td>\n",
       "      <td>2021-07-04</td>\n",
       "      <td>TV</td>\n",
       "      <td>9</td>\n",
       "      <td>Record of Ragnarok</td>\n",
       "      <td>1</td>\n",
       "      <td>2021</td>\n",
       "      <td>julho</td>\n",
       "    </tr>\n",
       "    <tr>\n",
       "      <th>283419</th>\n",
       "      <td>Vietnam</td>\n",
       "      <td>VN</td>\n",
       "      <td>2021-07-04</td>\n",
       "      <td>TV</td>\n",
       "      <td>10</td>\n",
       "      <td>Crash Landing on You</td>\n",
       "      <td>1</td>\n",
       "      <td>2021</td>\n",
       "      <td>julho</td>\n",
       "    </tr>\n",
       "  </tbody>\n",
       "</table>\n",
       "<p>283420 rows × 9 columns</p>\n",
       "</div>"
      ],
      "text/plain": [
       "        nome_pais iso_pais     semana categoria  rank_semanal  \\\n",
       "0       Argentina       AR 2024-05-26     Films             1   \n",
       "1       Argentina       AR 2024-05-26     Films             2   \n",
       "2       Argentina       AR 2024-05-26     Films             3   \n",
       "3       Argentina       AR 2024-05-26     Films             4   \n",
       "4       Argentina       AR 2024-05-26     Films             5   \n",
       "...           ...      ...        ...       ...           ...   \n",
       "283415    Vietnam       VN 2021-07-04        TV             6   \n",
       "283416    Vietnam       VN 2021-07-04        TV             7   \n",
       "283417    Vietnam       VN 2021-07-04        TV             8   \n",
       "283418    Vietnam       VN 2021-07-04        TV             9   \n",
       "283419    Vietnam       VN 2021-07-04        TV            10   \n",
       "\n",
       "                                titulo  semanas_acumuladas_top_10   ano    mes  \n",
       "0                               Sing 2                          1  2024   maio  \n",
       "1                                Atlas                          1  2024   maio  \n",
       "2       Ice Age: Dawn of the Dinosaurs                          1  2024   maio  \n",
       "3                      In Good Hands 2                          1  2024   maio  \n",
       "4                  Daddy Daughter Trip                          2  2024   maio  \n",
       "...                                ...                        ...   ...    ...  \n",
       "283415                      Reply 1988                          1  2021  julho  \n",
       "283416                   Nevertheless,                          1  2021  julho  \n",
       "283417               Too Hot to Handle                          1  2021  julho  \n",
       "283418              Record of Ragnarok                          1  2021  julho  \n",
       "283419            Crash Landing on You                          1  2021  julho  \n",
       "\n",
       "[283420 rows x 9 columns]"
      ]
     },
     "execution_count": 52,
     "metadata": {},
     "output_type": "execute_result"
    }
   ],
   "source": [
    "# Define schema de validação\n",
    "schema = pa.DataFrameSchema({\n",
    "    'nome_pais': pa.Column(pa.String),\n",
    "    'iso_pais': pa.Column(pa.String),\n",
    "    'semana': pa.Column(pa.DateTime),\n",
    "    'categoria': pa.Column(pa.String),\n",
    "    'rank_semanal': pa.Column(pa.Int),\n",
    "    'titulo': pa.Column(pa.String),\n",
    "    'semanas_acumuladas_top_10': pa.Column(pa.Int),\n",
    "    'ano': pa.Column(pa.Int32),\n",
    "    'mes': pa.Column(pa.String)\n",
    "})\n",
    "\n",
    "# Validar o dataframe\n",
    "schema.validate(df_countries)"
   ]
  },
  {
   "cell_type": "markdown",
   "metadata": {},
   "source": [
    "## Visão geral dos dados de Usuário do Neflix"
   ]
  },
  {
   "cell_type": "code",
   "execution_count": 53,
   "metadata": {},
   "outputs": [
    {
     "data": {
      "text/plain": [
       "Index(['User ID', 'Subscription Type', 'Monthly Revenue', 'Join Date',\n",
       "       'Last Payment Date', 'Country', 'Age', 'Gender', 'Device',\n",
       "       'Plan Duration'],\n",
       "      dtype='object')"
      ]
     },
     "execution_count": 53,
     "metadata": {},
     "output_type": "execute_result"
    }
   ],
   "source": [
    "# Mostra todas as colunas do dataframe\n",
    "df_users.columns"
   ]
  },
  {
   "cell_type": "code",
   "execution_count": 54,
   "metadata": {},
   "outputs": [
    {
     "name": "stdout",
     "output_type": "stream",
     "text": [
      "<class 'pandas.core.frame.DataFrame'>\n",
      "RangeIndex: 2500 entries, 0 to 2499\n",
      "Data columns (total 10 columns):\n",
      " #   Column             Non-Null Count  Dtype \n",
      "---  ------             --------------  ----- \n",
      " 0   User ID            2500 non-null   int64 \n",
      " 1   Subscription Type  2500 non-null   object\n",
      " 2   Monthly Revenue    2500 non-null   int64 \n",
      " 3   Join Date          2500 non-null   object\n",
      " 4   Last Payment Date  2500 non-null   object\n",
      " 5   Country            2500 non-null   object\n",
      " 6   Age                2500 non-null   int64 \n",
      " 7   Gender             2500 non-null   object\n",
      " 8   Device             2500 non-null   object\n",
      " 9   Plan Duration      2500 non-null   object\n",
      "dtypes: int64(3), object(7)\n",
      "memory usage: 195.4+ KB\n"
     ]
    }
   ],
   "source": [
    "# Mostra um resumo conciso do dataframe\n",
    "df_users.info()"
   ]
  },
  {
   "cell_type": "code",
   "execution_count": 55,
   "metadata": {},
   "outputs": [
    {
     "data": {
      "text/html": [
       "<div>\n",
       "<style scoped>\n",
       "    .dataframe tbody tr th:only-of-type {\n",
       "        vertical-align: middle;\n",
       "    }\n",
       "\n",
       "    .dataframe tbody tr th {\n",
       "        vertical-align: top;\n",
       "    }\n",
       "\n",
       "    .dataframe thead th {\n",
       "        text-align: right;\n",
       "    }\n",
       "</style>\n",
       "<table border=\"1\" class=\"dataframe\">\n",
       "  <thead>\n",
       "    <tr style=\"text-align: right;\">\n",
       "      <th></th>\n",
       "      <th>User ID</th>\n",
       "      <th>Subscription Type</th>\n",
       "      <th>Monthly Revenue</th>\n",
       "      <th>Join Date</th>\n",
       "      <th>Last Payment Date</th>\n",
       "      <th>Country</th>\n",
       "      <th>Age</th>\n",
       "      <th>Gender</th>\n",
       "      <th>Device</th>\n",
       "      <th>Plan Duration</th>\n",
       "    </tr>\n",
       "  </thead>\n",
       "  <tbody>\n",
       "    <tr>\n",
       "      <th>0</th>\n",
       "      <td>1</td>\n",
       "      <td>Basic</td>\n",
       "      <td>10</td>\n",
       "      <td>15-01-22</td>\n",
       "      <td>10-06-23</td>\n",
       "      <td>United States</td>\n",
       "      <td>28</td>\n",
       "      <td>Male</td>\n",
       "      <td>Smartphone</td>\n",
       "      <td>1 Month</td>\n",
       "    </tr>\n",
       "    <tr>\n",
       "      <th>1</th>\n",
       "      <td>2</td>\n",
       "      <td>Premium</td>\n",
       "      <td>15</td>\n",
       "      <td>05-09-21</td>\n",
       "      <td>22-06-23</td>\n",
       "      <td>Canada</td>\n",
       "      <td>35</td>\n",
       "      <td>Female</td>\n",
       "      <td>Tablet</td>\n",
       "      <td>1 Month</td>\n",
       "    </tr>\n",
       "    <tr>\n",
       "      <th>2</th>\n",
       "      <td>3</td>\n",
       "      <td>Standard</td>\n",
       "      <td>12</td>\n",
       "      <td>28-02-23</td>\n",
       "      <td>27-06-23</td>\n",
       "      <td>United Kingdom</td>\n",
       "      <td>42</td>\n",
       "      <td>Male</td>\n",
       "      <td>Smart TV</td>\n",
       "      <td>1 Month</td>\n",
       "    </tr>\n",
       "    <tr>\n",
       "      <th>3</th>\n",
       "      <td>4</td>\n",
       "      <td>Standard</td>\n",
       "      <td>12</td>\n",
       "      <td>10-07-22</td>\n",
       "      <td>26-06-23</td>\n",
       "      <td>Australia</td>\n",
       "      <td>51</td>\n",
       "      <td>Female</td>\n",
       "      <td>Laptop</td>\n",
       "      <td>1 Month</td>\n",
       "    </tr>\n",
       "    <tr>\n",
       "      <th>4</th>\n",
       "      <td>5</td>\n",
       "      <td>Basic</td>\n",
       "      <td>10</td>\n",
       "      <td>01-05-23</td>\n",
       "      <td>28-06-23</td>\n",
       "      <td>Germany</td>\n",
       "      <td>33</td>\n",
       "      <td>Male</td>\n",
       "      <td>Smartphone</td>\n",
       "      <td>1 Month</td>\n",
       "    </tr>\n",
       "    <tr>\n",
       "      <th>...</th>\n",
       "      <td>...</td>\n",
       "      <td>...</td>\n",
       "      <td>...</td>\n",
       "      <td>...</td>\n",
       "      <td>...</td>\n",
       "      <td>...</td>\n",
       "      <td>...</td>\n",
       "      <td>...</td>\n",
       "      <td>...</td>\n",
       "      <td>...</td>\n",
       "    </tr>\n",
       "    <tr>\n",
       "      <th>2495</th>\n",
       "      <td>2496</td>\n",
       "      <td>Premium</td>\n",
       "      <td>14</td>\n",
       "      <td>25-07-22</td>\n",
       "      <td>12-07-23</td>\n",
       "      <td>Spain</td>\n",
       "      <td>28</td>\n",
       "      <td>Female</td>\n",
       "      <td>Smart TV</td>\n",
       "      <td>1 Month</td>\n",
       "    </tr>\n",
       "    <tr>\n",
       "      <th>2496</th>\n",
       "      <td>2497</td>\n",
       "      <td>Basic</td>\n",
       "      <td>15</td>\n",
       "      <td>04-08-22</td>\n",
       "      <td>14-07-23</td>\n",
       "      <td>Spain</td>\n",
       "      <td>33</td>\n",
       "      <td>Female</td>\n",
       "      <td>Smart TV</td>\n",
       "      <td>1 Month</td>\n",
       "    </tr>\n",
       "    <tr>\n",
       "      <th>2497</th>\n",
       "      <td>2498</td>\n",
       "      <td>Standard</td>\n",
       "      <td>12</td>\n",
       "      <td>09-08-22</td>\n",
       "      <td>15-07-23</td>\n",
       "      <td>United States</td>\n",
       "      <td>38</td>\n",
       "      <td>Male</td>\n",
       "      <td>Laptop</td>\n",
       "      <td>1 Month</td>\n",
       "    </tr>\n",
       "    <tr>\n",
       "      <th>2498</th>\n",
       "      <td>2499</td>\n",
       "      <td>Standard</td>\n",
       "      <td>13</td>\n",
       "      <td>12-08-22</td>\n",
       "      <td>12-07-23</td>\n",
       "      <td>Canada</td>\n",
       "      <td>48</td>\n",
       "      <td>Female</td>\n",
       "      <td>Tablet</td>\n",
       "      <td>1 Month</td>\n",
       "    </tr>\n",
       "    <tr>\n",
       "      <th>2499</th>\n",
       "      <td>2500</td>\n",
       "      <td>Basic</td>\n",
       "      <td>15</td>\n",
       "      <td>13-08-22</td>\n",
       "      <td>12-07-23</td>\n",
       "      <td>United States</td>\n",
       "      <td>35</td>\n",
       "      <td>Female</td>\n",
       "      <td>Smart TV</td>\n",
       "      <td>1 Month</td>\n",
       "    </tr>\n",
       "  </tbody>\n",
       "</table>\n",
       "<p>2500 rows × 10 columns</p>\n",
       "</div>"
      ],
      "text/plain": [
       "      User ID Subscription Type  Monthly Revenue Join Date Last Payment Date  \\\n",
       "0           1             Basic               10  15-01-22          10-06-23   \n",
       "1           2           Premium               15  05-09-21          22-06-23   \n",
       "2           3          Standard               12  28-02-23          27-06-23   \n",
       "3           4          Standard               12  10-07-22          26-06-23   \n",
       "4           5             Basic               10  01-05-23          28-06-23   \n",
       "...       ...               ...              ...       ...               ...   \n",
       "2495     2496           Premium               14  25-07-22          12-07-23   \n",
       "2496     2497             Basic               15  04-08-22          14-07-23   \n",
       "2497     2498          Standard               12  09-08-22          15-07-23   \n",
       "2498     2499          Standard               13  12-08-22          12-07-23   \n",
       "2499     2500             Basic               15  13-08-22          12-07-23   \n",
       "\n",
       "             Country  Age  Gender      Device Plan Duration  \n",
       "0      United States   28    Male  Smartphone       1 Month  \n",
       "1             Canada   35  Female      Tablet       1 Month  \n",
       "2     United Kingdom   42    Male    Smart TV       1 Month  \n",
       "3          Australia   51  Female      Laptop       1 Month  \n",
       "4            Germany   33    Male  Smartphone       1 Month  \n",
       "...              ...  ...     ...         ...           ...  \n",
       "2495           Spain   28  Female    Smart TV       1 Month  \n",
       "2496           Spain   33  Female    Smart TV       1 Month  \n",
       "2497   United States   38    Male      Laptop       1 Month  \n",
       "2498          Canada   48  Female      Tablet       1 Month  \n",
       "2499   United States   35  Female    Smart TV       1 Month  \n",
       "\n",
       "[2500 rows x 10 columns]"
      ]
     },
     "execution_count": 55,
     "metadata": {},
     "output_type": "execute_result"
    }
   ],
   "source": [
    "# Mostra um resumo do dataframe, com os 5 primeiros e últimos registros e total de linhas e colunas\n",
    "df_users"
   ]
  },
  {
   "cell_type": "markdown",
   "metadata": {},
   "source": [
    "## Valores únicos"
   ]
  },
  {
   "cell_type": "code",
   "execution_count": 59,
   "metadata": {},
   "outputs": [
    {
     "data": {
      "text/plain": [
       "True"
      ]
     },
     "execution_count": 59,
     "metadata": {},
     "output_type": "execute_result"
    }
   ],
   "source": [
    "# Verificando se os dados são únicos na coluna selecionada\n",
    "df_users['User ID'].is_unique"
   ]
  },
  {
   "cell_type": "code",
   "execution_count": 56,
   "metadata": {},
   "outputs": [
    {
     "name": "stdout",
     "output_type": "stream",
     "text": [
      "['Basic' 'Premium' 'Standard']\n",
      "['United States' 'Canada' 'United Kingdom' 'Australia' 'Germany' 'France'\n",
      " 'Brazil' 'Mexico' 'Spain' 'Italy']\n",
      "['Male' 'Female']\n",
      "['Smartphone' 'Tablet' 'Smart TV' 'Laptop']\n",
      "['1 Month']\n"
     ]
    }
   ],
   "source": [
    "# Mostra os valores únicos das colunas categricas selecionadas\n",
    "print(df_users['Subscription Type'].unique())\n",
    "print(df_users['Country'].unique())\n",
    "print(df_users['Gender'].unique())\n",
    "print(df_users['Device'].unique())\n",
    "print(df_users['Plan Duration'].unique())"
   ]
  },
  {
   "cell_type": "code",
   "execution_count": 57,
   "metadata": {},
   "outputs": [
    {
     "name": "stdout",
     "output_type": "stream",
     "text": [
      "[28 35 42 51 33 29 46 39 37 44 31 45 48 27 38 36 30 43 32 41 26 34 49 40\n",
      " 47 50]\n"
     ]
    }
   ],
   "source": [
    "# Mostra os valores únicos da coluna selecionadas\n",
    "print(df_users['Age'].unique())"
   ]
  },
  {
   "cell_type": "code",
   "execution_count": 58,
   "metadata": {},
   "outputs": [
    {
     "name": "stdout",
     "output_type": "stream",
     "text": [
      "[10 15 12 13 11 14]\n"
     ]
    }
   ],
   "source": [
    "# Mostra os valores únicos da coluna selecionadas\n",
    "print(df_users['Monthly Revenue'].unique())"
   ]
  },
  {
   "cell_type": "code",
   "execution_count": 60,
   "metadata": {},
   "outputs": [
    {
     "name": "stdout",
     "output_type": "stream",
     "text": [
      "[10 15 12 13 11 14]\n"
     ]
    }
   ],
   "source": [
    "# Mostra os valores únicos da coluna selecionadas\n",
    "print(df_users['Monthly Revenue'].unique())"
   ]
  },
  {
   "cell_type": "markdown",
   "metadata": {},
   "source": [
    "## Valores duplicados\n",
    "\n",
    "Verificando a existência de registros duplicados."
   ]
  },
  {
   "cell_type": "code",
   "execution_count": 61,
   "metadata": {},
   "outputs": [
    {
     "data": {
      "text/plain": [
       "2500"
      ]
     },
     "execution_count": 61,
     "metadata": {},
     "output_type": "execute_result"
    }
   ],
   "source": [
    "# Mostra o número de registros (linhas)\n",
    "df_users.shape[0]"
   ]
  },
  {
   "cell_type": "code",
   "execution_count": 62,
   "metadata": {},
   "outputs": [
    {
     "data": {
      "text/plain": [
       "0       False\n",
       "1       False\n",
       "2       False\n",
       "3       False\n",
       "4       False\n",
       "        ...  \n",
       "2495    False\n",
       "2496    False\n",
       "2497    False\n",
       "2498    False\n",
       "2499    False\n",
       "Length: 2500, dtype: bool"
      ]
     },
     "execution_count": 62,
     "metadata": {},
     "output_type": "execute_result"
    }
   ],
   "source": [
    "# Verifica se há linhas duplicadas\n",
    "df_users.duplicated()"
   ]
  },
  {
   "cell_type": "markdown",
   "metadata": {},
   "source": [
    "## Valores ausentes e nulos\n",
    "\n",
    "Verificando a existência de registros ausentes e nulos."
   ]
  },
  {
   "cell_type": "code",
   "execution_count": 63,
   "metadata": {},
   "outputs": [
    {
     "data": {
      "text/plain": [
       "User ID              0\n",
       "Subscription Type    0\n",
       "Monthly Revenue      0\n",
       "Join Date            0\n",
       "Last Payment Date    0\n",
       "Country              0\n",
       "Age                  0\n",
       "Gender               0\n",
       "Device               0\n",
       "Plan Duration        0\n",
       "dtype: int64"
      ]
     },
     "execution_count": 63,
     "metadata": {},
     "output_type": "execute_result"
    }
   ],
   "source": [
    "# Mostra a quantidade total de valores nulos em cada coluna do dataframe\n",
    "df_users.isnull().sum()"
   ]
  },
  {
   "cell_type": "markdown",
   "metadata": {},
   "source": [
    "## Tradução\n",
    "\n",
    "Renomeando as colunas e campos de registros do datraframe."
   ]
  },
  {
   "cell_type": "code",
   "execution_count": 64,
   "metadata": {},
   "outputs": [
    {
     "data": {
      "text/html": [
       "<div>\n",
       "<style scoped>\n",
       "    .dataframe tbody tr th:only-of-type {\n",
       "        vertical-align: middle;\n",
       "    }\n",
       "\n",
       "    .dataframe tbody tr th {\n",
       "        vertical-align: top;\n",
       "    }\n",
       "\n",
       "    .dataframe thead th {\n",
       "        text-align: right;\n",
       "    }\n",
       "</style>\n",
       "<table border=\"1\" class=\"dataframe\">\n",
       "  <thead>\n",
       "    <tr style=\"text-align: right;\">\n",
       "      <th></th>\n",
       "      <th>id_usuario</th>\n",
       "      <th>tipo_assinatura</th>\n",
       "      <th>receita_mensal</th>\n",
       "      <th>data_afiliacao</th>\n",
       "      <th>data_ultimo_pg</th>\n",
       "      <th>pais</th>\n",
       "      <th>idade</th>\n",
       "      <th>genero</th>\n",
       "      <th>dispositivo</th>\n",
       "      <th>plano</th>\n",
       "    </tr>\n",
       "  </thead>\n",
       "  <tbody>\n",
       "    <tr>\n",
       "      <th>0</th>\n",
       "      <td>1</td>\n",
       "      <td>Basic</td>\n",
       "      <td>10</td>\n",
       "      <td>15-01-22</td>\n",
       "      <td>10-06-23</td>\n",
       "      <td>United States</td>\n",
       "      <td>28</td>\n",
       "      <td>Male</td>\n",
       "      <td>Smartphone</td>\n",
       "      <td>1 Month</td>\n",
       "    </tr>\n",
       "    <tr>\n",
       "      <th>1</th>\n",
       "      <td>2</td>\n",
       "      <td>Premium</td>\n",
       "      <td>15</td>\n",
       "      <td>05-09-21</td>\n",
       "      <td>22-06-23</td>\n",
       "      <td>Canada</td>\n",
       "      <td>35</td>\n",
       "      <td>Female</td>\n",
       "      <td>Tablet</td>\n",
       "      <td>1 Month</td>\n",
       "    </tr>\n",
       "    <tr>\n",
       "      <th>2</th>\n",
       "      <td>3</td>\n",
       "      <td>Standard</td>\n",
       "      <td>12</td>\n",
       "      <td>28-02-23</td>\n",
       "      <td>27-06-23</td>\n",
       "      <td>United Kingdom</td>\n",
       "      <td>42</td>\n",
       "      <td>Male</td>\n",
       "      <td>Smart TV</td>\n",
       "      <td>1 Month</td>\n",
       "    </tr>\n",
       "    <tr>\n",
       "      <th>3</th>\n",
       "      <td>4</td>\n",
       "      <td>Standard</td>\n",
       "      <td>12</td>\n",
       "      <td>10-07-22</td>\n",
       "      <td>26-06-23</td>\n",
       "      <td>Australia</td>\n",
       "      <td>51</td>\n",
       "      <td>Female</td>\n",
       "      <td>Laptop</td>\n",
       "      <td>1 Month</td>\n",
       "    </tr>\n",
       "    <tr>\n",
       "      <th>4</th>\n",
       "      <td>5</td>\n",
       "      <td>Basic</td>\n",
       "      <td>10</td>\n",
       "      <td>01-05-23</td>\n",
       "      <td>28-06-23</td>\n",
       "      <td>Germany</td>\n",
       "      <td>33</td>\n",
       "      <td>Male</td>\n",
       "      <td>Smartphone</td>\n",
       "      <td>1 Month</td>\n",
       "    </tr>\n",
       "  </tbody>\n",
       "</table>\n",
       "</div>"
      ],
      "text/plain": [
       "   id_usuario tipo_assinatura  receita_mensal data_afiliacao data_ultimo_pg  \\\n",
       "0           1           Basic              10       15-01-22       10-06-23   \n",
       "1           2         Premium              15       05-09-21       22-06-23   \n",
       "2           3        Standard              12       28-02-23       27-06-23   \n",
       "3           4        Standard              12       10-07-22       26-06-23   \n",
       "4           5           Basic              10       01-05-23       28-06-23   \n",
       "\n",
       "             pais  idade  genero dispositivo    plano  \n",
       "0   United States     28    Male  Smartphone  1 Month  \n",
       "1          Canada     35  Female      Tablet  1 Month  \n",
       "2  United Kingdom     42    Male    Smart TV  1 Month  \n",
       "3       Australia     51  Female      Laptop  1 Month  \n",
       "4         Germany     33    Male  Smartphone  1 Month  "
      ]
     },
     "execution_count": 64,
     "metadata": {},
     "output_type": "execute_result"
    }
   ],
   "source": [
    "# Renomea as colunas para tradução, padronização e melhor entendimento\n",
    "df_users.rename(columns={\n",
    "    'User ID': 'id_usuario',\n",
    "    'Subscription Type': 'tipo_assinatura',\n",
    "    'Monthly Revenue':'receita_mensal',\n",
    "    'Join Date': 'data_afiliacao',\n",
    "    'Last Payment Date': 'data_ultimo_pg',\n",
    "    'Country': 'pais',\n",
    "    'Age': 'idade',\n",
    "    'Gender': 'genero',\n",
    "    'Device': 'dispositivo',\n",
    "    'Plan Duration': 'plano'\n",
    "}, inplace=True)\n",
    "\n",
    "# Mostra as 5 primeiras linhas do dataframe ou a quantidade informada como parâmetro\n",
    "df_users.head()"
   ]
  },
  {
   "cell_type": "code",
   "execution_count": 65,
   "metadata": {},
   "outputs": [
    {
     "data": {
      "text/plain": [
       "0       Month\n",
       "1       Month\n",
       "2       Month\n",
       "3       Month\n",
       "4       Month\n",
       "        ...  \n",
       "2495    Month\n",
       "2496    Month\n",
       "2497    Month\n",
       "2498    Month\n",
       "2499    Month\n",
       "Name: plano, Length: 2500, dtype: object"
      ]
     },
     "execution_count": 65,
     "metadata": {},
     "output_type": "execute_result"
    }
   ],
   "source": [
    "# Cria o dicionário para fazer a correspondência de valores, conforme definido abaixo\n",
    "traducao_plano = {'1 Month': 'Month'}\n",
    "\n",
    "# Mapea todos campos da coluna, tendo como parâmetro a dicionário criado acima\n",
    "df_users.plano = df_users.plano.map(traducao_plano)\n",
    "df_users.plano"
   ]
  },
  {
   "cell_type": "markdown",
   "metadata": {},
   "source": [
    "## Tipagem\n",
    "\n",
    "Verificando os tipos dos dados e fazendo a conversão necessárias."
   ]
  },
  {
   "cell_type": "code",
   "execution_count": 66,
   "metadata": {},
   "outputs": [],
   "source": [
    "# Converte o tipo de dados de int para str\n",
    "df_users['id_usuario'] = df_users['id_usuario'].astype(str)"
   ]
  },
  {
   "cell_type": "code",
   "execution_count": 67,
   "metadata": {},
   "outputs": [
    {
     "name": "stderr",
     "output_type": "stream",
     "text": [
      "/var/folders/p3/7_d0kld923vggjh80yjty_080000gn/T/ipykernel_3996/67907589.py:2: UserWarning: Could not infer format, so each element will be parsed individually, falling back to `dateutil`. To ensure parsing is consistent and as-expected, please specify a format.\n",
      "  df_users['data_afiliacao'] = pd.to_datetime(df_users['data_afiliacao'])\n",
      "/var/folders/p3/7_d0kld923vggjh80yjty_080000gn/T/ipykernel_3996/67907589.py:3: UserWarning: Could not infer format, so each element will be parsed individually, falling back to `dateutil`. To ensure parsing is consistent and as-expected, please specify a format.\n",
      "  df_users['data_ultimo_pg'] = pd.to_datetime(df_users['data_ultimo_pg'])\n"
     ]
    },
    {
     "data": {
      "text/plain": [
       "id_usuario                 object\n",
       "tipo_assinatura            object\n",
       "receita_mensal              int64\n",
       "data_afiliacao     datetime64[ns]\n",
       "data_ultimo_pg     datetime64[ns]\n",
       "pais                       object\n",
       "idade                       int64\n",
       "genero                     object\n",
       "dispositivo                object\n",
       "plano                      object\n",
       "dtype: object"
      ]
     },
     "execution_count": 67,
     "metadata": {},
     "output_type": "execute_result"
    }
   ],
   "source": [
    "# Converte o tipo de dado para datetime aaaa-mm-dd hh:mm:ss\n",
    "df_users['data_afiliacao'] = pd.to_datetime(df_users['data_afiliacao'])\n",
    "df_users['data_ultimo_pg'] = pd.to_datetime(df_users['data_ultimo_pg'])\n",
    "\n",
    "# Mostra os tipos de variáveis de cada coluna\n",
    "df_users.dtypes"
   ]
  },
  {
   "cell_type": "markdown",
   "metadata": {},
   "source": [
    "## Novas variáveis\n",
    "\n",
    "Criando novas variáveis para ajudar na análise."
   ]
  },
  {
   "cell_type": "code",
   "execution_count": 68,
   "metadata": {},
   "outputs": [
    {
     "data": {
      "text/html": [
       "<div>\n",
       "<style scoped>\n",
       "    .dataframe tbody tr th:only-of-type {\n",
       "        vertical-align: middle;\n",
       "    }\n",
       "\n",
       "    .dataframe tbody tr th {\n",
       "        vertical-align: top;\n",
       "    }\n",
       "\n",
       "    .dataframe thead th {\n",
       "        text-align: right;\n",
       "    }\n",
       "</style>\n",
       "<table border=\"1\" class=\"dataframe\">\n",
       "  <thead>\n",
       "    <tr style=\"text-align: right;\">\n",
       "      <th></th>\n",
       "      <th>id_usuario</th>\n",
       "      <th>tipo_assinatura</th>\n",
       "      <th>receita_mensal</th>\n",
       "      <th>data_afiliacao</th>\n",
       "      <th>data_ultimo_pg</th>\n",
       "      <th>pais</th>\n",
       "      <th>idade</th>\n",
       "      <th>genero</th>\n",
       "      <th>dispositivo</th>\n",
       "      <th>plano</th>\n",
       "      <th>anos_como_cliente</th>\n",
       "    </tr>\n",
       "  </thead>\n",
       "  <tbody>\n",
       "    <tr>\n",
       "      <th>0</th>\n",
       "      <td>1</td>\n",
       "      <td>Basic</td>\n",
       "      <td>10</td>\n",
       "      <td>2022-01-15</td>\n",
       "      <td>2023-10-06</td>\n",
       "      <td>United States</td>\n",
       "      <td>28</td>\n",
       "      <td>Male</td>\n",
       "      <td>Smartphone</td>\n",
       "      <td>Month</td>\n",
       "      <td>1</td>\n",
       "    </tr>\n",
       "    <tr>\n",
       "      <th>1</th>\n",
       "      <td>2</td>\n",
       "      <td>Premium</td>\n",
       "      <td>15</td>\n",
       "      <td>2021-05-09</td>\n",
       "      <td>2023-06-22</td>\n",
       "      <td>Canada</td>\n",
       "      <td>35</td>\n",
       "      <td>Female</td>\n",
       "      <td>Tablet</td>\n",
       "      <td>Month</td>\n",
       "      <td>2</td>\n",
       "    </tr>\n",
       "    <tr>\n",
       "      <th>2</th>\n",
       "      <td>3</td>\n",
       "      <td>Standard</td>\n",
       "      <td>12</td>\n",
       "      <td>2023-02-28</td>\n",
       "      <td>2023-06-27</td>\n",
       "      <td>United Kingdom</td>\n",
       "      <td>42</td>\n",
       "      <td>Male</td>\n",
       "      <td>Smart TV</td>\n",
       "      <td>Month</td>\n",
       "      <td>0</td>\n",
       "    </tr>\n",
       "    <tr>\n",
       "      <th>3</th>\n",
       "      <td>4</td>\n",
       "      <td>Standard</td>\n",
       "      <td>12</td>\n",
       "      <td>2022-10-07</td>\n",
       "      <td>2023-06-26</td>\n",
       "      <td>Australia</td>\n",
       "      <td>51</td>\n",
       "      <td>Female</td>\n",
       "      <td>Laptop</td>\n",
       "      <td>Month</td>\n",
       "      <td>0</td>\n",
       "    </tr>\n",
       "    <tr>\n",
       "      <th>4</th>\n",
       "      <td>5</td>\n",
       "      <td>Basic</td>\n",
       "      <td>10</td>\n",
       "      <td>2023-01-05</td>\n",
       "      <td>2023-06-28</td>\n",
       "      <td>Germany</td>\n",
       "      <td>33</td>\n",
       "      <td>Male</td>\n",
       "      <td>Smartphone</td>\n",
       "      <td>Month</td>\n",
       "      <td>0</td>\n",
       "    </tr>\n",
       "  </tbody>\n",
       "</table>\n",
       "</div>"
      ],
      "text/plain": [
       "  id_usuario tipo_assinatura  receita_mensal data_afiliacao data_ultimo_pg  \\\n",
       "0          1           Basic              10     2022-01-15     2023-10-06   \n",
       "1          2         Premium              15     2021-05-09     2023-06-22   \n",
       "2          3        Standard              12     2023-02-28     2023-06-27   \n",
       "3          4        Standard              12     2022-10-07     2023-06-26   \n",
       "4          5           Basic              10     2023-01-05     2023-06-28   \n",
       "\n",
       "             pais  idade  genero dispositivo  plano  anos_como_cliente  \n",
       "0   United States     28    Male  Smartphone  Month                  1  \n",
       "1          Canada     35  Female      Tablet  Month                  2  \n",
       "2  United Kingdom     42    Male    Smart TV  Month                  0  \n",
       "3       Australia     51  Female      Laptop  Month                  0  \n",
       "4         Germany     33    Male  Smartphone  Month                  0  "
      ]
     },
     "execution_count": 68,
     "metadata": {},
     "output_type": "execute_result"
    }
   ],
   "source": [
    "# Módulo para manipulação de datas e horas\n",
    "from dateutil.relativedelta import relativedelta\n",
    "\n",
    "# Cria uma função para calcular o tempo como cliente\n",
    "def diferenca(row):\n",
    "    delta = relativedelta(row['data_ultimo_pg'], row['data_afiliacao'])\n",
    "    return delta.years\n",
    "\n",
    "# Aplica a função criada acima ao dataframe\n",
    "df_users['anos_como_cliente'] = df_users.apply(diferenca, axis=1)\n",
    "\n",
    "df_users.head()"
   ]
  },
  {
   "cell_type": "code",
   "execution_count": 69,
   "metadata": {},
   "outputs": [],
   "source": [
    "# Seleciona o mês da variável data\n",
    "df_users['mes_afiliacao'] = df_users.data_afiliacao.dt.month\n",
    "df_users['mes_ultimo_pg'] = df_users.data_ultimo_pg.dt.month\n",
    "\n",
    "# Cria o dicionário para fazer a correspondência de valores, conforme definido abaixo\n",
    "meses = {\n",
    "    1: 'janeiro',\n",
    "    2: 'fevereiro',\n",
    "    3: 'março',\n",
    "    4: 'abril',\n",
    "    5: 'maio',\n",
    "    6: 'junho',\n",
    "    7: 'julho',\n",
    "    8: 'agosto',\n",
    "    9: 'setembro',\n",
    "    10: 'outubro',\n",
    "    11: 'novembro',\n",
    "    12: 'dezembro'\n",
    "}"
   ]
  },
  {
   "cell_type": "code",
   "execution_count": 70,
   "metadata": {},
   "outputs": [
    {
     "data": {
      "text/plain": [
       "0         janeiro\n",
       "1            maio\n",
       "2       fevereiro\n",
       "3         outubro\n",
       "4         janeiro\n",
       "          ...    \n",
       "2495        julho\n",
       "2496        abril\n",
       "2497     setembro\n",
       "2498     dezembro\n",
       "2499       agosto\n",
       "Name: mes_afiliacao, Length: 2500, dtype: object"
      ]
     },
     "execution_count": 70,
     "metadata": {},
     "output_type": "execute_result"
    }
   ],
   "source": [
    "# Mapea todos campos da coluna, tendo como parâmetro a dicionário criado acima\n",
    "df_users.mes_afiliacao = df_users.mes_afiliacao.map(meses)\n",
    "df_users.mes_afiliacao"
   ]
  },
  {
   "cell_type": "code",
   "execution_count": 71,
   "metadata": {},
   "outputs": [
    {
     "data": {
      "text/plain": [
       "0        outubro\n",
       "1          junho\n",
       "2          junho\n",
       "3          junho\n",
       "4          junho\n",
       "          ...   \n",
       "2495    dezembro\n",
       "2496       julho\n",
       "2497       julho\n",
       "2498    dezembro\n",
       "2499    dezembro\n",
       "Name: mes_ultimo_pg, Length: 2500, dtype: object"
      ]
     },
     "execution_count": 71,
     "metadata": {},
     "output_type": "execute_result"
    }
   ],
   "source": [
    "# Mapea todos campos da coluna, tendo como parâmetro a dicionário criado acima\n",
    "df_users.mes_ultimo_pg = df_users.mes_ultimo_pg.map(meses)\n",
    "df_users.mes_ultimo_pg"
   ]
  },
  {
   "cell_type": "code",
   "execution_count": 72,
   "metadata": {},
   "outputs": [
    {
     "data": {
      "text/plain": [
       "id_usuario                   object\n",
       "tipo_assinatura              object\n",
       "receita_mensal                int64\n",
       "data_afiliacao       datetime64[ns]\n",
       "data_ultimo_pg       datetime64[ns]\n",
       "pais                         object\n",
       "idade                         int64\n",
       "genero                       object\n",
       "dispositivo                  object\n",
       "plano                        object\n",
       "anos_como_cliente             int64\n",
       "mes_afiliacao                object\n",
       "mes_ultimo_pg                object\n",
       "dtype: object"
      ]
     },
     "execution_count": 72,
     "metadata": {},
     "output_type": "execute_result"
    }
   ],
   "source": [
    "# Mostra os tipos de variáveis de cada coluna\n",
    "df_users.dtypes"
   ]
  },
  {
   "cell_type": "markdown",
   "metadata": {},
   "source": [
    "## Integridade dos dados\n",
    "\n",
    "Garantindo a qualidade e integridade dos dados."
   ]
  },
  {
   "cell_type": "code",
   "execution_count": 73,
   "metadata": {},
   "outputs": [],
   "source": [
    "# Define schema de validação\n",
    "schema = pa.DataFrameSchema({\n",
    "    'id_usuario': pa.Column(pa.String),\n",
    "    'tipo_assinatura': pa.Column(pa.String),\n",
    "    'receita_mensal': pa.Column(pa.Int),\n",
    "    'data_afiliacao': pa.Column(pa.DateTime),\n",
    "    'data_ultimo_pg': pa.Column(pa.DateTime),\n",
    "    'pais': pa.Column(pa.String),\n",
    "    'idade': pa.Column(pa.Int),\n",
    "    'genero': pa.Column(pa.String),\n",
    "    'dispositivo': pa.Column(pa.String),\n",
    "    'plano': pa.Column(pa.String),\n",
    "    'anos_como_cliente': pa.Column(pa.Int),\n",
    "    'mes_afiliacao': pa.Column(pa.String),\n",
    "    'mes_ultimo_pg': pa.Column(pa.String)\n",
    "    })"
   ]
  },
  {
   "cell_type": "code",
   "execution_count": 74,
   "metadata": {},
   "outputs": [
    {
     "data": {
      "text/html": [
       "<div>\n",
       "<style scoped>\n",
       "    .dataframe tbody tr th:only-of-type {\n",
       "        vertical-align: middle;\n",
       "    }\n",
       "\n",
       "    .dataframe tbody tr th {\n",
       "        vertical-align: top;\n",
       "    }\n",
       "\n",
       "    .dataframe thead th {\n",
       "        text-align: right;\n",
       "    }\n",
       "</style>\n",
       "<table border=\"1\" class=\"dataframe\">\n",
       "  <thead>\n",
       "    <tr style=\"text-align: right;\">\n",
       "      <th></th>\n",
       "      <th>id_usuario</th>\n",
       "      <th>tipo_assinatura</th>\n",
       "      <th>receita_mensal</th>\n",
       "      <th>data_afiliacao</th>\n",
       "      <th>data_ultimo_pg</th>\n",
       "      <th>pais</th>\n",
       "      <th>idade</th>\n",
       "      <th>genero</th>\n",
       "      <th>dispositivo</th>\n",
       "      <th>plano</th>\n",
       "      <th>anos_como_cliente</th>\n",
       "      <th>mes_afiliacao</th>\n",
       "      <th>mes_ultimo_pg</th>\n",
       "    </tr>\n",
       "  </thead>\n",
       "  <tbody>\n",
       "    <tr>\n",
       "      <th>0</th>\n",
       "      <td>1</td>\n",
       "      <td>Basic</td>\n",
       "      <td>10</td>\n",
       "      <td>2022-01-15</td>\n",
       "      <td>2023-10-06</td>\n",
       "      <td>United States</td>\n",
       "      <td>28</td>\n",
       "      <td>Male</td>\n",
       "      <td>Smartphone</td>\n",
       "      <td>Month</td>\n",
       "      <td>1</td>\n",
       "      <td>janeiro</td>\n",
       "      <td>outubro</td>\n",
       "    </tr>\n",
       "    <tr>\n",
       "      <th>1</th>\n",
       "      <td>2</td>\n",
       "      <td>Premium</td>\n",
       "      <td>15</td>\n",
       "      <td>2021-05-09</td>\n",
       "      <td>2023-06-22</td>\n",
       "      <td>Canada</td>\n",
       "      <td>35</td>\n",
       "      <td>Female</td>\n",
       "      <td>Tablet</td>\n",
       "      <td>Month</td>\n",
       "      <td>2</td>\n",
       "      <td>maio</td>\n",
       "      <td>junho</td>\n",
       "    </tr>\n",
       "    <tr>\n",
       "      <th>2</th>\n",
       "      <td>3</td>\n",
       "      <td>Standard</td>\n",
       "      <td>12</td>\n",
       "      <td>2023-02-28</td>\n",
       "      <td>2023-06-27</td>\n",
       "      <td>United Kingdom</td>\n",
       "      <td>42</td>\n",
       "      <td>Male</td>\n",
       "      <td>Smart TV</td>\n",
       "      <td>Month</td>\n",
       "      <td>0</td>\n",
       "      <td>fevereiro</td>\n",
       "      <td>junho</td>\n",
       "    </tr>\n",
       "    <tr>\n",
       "      <th>3</th>\n",
       "      <td>4</td>\n",
       "      <td>Standard</td>\n",
       "      <td>12</td>\n",
       "      <td>2022-10-07</td>\n",
       "      <td>2023-06-26</td>\n",
       "      <td>Australia</td>\n",
       "      <td>51</td>\n",
       "      <td>Female</td>\n",
       "      <td>Laptop</td>\n",
       "      <td>Month</td>\n",
       "      <td>0</td>\n",
       "      <td>outubro</td>\n",
       "      <td>junho</td>\n",
       "    </tr>\n",
       "    <tr>\n",
       "      <th>4</th>\n",
       "      <td>5</td>\n",
       "      <td>Basic</td>\n",
       "      <td>10</td>\n",
       "      <td>2023-01-05</td>\n",
       "      <td>2023-06-28</td>\n",
       "      <td>Germany</td>\n",
       "      <td>33</td>\n",
       "      <td>Male</td>\n",
       "      <td>Smartphone</td>\n",
       "      <td>Month</td>\n",
       "      <td>0</td>\n",
       "      <td>janeiro</td>\n",
       "      <td>junho</td>\n",
       "    </tr>\n",
       "    <tr>\n",
       "      <th>...</th>\n",
       "      <td>...</td>\n",
       "      <td>...</td>\n",
       "      <td>...</td>\n",
       "      <td>...</td>\n",
       "      <td>...</td>\n",
       "      <td>...</td>\n",
       "      <td>...</td>\n",
       "      <td>...</td>\n",
       "      <td>...</td>\n",
       "      <td>...</td>\n",
       "      <td>...</td>\n",
       "      <td>...</td>\n",
       "      <td>...</td>\n",
       "    </tr>\n",
       "    <tr>\n",
       "      <th>2495</th>\n",
       "      <td>2496</td>\n",
       "      <td>Premium</td>\n",
       "      <td>14</td>\n",
       "      <td>2022-07-25</td>\n",
       "      <td>2023-12-07</td>\n",
       "      <td>Spain</td>\n",
       "      <td>28</td>\n",
       "      <td>Female</td>\n",
       "      <td>Smart TV</td>\n",
       "      <td>Month</td>\n",
       "      <td>1</td>\n",
       "      <td>julho</td>\n",
       "      <td>dezembro</td>\n",
       "    </tr>\n",
       "    <tr>\n",
       "      <th>2496</th>\n",
       "      <td>2497</td>\n",
       "      <td>Basic</td>\n",
       "      <td>15</td>\n",
       "      <td>2022-04-08</td>\n",
       "      <td>2023-07-14</td>\n",
       "      <td>Spain</td>\n",
       "      <td>33</td>\n",
       "      <td>Female</td>\n",
       "      <td>Smart TV</td>\n",
       "      <td>Month</td>\n",
       "      <td>1</td>\n",
       "      <td>abril</td>\n",
       "      <td>julho</td>\n",
       "    </tr>\n",
       "    <tr>\n",
       "      <th>2497</th>\n",
       "      <td>2498</td>\n",
       "      <td>Standard</td>\n",
       "      <td>12</td>\n",
       "      <td>2022-09-08</td>\n",
       "      <td>2023-07-15</td>\n",
       "      <td>United States</td>\n",
       "      <td>38</td>\n",
       "      <td>Male</td>\n",
       "      <td>Laptop</td>\n",
       "      <td>Month</td>\n",
       "      <td>0</td>\n",
       "      <td>setembro</td>\n",
       "      <td>julho</td>\n",
       "    </tr>\n",
       "    <tr>\n",
       "      <th>2498</th>\n",
       "      <td>2499</td>\n",
       "      <td>Standard</td>\n",
       "      <td>13</td>\n",
       "      <td>2022-12-08</td>\n",
       "      <td>2023-12-07</td>\n",
       "      <td>Canada</td>\n",
       "      <td>48</td>\n",
       "      <td>Female</td>\n",
       "      <td>Tablet</td>\n",
       "      <td>Month</td>\n",
       "      <td>0</td>\n",
       "      <td>dezembro</td>\n",
       "      <td>dezembro</td>\n",
       "    </tr>\n",
       "    <tr>\n",
       "      <th>2499</th>\n",
       "      <td>2500</td>\n",
       "      <td>Basic</td>\n",
       "      <td>15</td>\n",
       "      <td>2022-08-13</td>\n",
       "      <td>2023-12-07</td>\n",
       "      <td>United States</td>\n",
       "      <td>35</td>\n",
       "      <td>Female</td>\n",
       "      <td>Smart TV</td>\n",
       "      <td>Month</td>\n",
       "      <td>1</td>\n",
       "      <td>agosto</td>\n",
       "      <td>dezembro</td>\n",
       "    </tr>\n",
       "  </tbody>\n",
       "</table>\n",
       "<p>2500 rows × 13 columns</p>\n",
       "</div>"
      ],
      "text/plain": [
       "     id_usuario tipo_assinatura  receita_mensal data_afiliacao data_ultimo_pg  \\\n",
       "0             1           Basic              10     2022-01-15     2023-10-06   \n",
       "1             2         Premium              15     2021-05-09     2023-06-22   \n",
       "2             3        Standard              12     2023-02-28     2023-06-27   \n",
       "3             4        Standard              12     2022-10-07     2023-06-26   \n",
       "4             5           Basic              10     2023-01-05     2023-06-28   \n",
       "...         ...             ...             ...            ...            ...   \n",
       "2495       2496         Premium              14     2022-07-25     2023-12-07   \n",
       "2496       2497           Basic              15     2022-04-08     2023-07-14   \n",
       "2497       2498        Standard              12     2022-09-08     2023-07-15   \n",
       "2498       2499        Standard              13     2022-12-08     2023-12-07   \n",
       "2499       2500           Basic              15     2022-08-13     2023-12-07   \n",
       "\n",
       "                pais  idade  genero dispositivo  plano  anos_como_cliente  \\\n",
       "0      United States     28    Male  Smartphone  Month                  1   \n",
       "1             Canada     35  Female      Tablet  Month                  2   \n",
       "2     United Kingdom     42    Male    Smart TV  Month                  0   \n",
       "3          Australia     51  Female      Laptop  Month                  0   \n",
       "4            Germany     33    Male  Smartphone  Month                  0   \n",
       "...              ...    ...     ...         ...    ...                ...   \n",
       "2495           Spain     28  Female    Smart TV  Month                  1   \n",
       "2496           Spain     33  Female    Smart TV  Month                  1   \n",
       "2497   United States     38    Male      Laptop  Month                  0   \n",
       "2498          Canada     48  Female      Tablet  Month                  0   \n",
       "2499   United States     35  Female    Smart TV  Month                  1   \n",
       "\n",
       "     mes_afiliacao mes_ultimo_pg  \n",
       "0          janeiro       outubro  \n",
       "1             maio         junho  \n",
       "2        fevereiro         junho  \n",
       "3          outubro         junho  \n",
       "4          janeiro         junho  \n",
       "...            ...           ...  \n",
       "2495         julho      dezembro  \n",
       "2496         abril         julho  \n",
       "2497      setembro         julho  \n",
       "2498      dezembro      dezembro  \n",
       "2499        agosto      dezembro  \n",
       "\n",
       "[2500 rows x 13 columns]"
      ]
     },
     "execution_count": 74,
     "metadata": {},
     "output_type": "execute_result"
    }
   ],
   "source": [
    "# Validar o dataframe\n",
    "schema.validate(df_users)"
   ]
  },
  {
   "cell_type": "markdown",
   "metadata": {},
   "source": [
    "# CARREGAMENTO\n",
    "\n",
    "Armazenados dos dados tratados na BigQuery."
   ]
  },
  {
   "cell_type": "code",
   "execution_count": null,
   "metadata": {},
   "outputs": [],
   "source": [
    "# Importa a bibliotecas para autenticação do usuário no Google Colab\n",
    "from google.colab import auth\n",
    "auth.authenticate_user()"
   ]
  },
  {
   "cell_type": "code",
   "execution_count": null,
   "metadata": {},
   "outputs": [],
   "source": [
    "# Importa a bibliotecas para interagir com o BigQuery\n",
    "from google.cloud import bigquery"
   ]
  },
  {
   "cell_type": "code",
   "execution_count": null,
   "metadata": {},
   "outputs": [],
   "source": [
    "# Biblioteca com complementos para o Pandas interagir diretamente com o BigQuery\n",
    "import pandas_gbq"
   ]
  },
  {
   "cell_type": "code",
   "execution_count": null,
   "metadata": {},
   "outputs": [],
   "source": [
    "# Define o projeto, conjunto de dados e tabela para acesso\n",
    "project_id = ''\n",
    "dataset_id = ''\n",
    "table_id = ''"
   ]
  },
  {
   "cell_type": "code",
   "execution_count": null,
   "metadata": {},
   "outputs": [],
   "source": [
    "# Carrega o dataframe modificado de volta para o BigQuery\n",
    "pandas_gbq.to_gbq(\n",
    "    df,\n",
    "    f'',\n",
    "    project_id=project_id,\n",
    "    if_exists='replace'\n",
    ")"
   ]
  },
  {
   "cell_type": "markdown",
   "metadata": {},
   "source": [
    "# ANÁLISE"
   ]
  }
 ],
 "metadata": {
  "colab": {
   "authorship_tag": "ABX9TyPibjN7yNJna0/GJxEoCV6n",
   "include_colab_link": true,
   "provenance": []
  },
  "kernelspec": {
   "display_name": "Python 3 (ipykernel)",
   "language": "python",
   "name": "python3"
  },
  "language_info": {
   "codemirror_mode": {
    "name": "ipython",
    "version": 3
   },
   "file_extension": ".py",
   "mimetype": "text/x-python",
   "name": "python",
   "nbconvert_exporter": "python",
   "pygments_lexer": "ipython3",
   "version": "3.11.5"
  }
 },
 "nbformat": 4,
 "nbformat_minor": 1
}
