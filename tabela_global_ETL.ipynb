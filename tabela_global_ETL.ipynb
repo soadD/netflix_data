{
  "cells": [
    {
      "cell_type": "markdown",
      "metadata": {
        "colab_type": "text",
        "id": "view-in-github"
      },
      "source": [
        "<a href=\"https://colab.research.google.com/github/soadD/netflix_data/blob/main/tabela_global_ETL.ipynb\" target=\"_parent\"><img src=\"https://colab.research.google.com/assets/colab-badge.svg\" alt=\"Open In Colab\"/></a>"
      ]
    },
    {
      "cell_type": "markdown",
      "metadata": {
        "id": "jLorZil2rgbO"
      },
      "source": [
        "## **Extração**"
      ]
    },
    {
      "cell_type": "code",
      "execution_count": null,
      "metadata": {
        "id": "nFCF-3amrfTB"
      },
      "outputs": [],
      "source": [
        "#Abertura das bibliotecas\n",
        "import pandas as pd\n",
        "#nova modificacao ewerton after gitignore"
      ]
    },
    {
      "cell_type": "code",
      "execution_count": null,
      "metadata": {
        "colab": {
          "base_uri": "https://localhost:8080/"
        },
        "id": "Szo392f4sLYC",
        "outputId": "ce8ad7d2-1017-40f5-dbd2-fbd13ec512e4"
      },
      "outputs": [
        {
          "name": "stdout",
          "output_type": "stream",
          "text": [
            "Drive already mounted at /content/drive; to attempt to forcibly remount, call drive.mount(\"/content/drive\", force_remount=True).\n"
          ]
        }
      ],
      "source": [
        "# Importar a biblioteca para conectar o Google Drive ao ambiente Colab\n",
        "from google.colab import drive\n",
        "drive.mount('/content/drive')"
      ]
    },
    {
      "cell_type": "code",
      "execution_count": null,
      "metadata": {
        "id": "w1dTqcBErkYX"
      },
      "outputs": [],
      "source": [
        "# Passo 4: Extração da informação via pandas\n",
        "df = pd.read_csv('/content/drive/MyDrive/Soul Code/netflix/netflixtop10.csv')"
      ]
    },
    {
      "cell_type": "code",
      "execution_count": null,
      "metadata": {
        "colab": {
          "base_uri": "https://localhost:8080/",
          "height": 652
        },
        "id": "419t8M0ps_jN",
        "outputId": "63314480-b78c-4e18-ff5b-d57691e54edb"
      },
      "outputs": [
        {
          "data": {
            "application/vnd.google.colaboratory.intrinsic+json": {
              "summary": "{\n  \"name\": \"df\",\n  \"rows\": 6080,\n  \"fields\": [\n    {\n      \"column\": \"week\",\n      \"properties\": {\n        \"dtype\": \"object\",\n        \"num_unique_values\": 152,\n        \"samples\": [\n          \"2023-02-05\",\n          \"2021-08-01\",\n          \"2022-07-24\"\n        ],\n        \"semantic_type\": \"\",\n        \"description\": \"\"\n      }\n    },\n    {\n      \"column\": \"category\",\n      \"properties\": {\n        \"dtype\": \"category\",\n        \"num_unique_values\": 4,\n        \"samples\": [\n          \"Films (Non-English)\",\n          \"TV (Non-English)\",\n          \"Films (English)\"\n        ],\n        \"semantic_type\": \"\",\n        \"description\": \"\"\n      }\n    },\n    {\n      \"column\": \"weekly_rank\",\n      \"properties\": {\n        \"dtype\": \"number\",\n        \"std\": 2,\n        \"min\": 1,\n        \"max\": 10,\n        \"num_unique_values\": 10,\n        \"samples\": [\n          9,\n          2,\n          6\n        ],\n        \"semantic_type\": \"\",\n        \"description\": \"\"\n      }\n    },\n    {\n      \"column\": \"show_title\",\n      \"properties\": {\n        \"dtype\": \"category\",\n        \"num_unique_values\": 1993,\n        \"samples\": [\n          \"Phenomena\",\n          \"Fierce\",\n          \"The Three Musketeers: D'Artagnan\"\n        ],\n        \"semantic_type\": \"\",\n        \"description\": \"\"\n      }\n    },\n    {\n      \"column\": \"season_title\",\n      \"properties\": {\n        \"dtype\": \"category\",\n        \"num_unique_values\": 878,\n        \"samples\": [\n          \"THE DAYS: Limited Series\",\n          \"Predators: Season 1\",\n          \"Locke & Key: Season 1\"\n        ],\n        \"semantic_type\": \"\",\n        \"description\": \"\"\n      }\n    },\n    {\n      \"column\": \"weekly_hours_viewed\",\n      \"properties\": {\n        \"dtype\": \"number\",\n        \"std\": 26206714,\n        \"min\": 700000,\n        \"max\": 571760000,\n        \"num_unique_values\": 2729,\n        \"samples\": [\n          2990000,\n          28270000,\n          13560000\n        ],\n        \"semantic_type\": \"\",\n        \"description\": \"\"\n      }\n    },\n    {\n      \"column\": \"runtime\",\n      \"properties\": {\n        \"dtype\": \"category\",\n        \"num_unique_values\": 364,\n        \"samples\": [\n          \"1,85\",\n          \"0\",\n          \"2,0667\"\n        ],\n        \"semantic_type\": \"\",\n        \"description\": \"\"\n      }\n    },\n    {\n      \"column\": \"weekly_views\",\n      \"properties\": {\n        \"dtype\": \"number\",\n        \"std\": 5035917.455867516,\n        \"min\": 600000.0,\n        \"max\": 50800000.0,\n        \"num_unique_values\": 202,\n        \"samples\": [\n          10900000.0,\n          1800000.0,\n          900000.0\n        ],\n        \"semantic_type\": \"\",\n        \"description\": \"\"\n      }\n    },\n    {\n      \"column\": \"cumulative_weeks_in_top_10\",\n      \"properties\": {\n        \"dtype\": \"number\",\n        \"std\": 3,\n        \"min\": 1,\n        \"max\": 30,\n        \"num_unique_values\": 30,\n        \"samples\": [\n          26,\n          15,\n          19\n        ],\n        \"semantic_type\": \"\",\n        \"description\": \"\"\n      }\n    },\n    {\n      \"column\": \"is_staggered_launch\",\n      \"properties\": {\n        \"dtype\": \"boolean\",\n        \"num_unique_values\": 2,\n        \"samples\": [\n          true,\n          false\n        ],\n        \"semantic_type\": \"\",\n        \"description\": \"\"\n      }\n    },\n    {\n      \"column\": \"episode_launch_details\",\n      \"properties\": {\n        \"dtype\": \"category\",\n        \"num_unique_values\": 78,\n        \"samples\": [\n          \"[{\\\"episodesLaunched\\\":11,\\\"countryList\\\":[\\\"KI\\\",\\\"NZ\\\",\\\"TH\\\",\\\"JP\\\",\\\"NU\\\",\\\"TO\\\",\\\"TV\\\",\\\"TL\\\",\\\"PN\\\",\\\"SB\\\",\\\"HK\\\",\\\"KH\\\",\\\"WF\\\",\\\"MO\\\",\\\"ID\\\",\\\"PH\\\",\\\"UM\\\",\\\"IN\\\",\\\"SG\\\",\\\"CX\\\",\\\"MM\\\",\\\"CC\\\",\\\"CK\\\",\\\"FJ\\\",\\\"BT\\\",\\\"PG\\\",\\\"NF\\\",\\\"NC\\\",\\\"KR\\\",\\\"WS\\\",\\\"MN\\\",\\\"NR\\\",\\\"MY\\\",\\\"LA\\\",\\\"TW\\\",\\\"BD\\\",\\\"PF\\\",\\\"NP\\\",\\\"VU\\\",\\\"BN\\\",\\\"MV\\\",\\\"TK\\\",\\\"AU\\\",\\\"VN\\\",\\\"LK\\\"]},{\\\"episodesLaunched\\\":12,\\\"countryList\\\":[\\\"SM\\\",\\\"NL\\\",\\\"BH\\\",\\\"ER\\\",\\\"AM\\\",\\\"QA\\\",\\\"CA\\\",\\\"CW\\\",\\\"MG\\\",\\\"IE\\\",\\\"ET\\\",\\\"GD\\\",\\\"SN\\\",\\\"IR\\\",\\\"DM\\\",\\\"ZW\\\",\\\"LR\\\",\\\"SC\\\",\\\"NE\\\",\\\"LS\\\",\\\"GR\\\",\\\"IL\\\",\\\"RE\\\",\\\"ST\\\",\\\"BE\\\",\\\"DK\\\",\\\"GN\\\",\\\"UA\\\",\\\"SI\\\",\\\"PK\\\",\\\"BJ\\\",\\\"TZ\\\",\\\"GW\\\",\\\"CI\\\",\\\"MD\\\",\\\"SK\\\",\\\"AD\\\",\\\"MZ\\\",\\\"GB\\\",\\\"IS\\\",\\\"HR\\\",\\\"MQ\\\",\\\"CG\\\",\\\"FR\\\",\\\"FK\\\",\\\"EG\\\",\\\"MC\\\",\\\"CM\\\",\\\"MR\\\",\\\"VA\\\",\\\"VG\\\",\\\"AW\\\",\\\"CD\\\",\\\"CV\\\",\\\"AG\\\",\\\"SA\\\",\\\"AQ\\\",\\\"BY\\\",\\\"ZM\\\",\\\"NA\\\",\\\"RW\\\",\\\"EH\\\",\\\"AE\\\",\\\"GM\\\",\\\"BA\\\",\\\"SO\\\",\\\"OM\\\",\\\"PM\\\",\\\"UG\\\",\\\"GA\\\",\\\"PT\\\",\\\"YE\\\",\\\"AF\\\",\\\"CH\\\",\\\"SD\\\",\\\"YT\\\",\\\"BG\\\",\\\"DJ\\\",\\\"IO\\\",\\\"MH\\\",\\\"KY\\\",\\\"MT\\\",\\\"BM\\\",\\\"HU\\\",\\\"AT\\\",\\\"KM\\\",\\\"SZ\\\",\\\"ZA\\\",\\\"FM\\\",\\\"BI\\\",\\\"KZ\\\",\\\"JE\\\",\\\"FO\\\",\\\"BQ\\\",\\\"NG\\\",\\\"AS\\\",\\\"GF\\\",\\\"TR\\\",\\\"DZ\\\",\\\"ES\\\",\\\"IT\\\",\\\"SL\\\",\\\"SE\\\",\\\"JO\\\",\\\"VI\\\",\\\"GL\\\",\\\"VC\\\",\\\"GE\\\",\\\"RU\\\",\\\"RS\\\",\\\"NO\\\",\\\"LI\\\",\\\"LU\\\",\\\"MW\\\",\\\"MK\\\",\\\"HM\\\",\\\"GY\\\",\\\"TN\\\",\\\"RO\\\",\\\"TT\\\",\\\"PW\\\",\\\"IM\\\",\\\"MU\\\",\\\"TG\\\",\\\"CZ\\\",\\\"IQ\\\",\\\"GH\\\",\\\"BS\\\",\\\"GG\\\",\\\"HT\\\",\\\"FI\\\",\\\"GP\\\",\\\"GS\\\",\\\"KN\\\",\\\"MP\\\",\\\"SX\\\",\\\"ME\\\",\\\"TD\\\",\\\"SH\\\",\\\"CY\\\",\\\"AL\\\",\\\"CF\\\",\\\"LC\\\",\\\"AO\\\",\\\"BL\\\",\\\"MA\\\",\\\"EE\\\",\\\"MF\\\",\\\"BF\\\",\\\"LV\\\",\\\"AZ\\\",\\\"TC\\\",\\\"UZ\\\",\\\"MS\\\",\\\"ML\\\",\\\"BB\\\",\\\"GU\\\",\\\"TJ\\\",\\\"DE\\\",\\\"GI\\\",\\\"KW\\\",\\\"LB\\\",\\\"LT\\\",\\\"JM\\\",\\\"US\\\",\\\"LY\\\",\\\"KG\\\",\\\"SS\\\",\\\"KE\\\",\\\"PS\\\",\\\"BW\\\",\\\"SR\\\",\\\"AI\\\",\\\"TM\\\",\\\"PL\\\"]},{\\\"episodesLaunched\\\":6,\\\"countryList\\\":[\\\"VE\\\",\\\"GT\\\",\\\"AR\\\",\\\"SV\\\",\\\"PY\\\",\\\"BZ\\\",\\\"PE\\\",\\\"EC\\\",\\\"DO\\\",\\\"CU\\\",\\\"NI\\\",\\\"PR\\\",\\\"PA\\\",\\\"CO\\\",\\\"CR\\\",\\\"BR\\\",\\\"BO\\\",\\\"HN\\\",\\\"GQ\\\",\\\"MX\\\",\\\"UY\\\",\\\"CL\\\"]}]\",\n          \"[{\\\"episodesLaunched\\\":2,\\\"countryList\\\":[\\\"UY\\\",\\\"BO\\\",\\\"BR\\\",\\\"CR\\\",\\\"HN\\\",\\\"CO\\\",\\\"CL\\\",\\\"GT\\\",\\\"CU\\\",\\\"VE\\\",\\\"DO\\\",\\\"PR\\\",\\\"NI\\\",\\\"PE\\\",\\\"AR\\\",\\\"BZ\\\",\\\"GQ\\\",\\\"SV\\\",\\\"EC\\\",\\\"PA\\\",\\\"MX\\\",\\\"PY\\\"]},{\\\"episodesLaunched\\\":7,\\\"countryList\\\":[\\\"KI\\\",\\\"NZ\\\",\\\"MM\\\",\\\"KR\\\",\\\"MN\\\",\\\"ID\\\",\\\"LA\\\",\\\"BD\\\",\\\"LK\\\",\\\"CX\\\",\\\"PF\\\",\\\"VU\\\",\\\"MV\\\",\\\"NR\\\",\\\"KH\\\",\\\"TK\\\",\\\"IN\\\",\\\"UM\\\",\\\"BT\\\",\\\"VN\\\",\\\"CC\\\",\\\"AU\\\",\\\"NP\\\",\\\"NU\\\",\\\"SG\\\",\\\"TL\\\",\\\"FJ\\\",\\\"TO\\\",\\\"MY\\\",\\\"TV\\\",\\\"CK\\\",\\\"JP\\\",\\\"PG\\\",\\\"NC\\\",\\\"PH\\\",\\\"NF\\\",\\\"BN\\\",\\\"TW\\\",\\\"WF\\\",\\\"HK\\\",\\\"WS\\\",\\\"PN\\\",\\\"SB\\\",\\\"MO\\\",\\\"TH\\\"]},{\\\"episodesLaunched\\\":8,\\\"countryList\\\":[\\\"NA\\\",\\\"YT\\\",\\\"MS\\\",\\\"IR\\\",\\\"FI\\\",\\\"BE\\\",\\\"GI\\\",\\\"AQ\\\",\\\"RW\\\",\\\"ST\\\",\\\"IE\\\",\\\"BM\\\",\\\"GH\\\",\\\"GW\\\",\\\"MG\\\",\\\"SS\\\",\\\"IT\\\",\\\"AF\\\",\\\"HM\\\",\\\"KN\\\",\\\"IQ\\\",\\\"LB\\\",\\\"TG\\\",\\\"ZW\\\",\\\"MU\\\",\\\"SX\\\",\\\"IM\\\",\\\"LC\\\",\\\"IL\\\",\\\"NE\\\",\\\"YE\\\",\\\"CA\\\",\\\"BW\\\",\\\"ZM\\\",\\\"RE\\\",\\\"BF\\\",\\\"CH\\\",\\\"KY\\\",\\\"DE\\\",\\\"MT\\\",\\\"AS\\\",\\\"AO\\\",\\\"PK\\\",\\\"CZ\\\",\\\"CG\\\",\\\"TN\\\",\\\"FO\\\",\\\"SL\\\",\\\"UA\\\",\\\"SR\\\",\\\"KM\\\",\\\"TJ\\\",\\\"KW\\\",\\\"ME\\\",\\\"SO\\\",\\\"SZ\\\",\\\"NO\\\",\\\"NG\\\",\\\"FR\\\",\\\"MZ\\\",\\\"RU\\\",\\\"GA\\\",\\\"SM\\\",\\\"UZ\\\",\\\"IO\\\",\\\"PW\\\",\\\"LI\\\",\\\"EH\\\",\\\"BA\\\",\\\"SE\\\",\\\"CV\\\",\\\"SA\\\",\\\"TM\\\",\\\"GU\\\",\\\"CM\\\",\\\"VC\\\",\\\"HT\\\",\\\"OM\\\",\\\"LV\\\",\\\"TT\\\",\\\"GN\\\",\\\"LR\\\",\\\"AE\\\",\\\"GG\\\",\\\"BG\\\",\\\"GM\\\",\\\"DM\\\",\\\"GE\\\",\\\"RO\\\",\\\"SH\\\",\\\"FM\\\",\\\"MP\\\",\\\"LY\\\",\\\"TD\\\",\\\"AW\\\",\\\"JO\\\",\\\"KG\\\",\\\"JE\\\",\\\"HR\\\",\\\"BJ\\\",\\\"PL\\\",\\\"SK\\\",\\\"NL\\\",\\\"PS\\\",\\\"AM\\\",\\\"ZA\\\",\\\"GL\\\",\\\"MH\\\",\\\"KZ\\\",\\\"SD\\\",\\\"DK\\\",\\\"QA\\\",\\\"AZ\\\",\\\"CI\\\",\\\"GY\\\",\\\"MW\\\",\\\"CD\\\",\\\"MA\\\",\\\"SN\\\",\\\"MD\\\",\\\"EE\\\",\\\"DZ\\\",\\\"BQ\\\",\\\"AI\\\",\\\"MK\\\",\\\"ER\\\",\\\"BB\\\",\\\"BI\\\",\\\"MQ\\\",\\\"AL\\\",\\\"LT\\\",\\\"JM\\\",\\\"MR\\\",\\\"GF\\\",\\\"BH\\\",\\\"AG\\\",\\\"PT\\\",\\\"FK\\\",\\\"GB\\\",\\\"HU\\\",\\\"ET\\\",\\\"US\\\",\\\"ML\\\",\\\"ES\\\",\\\"GS\\\",\\\"LU\\\",\\\"PM\\\",\\\"CF\\\",\\\"RS\\\",\\\"IS\\\",\\\"GR\\\",\\\"TZ\\\",\\\"KE\\\",\\\"GD\\\",\\\"VI\\\",\\\"VA\\\",\\\"BS\\\",\\\"TR\\\",\\\"BY\\\",\\\"EG\\\",\\\"BL\\\",\\\"MF\\\",\\\"VG\\\",\\\"TC\\\",\\\"DJ\\\",\\\"MC\\\",\\\"AT\\\",\\\"GP\\\",\\\"CW\\\",\\\"CY\\\",\\\"LS\\\",\\\"SI\\\",\\\"UG\\\",\\\"AD\\\",\\\"SC\\\"]}]\"\n        ],\n        \"semantic_type\": \"\",\n        \"description\": \"\"\n      }\n    }\n  ]\n}",
              "type": "dataframe",
              "variable_name": "df"
            },
            "text/html": [
              "\n",
              "  <div id=\"df-8d33394a-785e-48a8-9a07-7ea37e0a083d\" class=\"colab-df-container\">\n",
              "    <div>\n",
              "<style scoped>\n",
              "    .dataframe tbody tr th:only-of-type {\n",
              "        vertical-align: middle;\n",
              "    }\n",
              "\n",
              "    .dataframe tbody tr th {\n",
              "        vertical-align: top;\n",
              "    }\n",
              "\n",
              "    .dataframe thead th {\n",
              "        text-align: right;\n",
              "    }\n",
              "</style>\n",
              "<table border=\"1\" class=\"dataframe\">\n",
              "  <thead>\n",
              "    <tr style=\"text-align: right;\">\n",
              "      <th></th>\n",
              "      <th>week</th>\n",
              "      <th>category</th>\n",
              "      <th>weekly_rank</th>\n",
              "      <th>show_title</th>\n",
              "      <th>season_title</th>\n",
              "      <th>weekly_hours_viewed</th>\n",
              "      <th>runtime</th>\n",
              "      <th>weekly_views</th>\n",
              "      <th>cumulative_weeks_in_top_10</th>\n",
              "      <th>is_staggered_launch</th>\n",
              "      <th>episode_launch_details</th>\n",
              "    </tr>\n",
              "  </thead>\n",
              "  <tbody>\n",
              "    <tr>\n",
              "      <th>0</th>\n",
              "      <td>2024-05-26</td>\n",
              "      <td>Films (English)</td>\n",
              "      <td>1</td>\n",
              "      <td>Atlas</td>\n",
              "      <td>NaN</td>\n",
              "      <td>56300000</td>\n",
              "      <td>2</td>\n",
              "      <td>28200000.0</td>\n",
              "      <td>1</td>\n",
              "      <td>False</td>\n",
              "      <td>NaN</td>\n",
              "    </tr>\n",
              "    <tr>\n",
              "      <th>1</th>\n",
              "      <td>2024-05-26</td>\n",
              "      <td>Films (English)</td>\n",
              "      <td>2</td>\n",
              "      <td>Thelma the Unicorn</td>\n",
              "      <td>NaN</td>\n",
              "      <td>17400000</td>\n",
              "      <td>1,6333</td>\n",
              "      <td>10700000.0</td>\n",
              "      <td>2</td>\n",
              "      <td>False</td>\n",
              "      <td>NaN</td>\n",
              "    </tr>\n",
              "    <tr>\n",
              "      <th>2</th>\n",
              "      <td>2024-05-26</td>\n",
              "      <td>Films (English)</td>\n",
              "      <td>3</td>\n",
              "      <td>Ice Age: Dawn of the Dinosaurs</td>\n",
              "      <td>NaN</td>\n",
              "      <td>15100000</td>\n",
              "      <td>1,5833</td>\n",
              "      <td>9500000.0</td>\n",
              "      <td>1</td>\n",
              "      <td>False</td>\n",
              "      <td>NaN</td>\n",
              "    </tr>\n",
              "    <tr>\n",
              "      <th>3</th>\n",
              "      <td>2024-05-26</td>\n",
              "      <td>Films (English)</td>\n",
              "      <td>4</td>\n",
              "      <td>Mother of the Bride</td>\n",
              "      <td>NaN</td>\n",
              "      <td>14000000</td>\n",
              "      <td>1,5</td>\n",
              "      <td>9300000.0</td>\n",
              "      <td>3</td>\n",
              "      <td>False</td>\n",
              "      <td>NaN</td>\n",
              "    </tr>\n",
              "    <tr>\n",
              "      <th>4</th>\n",
              "      <td>2024-05-26</td>\n",
              "      <td>Films (English)</td>\n",
              "      <td>5</td>\n",
              "      <td>Disturbia</td>\n",
              "      <td>NaN</td>\n",
              "      <td>14100000</td>\n",
              "      <td>1,75</td>\n",
              "      <td>8100000.0</td>\n",
              "      <td>2</td>\n",
              "      <td>False</td>\n",
              "      <td>NaN</td>\n",
              "    </tr>\n",
              "    <tr>\n",
              "      <th>...</th>\n",
              "      <td>...</td>\n",
              "      <td>...</td>\n",
              "      <td>...</td>\n",
              "      <td>...</td>\n",
              "      <td>...</td>\n",
              "      <td>...</td>\n",
              "      <td>...</td>\n",
              "      <td>...</td>\n",
              "      <td>...</td>\n",
              "      <td>...</td>\n",
              "      <td>...</td>\n",
              "    </tr>\n",
              "    <tr>\n",
              "      <th>6075</th>\n",
              "      <td>2021-07-04</td>\n",
              "      <td>TV (Non-English)</td>\n",
              "      <td>6</td>\n",
              "      <td>Elite</td>\n",
              "      <td>Elite: Season 1</td>\n",
              "      <td>10530000</td>\n",
              "      <td>NaN</td>\n",
              "      <td>NaN</td>\n",
              "      <td>1</td>\n",
              "      <td>False</td>\n",
              "      <td>NaN</td>\n",
              "    </tr>\n",
              "    <tr>\n",
              "      <th>6076</th>\n",
              "      <td>2021-07-04</td>\n",
              "      <td>TV (Non-English)</td>\n",
              "      <td>7</td>\n",
              "      <td>Elite</td>\n",
              "      <td>Elite: Season 3</td>\n",
              "      <td>10200000</td>\n",
              "      <td>NaN</td>\n",
              "      <td>NaN</td>\n",
              "      <td>1</td>\n",
              "      <td>False</td>\n",
              "      <td>NaN</td>\n",
              "    </tr>\n",
              "    <tr>\n",
              "      <th>6077</th>\n",
              "      <td>2021-07-04</td>\n",
              "      <td>TV (Non-English)</td>\n",
              "      <td>8</td>\n",
              "      <td>Elite</td>\n",
              "      <td>Elite: Season 2</td>\n",
              "      <td>10140000</td>\n",
              "      <td>NaN</td>\n",
              "      <td>NaN</td>\n",
              "      <td>1</td>\n",
              "      <td>False</td>\n",
              "      <td>NaN</td>\n",
              "    </tr>\n",
              "    <tr>\n",
              "      <th>6078</th>\n",
              "      <td>2021-07-04</td>\n",
              "      <td>TV (Non-English)</td>\n",
              "      <td>9</td>\n",
              "      <td>Katla</td>\n",
              "      <td>Katla: Season 1</td>\n",
              "      <td>9190000</td>\n",
              "      <td>NaN</td>\n",
              "      <td>NaN</td>\n",
              "      <td>1</td>\n",
              "      <td>False</td>\n",
              "      <td>NaN</td>\n",
              "    </tr>\n",
              "    <tr>\n",
              "      <th>6079</th>\n",
              "      <td>2021-07-04</td>\n",
              "      <td>TV (Non-English)</td>\n",
              "      <td>10</td>\n",
              "      <td>Record of Ragnarok</td>\n",
              "      <td>Record of Ragnarok: Season 1</td>\n",
              "      <td>9140000</td>\n",
              "      <td>NaN</td>\n",
              "      <td>NaN</td>\n",
              "      <td>1</td>\n",
              "      <td>False</td>\n",
              "      <td>NaN</td>\n",
              "    </tr>\n",
              "  </tbody>\n",
              "</table>\n",
              "<p>6080 rows × 11 columns</p>\n",
              "</div>\n",
              "    <div class=\"colab-df-buttons\">\n",
              "\n",
              "  <div class=\"colab-df-container\">\n",
              "    <button class=\"colab-df-convert\" onclick=\"convertToInteractive('df-8d33394a-785e-48a8-9a07-7ea37e0a083d')\"\n",
              "            title=\"Convert this dataframe to an interactive table.\"\n",
              "            style=\"display:none;\">\n",
              "\n",
              "  <svg xmlns=\"http://www.w3.org/2000/svg\" height=\"24px\" viewBox=\"0 -960 960 960\">\n",
              "    <path d=\"M120-120v-720h720v720H120Zm60-500h600v-160H180v160Zm220 220h160v-160H400v160Zm0 220h160v-160H400v160ZM180-400h160v-160H180v160Zm440 0h160v-160H620v160ZM180-180h160v-160H180v160Zm440 0h160v-160H620v160Z\"/>\n",
              "  </svg>\n",
              "    </button>\n",
              "\n",
              "  <style>\n",
              "    .colab-df-container {\n",
              "      display:flex;\n",
              "      gap: 12px;\n",
              "    }\n",
              "\n",
              "    .colab-df-convert {\n",
              "      background-color: #E8F0FE;\n",
              "      border: none;\n",
              "      border-radius: 50%;\n",
              "      cursor: pointer;\n",
              "      display: none;\n",
              "      fill: #1967D2;\n",
              "      height: 32px;\n",
              "      padding: 0 0 0 0;\n",
              "      width: 32px;\n",
              "    }\n",
              "\n",
              "    .colab-df-convert:hover {\n",
              "      background-color: #E2EBFA;\n",
              "      box-shadow: 0px 1px 2px rgba(60, 64, 67, 0.3), 0px 1px 3px 1px rgba(60, 64, 67, 0.15);\n",
              "      fill: #174EA6;\n",
              "    }\n",
              "\n",
              "    .colab-df-buttons div {\n",
              "      margin-bottom: 4px;\n",
              "    }\n",
              "\n",
              "    [theme=dark] .colab-df-convert {\n",
              "      background-color: #3B4455;\n",
              "      fill: #D2E3FC;\n",
              "    }\n",
              "\n",
              "    [theme=dark] .colab-df-convert:hover {\n",
              "      background-color: #434B5C;\n",
              "      box-shadow: 0px 1px 3px 1px rgba(0, 0, 0, 0.15);\n",
              "      filter: drop-shadow(0px 1px 2px rgba(0, 0, 0, 0.3));\n",
              "      fill: #FFFFFF;\n",
              "    }\n",
              "  </style>\n",
              "\n",
              "    <script>\n",
              "      const buttonEl =\n",
              "        document.querySelector('#df-8d33394a-785e-48a8-9a07-7ea37e0a083d button.colab-df-convert');\n",
              "      buttonEl.style.display =\n",
              "        google.colab.kernel.accessAllowed ? 'block' : 'none';\n",
              "\n",
              "      async function convertToInteractive(key) {\n",
              "        const element = document.querySelector('#df-8d33394a-785e-48a8-9a07-7ea37e0a083d');\n",
              "        const dataTable =\n",
              "          await google.colab.kernel.invokeFunction('convertToInteractive',\n",
              "                                                    [key], {});\n",
              "        if (!dataTable) return;\n",
              "\n",
              "        const docLinkHtml = 'Like what you see? Visit the ' +\n",
              "          '<a target=\"_blank\" href=https://colab.research.google.com/notebooks/data_table.ipynb>data table notebook</a>'\n",
              "          + ' to learn more about interactive tables.';\n",
              "        element.innerHTML = '';\n",
              "        dataTable['output_type'] = 'display_data';\n",
              "        await google.colab.output.renderOutput(dataTable, element);\n",
              "        const docLink = document.createElement('div');\n",
              "        docLink.innerHTML = docLinkHtml;\n",
              "        element.appendChild(docLink);\n",
              "      }\n",
              "    </script>\n",
              "  </div>\n",
              "\n",
              "\n",
              "<div id=\"df-01a4b8bf-edd5-4b76-88a4-5989bee42ff9\">\n",
              "  <button class=\"colab-df-quickchart\" onclick=\"quickchart('df-01a4b8bf-edd5-4b76-88a4-5989bee42ff9')\"\n",
              "            title=\"Suggest charts\"\n",
              "            style=\"display:none;\">\n",
              "\n",
              "<svg xmlns=\"http://www.w3.org/2000/svg\" height=\"24px\"viewBox=\"0 0 24 24\"\n",
              "     width=\"24px\">\n",
              "    <g>\n",
              "        <path d=\"M19 3H5c-1.1 0-2 .9-2 2v14c0 1.1.9 2 2 2h14c1.1 0 2-.9 2-2V5c0-1.1-.9-2-2-2zM9 17H7v-7h2v7zm4 0h-2V7h2v10zm4 0h-2v-4h2v4z\"/>\n",
              "    </g>\n",
              "</svg>\n",
              "  </button>\n",
              "\n",
              "<style>\n",
              "  .colab-df-quickchart {\n",
              "      --bg-color: #E8F0FE;\n",
              "      --fill-color: #1967D2;\n",
              "      --hover-bg-color: #E2EBFA;\n",
              "      --hover-fill-color: #174EA6;\n",
              "      --disabled-fill-color: #AAA;\n",
              "      --disabled-bg-color: #DDD;\n",
              "  }\n",
              "\n",
              "  [theme=dark] .colab-df-quickchart {\n",
              "      --bg-color: #3B4455;\n",
              "      --fill-color: #D2E3FC;\n",
              "      --hover-bg-color: #434B5C;\n",
              "      --hover-fill-color: #FFFFFF;\n",
              "      --disabled-bg-color: #3B4455;\n",
              "      --disabled-fill-color: #666;\n",
              "  }\n",
              "\n",
              "  .colab-df-quickchart {\n",
              "    background-color: var(--bg-color);\n",
              "    border: none;\n",
              "    border-radius: 50%;\n",
              "    cursor: pointer;\n",
              "    display: none;\n",
              "    fill: var(--fill-color);\n",
              "    height: 32px;\n",
              "    padding: 0;\n",
              "    width: 32px;\n",
              "  }\n",
              "\n",
              "  .colab-df-quickchart:hover {\n",
              "    background-color: var(--hover-bg-color);\n",
              "    box-shadow: 0 1px 2px rgba(60, 64, 67, 0.3), 0 1px 3px 1px rgba(60, 64, 67, 0.15);\n",
              "    fill: var(--button-hover-fill-color);\n",
              "  }\n",
              "\n",
              "  .colab-df-quickchart-complete:disabled,\n",
              "  .colab-df-quickchart-complete:disabled:hover {\n",
              "    background-color: var(--disabled-bg-color);\n",
              "    fill: var(--disabled-fill-color);\n",
              "    box-shadow: none;\n",
              "  }\n",
              "\n",
              "  .colab-df-spinner {\n",
              "    border: 2px solid var(--fill-color);\n",
              "    border-color: transparent;\n",
              "    border-bottom-color: var(--fill-color);\n",
              "    animation:\n",
              "      spin 1s steps(1) infinite;\n",
              "  }\n",
              "\n",
              "  @keyframes spin {\n",
              "    0% {\n",
              "      border-color: transparent;\n",
              "      border-bottom-color: var(--fill-color);\n",
              "      border-left-color: var(--fill-color);\n",
              "    }\n",
              "    20% {\n",
              "      border-color: transparent;\n",
              "      border-left-color: var(--fill-color);\n",
              "      border-top-color: var(--fill-color);\n",
              "    }\n",
              "    30% {\n",
              "      border-color: transparent;\n",
              "      border-left-color: var(--fill-color);\n",
              "      border-top-color: var(--fill-color);\n",
              "      border-right-color: var(--fill-color);\n",
              "    }\n",
              "    40% {\n",
              "      border-color: transparent;\n",
              "      border-right-color: var(--fill-color);\n",
              "      border-top-color: var(--fill-color);\n",
              "    }\n",
              "    60% {\n",
              "      border-color: transparent;\n",
              "      border-right-color: var(--fill-color);\n",
              "    }\n",
              "    80% {\n",
              "      border-color: transparent;\n",
              "      border-right-color: var(--fill-color);\n",
              "      border-bottom-color: var(--fill-color);\n",
              "    }\n",
              "    90% {\n",
              "      border-color: transparent;\n",
              "      border-bottom-color: var(--fill-color);\n",
              "    }\n",
              "  }\n",
              "</style>\n",
              "\n",
              "  <script>\n",
              "    async function quickchart(key) {\n",
              "      const quickchartButtonEl =\n",
              "        document.querySelector('#' + key + ' button');\n",
              "      quickchartButtonEl.disabled = true;  // To prevent multiple clicks.\n",
              "      quickchartButtonEl.classList.add('colab-df-spinner');\n",
              "      try {\n",
              "        const charts = await google.colab.kernel.invokeFunction(\n",
              "            'suggestCharts', [key], {});\n",
              "      } catch (error) {\n",
              "        console.error('Error during call to suggestCharts:', error);\n",
              "      }\n",
              "      quickchartButtonEl.classList.remove('colab-df-spinner');\n",
              "      quickchartButtonEl.classList.add('colab-df-quickchart-complete');\n",
              "    }\n",
              "    (() => {\n",
              "      let quickchartButtonEl =\n",
              "        document.querySelector('#df-01a4b8bf-edd5-4b76-88a4-5989bee42ff9 button');\n",
              "      quickchartButtonEl.style.display =\n",
              "        google.colab.kernel.accessAllowed ? 'block' : 'none';\n",
              "    })();\n",
              "  </script>\n",
              "</div>\n",
              "    </div>\n",
              "  </div>\n"
            ],
            "text/plain": [
              "            week          category  weekly_rank  \\\n",
              "0     2024-05-26   Films (English)            1   \n",
              "1     2024-05-26   Films (English)            2   \n",
              "2     2024-05-26   Films (English)            3   \n",
              "3     2024-05-26   Films (English)            4   \n",
              "4     2024-05-26   Films (English)            5   \n",
              "...          ...               ...          ...   \n",
              "6075  2021-07-04  TV (Non-English)            6   \n",
              "6076  2021-07-04  TV (Non-English)            7   \n",
              "6077  2021-07-04  TV (Non-English)            8   \n",
              "6078  2021-07-04  TV (Non-English)            9   \n",
              "6079  2021-07-04  TV (Non-English)           10   \n",
              "\n",
              "                          show_title                  season_title  \\\n",
              "0                              Atlas                           NaN   \n",
              "1                 Thelma the Unicorn                           NaN   \n",
              "2     Ice Age: Dawn of the Dinosaurs                           NaN   \n",
              "3                Mother of the Bride                           NaN   \n",
              "4                          Disturbia                           NaN   \n",
              "...                              ...                           ...   \n",
              "6075                           Elite               Elite: Season 1   \n",
              "6076                           Elite               Elite: Season 3   \n",
              "6077                           Elite               Elite: Season 2   \n",
              "6078                           Katla               Katla: Season 1   \n",
              "6079              Record of Ragnarok  Record of Ragnarok: Season 1   \n",
              "\n",
              "      weekly_hours_viewed runtime  weekly_views  cumulative_weeks_in_top_10  \\\n",
              "0                56300000       2    28200000.0                           1   \n",
              "1                17400000  1,6333    10700000.0                           2   \n",
              "2                15100000  1,5833     9500000.0                           1   \n",
              "3                14000000     1,5     9300000.0                           3   \n",
              "4                14100000    1,75     8100000.0                           2   \n",
              "...                   ...     ...           ...                         ...   \n",
              "6075             10530000     NaN           NaN                           1   \n",
              "6076             10200000     NaN           NaN                           1   \n",
              "6077             10140000     NaN           NaN                           1   \n",
              "6078              9190000     NaN           NaN                           1   \n",
              "6079              9140000     NaN           NaN                           1   \n",
              "\n",
              "      is_staggered_launch episode_launch_details  \n",
              "0                   False                    NaN  \n",
              "1                   False                    NaN  \n",
              "2                   False                    NaN  \n",
              "3                   False                    NaN  \n",
              "4                   False                    NaN  \n",
              "...                   ...                    ...  \n",
              "6075                False                    NaN  \n",
              "6076                False                    NaN  \n",
              "6077                False                    NaN  \n",
              "6078                False                    NaN  \n",
              "6079                False                    NaN  \n",
              "\n",
              "[6080 rows x 11 columns]"
            ]
          },
          "metadata": {},
          "output_type": "display_data"
        }
      ],
      "source": [
        "display(df)"
      ]
    },
    {
      "cell_type": "markdown",
      "metadata": {
        "id": "DyYoqn7N13Cp"
      },
      "source": [
        "## **Pré-Análise**"
      ]
    },
    {
      "cell_type": "code",
      "execution_count": null,
      "metadata": {
        "colab": {
          "base_uri": "https://localhost:8080/"
        },
        "id": "rtOLJ0oatEz2",
        "outputId": "369e2258-d384-41c9-8ed1-c1f147db5d3c"
      },
      "outputs": [
        {
          "name": "stdout",
          "output_type": "stream",
          "text": [
            "<class 'pandas.core.frame.DataFrame'>\n",
            "RangeIndex: 6080 entries, 0 to 6079\n",
            "Data columns (total 11 columns):\n",
            " #   Column                      Non-Null Count  Dtype  \n",
            "---  ------                      --------------  -----  \n",
            " 0   week                        6080 non-null   object \n",
            " 1   category                    6080 non-null   object \n",
            " 2   weekly_rank                 6080 non-null   int64  \n",
            " 3   show_title                  6080 non-null   object \n",
            " 4   season_title                2959 non-null   object \n",
            " 5   weekly_hours_viewed         6080 non-null   int64  \n",
            " 6   runtime                     2000 non-null   object \n",
            " 7   weekly_views                2000 non-null   float64\n",
            " 8   cumulative_weeks_in_top_10  6080 non-null   int64  \n",
            " 9   is_staggered_launch         6080 non-null   bool   \n",
            " 10  episode_launch_details      78 non-null     object \n",
            "dtypes: bool(1), float64(1), int64(3), object(6)\n",
            "memory usage: 481.1+ KB\n"
          ]
        }
      ],
      "source": [
        "df.info()"
      ]
    },
    {
      "cell_type": "markdown",
      "metadata": {
        "id": "BWybXxRF2P9a"
      },
      "source": [
        "Colunas 'episode_launch_details','season_title','weekly_views' e 'runtime' não tem dados suficientes para fazer análises.\n",
        "\n",
        "Coluna week é uma série temporal, porém está em object (string) ao invés de date time.\n"
      ]
    },
    {
      "cell_type": "markdown",
      "metadata": {
        "id": "zjy8G-Rg1_0J"
      },
      "source": [
        "## **Transformação**"
      ]
    },
    {
      "cell_type": "markdown",
      "metadata": {
        "id": "uDX5gMuj7iAk"
      },
      "source": [
        "### **Exclusão de Colunas**"
      ]
    },
    {
      "cell_type": "code",
      "execution_count": null,
      "metadata": {
        "id": "eKn4UoWd0ZY-"
      },
      "outputs": [],
      "source": [
        "#Exclusão de colunas (números elevados de valores nulos)\n",
        "lista = ['episode_launch_details','season_title','weekly_views','runtime','is_staggered_launch']\n",
        "\n",
        "for i in lista:\n",
        "  df.drop(i, axis=1, inplace=True)"
      ]
    },
    {
      "cell_type": "code",
      "execution_count": null,
      "metadata": {
        "id": "4NZ29iW30vc0"
      },
      "outputs": [],
      "source": [
        "# Renomeando colunas para tradução\n",
        "df.rename(columns={'week' : 'semana',\n",
        "                   'category' : 'categoria',\n",
        "                   'weekly_rank' : 'classificaçao_semanal',\n",
        "                   'show_title' : 'titulo_do_programa/show',\n",
        "                   'season_title' : 'titulo da temporada',\n",
        "                   'weekly_hours_viewed' : 'horas_visualizadas',\n",
        "                   'cumulative_weeks_in_top_10' : 'semanas_acumuladas_top10'}, inplace=True)"
      ]
    },
    {
      "cell_type": "markdown",
      "metadata": {
        "id": "LTU1CrjO7op5"
      },
      "source": [
        "### **Verificação de valores nulos**"
      ]
    },
    {
      "cell_type": "code",
      "execution_count": null,
      "metadata": {
        "colab": {
          "base_uri": "https://localhost:8080/"
        },
        "id": "IApGLnKB5wTQ",
        "outputId": "52b0b2f3-6eae-4a81-fc43-7bc8acf9067a"
      },
      "outputs": [
        {
          "data": {
            "text/plain": [
              "semana                      0\n",
              "categoria                   0\n",
              "classificaçao_semanal       0\n",
              "titulo_do_programa/show     0\n",
              "horas_visualizadas          0\n",
              "semanas_acumuladas_top10    0\n",
              "dtype: int64"
            ]
          },
          "execution_count": 11,
          "metadata": {},
          "output_type": "execute_result"
        }
      ],
      "source": [
        "# Verificando valores null\n",
        "df.isnull().sum()"
      ]
    },
    {
      "cell_type": "code",
      "execution_count": null,
      "metadata": {
        "colab": {
          "base_uri": "https://localhost:8080/"
        },
        "id": "qr74pmWl1CFR",
        "outputId": "9c2ec229-c69e-485f-f977-580244b3c149"
      },
      "outputs": [
        {
          "data": {
            "text/plain": [
              "semana                      0\n",
              "categoria                   0\n",
              "classificaçao_semanal       0\n",
              "titulo_do_programa/show     0\n",
              "horas_visualizadas          0\n",
              "semanas_acumuladas_top10    0\n",
              "dtype: int64"
            ]
          },
          "execution_count": 12,
          "metadata": {},
          "output_type": "execute_result"
        }
      ],
      "source": [
        "# Verificando valores nan\n",
        "df.isna().sum()"
      ]
    },
    {
      "cell_type": "markdown",
      "metadata": {
        "id": "WZiBdvSj7uqc"
      },
      "source": [
        "### **Valores unicos e dados duplicados (REVISAR)**"
      ]
    },
    {
      "cell_type": "markdown",
      "metadata": {
        "id": "jSW47Owv_y7C"
      },
      "source": [
        "Como em nossa tabela todos os valores de todas as colunas se repetem eventualmente, é necessário fazer uma verificação de valores duplicados de um mesmo título na mesma semana."
      ]
    },
    {
      "cell_type": "code",
      "execution_count": null,
      "metadata": {
        "id": "8yyCzhJY_7jC"
      },
      "outputs": [],
      "source": []
    },
    {
      "cell_type": "markdown",
      "metadata": {
        "id": "x7b9I5vsAYHL"
      },
      "source": [
        "## **Conversão de String para Date Time**"
      ]
    },
    {
      "cell_type": "code",
      "execution_count": null,
      "metadata": {
        "colab": {
          "base_uri": "https://localhost:8080/"
        },
        "id": "9g13A6jEAbnr",
        "outputId": "8b744247-ad30-446b-af68-1f89c76d2f5b"
      },
      "outputs": [
        {
          "name": "stderr",
          "output_type": "stream",
          "text": [
            "<ipython-input-31-7c84dc2c8b97>:1: UserWarning: The argument 'infer_datetime_format' is deprecated and will be removed in a future version. A strict version of it is now the default, see https://pandas.pydata.org/pdeps/0004-consistent-to-datetime-parsing.html. You can safely remove this argument.\n",
            "  df['semana'] = pd.to_datetime(df['semana'], infer_datetime_format=True)\n"
          ]
        }
      ],
      "source": [
        "df['semana'] = pd.to_datetime(df['semana'], infer_datetime_format=True)"
      ]
    },
    {
      "cell_type": "code",
      "execution_count": null,
      "metadata": {
        "colab": {
          "base_uri": "https://localhost:8080/"
        },
        "id": "BeDIo_N4AnVz",
        "outputId": "9968b40d-118a-4ac5-84d2-bd4425b619fc"
      },
      "outputs": [
        {
          "name": "stdout",
          "output_type": "stream",
          "text": [
            "<class 'pandas.core.frame.DataFrame'>\n",
            "RangeIndex: 6080 entries, 0 to 6079\n",
            "Data columns (total 6 columns):\n",
            " #   Column                    Non-Null Count  Dtype         \n",
            "---  ------                    --------------  -----         \n",
            " 0   semana                    6080 non-null   datetime64[ns]\n",
            " 1   categoria                 6080 non-null   object        \n",
            " 2   classificaçao_semanal     6080 non-null   int64         \n",
            " 3   titulo_do_programa/show   6080 non-null   object        \n",
            " 4   horas_visualizadas        6080 non-null   int64         \n",
            " 5   semanas_acumuladas_top10  6080 non-null   int64         \n",
            "dtypes: datetime64[ns](1), int64(3), object(2)\n",
            "memory usage: 285.1+ KB\n"
          ]
        }
      ],
      "source": [
        "df.info()"
      ]
    },
    {
      "cell_type": "code",
      "execution_count": null,
      "metadata": {
        "id": "qTPIO85BApHK"
      },
      "outputs": [],
      "source": [
        "df['mes'] = df['semana'].dt.month\n",
        "df['ano'] = df['semana'].dt.year\n",
        "df['dia'] = df['semana'].dt.day"
      ]
    },
    {
      "cell_type": "markdown",
      "metadata": {
        "id": "bEa_KcGrBhNG"
      },
      "source": [
        "### **Traduzir valores das colunas ???????**"
      ]
    },
    {
      "cell_type": "code",
      "execution_count": null,
      "metadata": {
        "id": "3KTQktbpBkhS"
      },
      "outputs": [],
      "source": []
    }
  ],
  "metadata": {
    "colab": {
      "authorship_tag": "ABX9TyPibjN7yNJna0/GJxEoCV6n",
      "include_colab_link": true,
      "provenance": []
    },
    "kernelspec": {
      "display_name": "Python 3",
      "name": "python3"
    },
    "language_info": {
      "name": "python"
    }
  },
  "nbformat": 4,
  "nbformat_minor": 0
}
