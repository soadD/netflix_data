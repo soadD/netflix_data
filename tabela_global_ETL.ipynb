{
  "nbformat": 4,
  "nbformat_minor": 0,
  "metadata": {
    "colab": {
      "provenance": [],
      "authorship_tag": "ABX9TyM1JUrP8IdANoI5Jbg0Cn7U",
      "include_colab_link": true
    },
    "kernelspec": {
      "name": "python3",
      "display_name": "Python 3"
    },
    "language_info": {
      "name": "python"
    }
  },
  "cells": [
    {
      "cell_type": "markdown",
      "metadata": {
        "id": "view-in-github",
        "colab_type": "text"
      },
      "source": [
        "<a href=\"https://colab.research.google.com/github/soadD/netflix_data/blob/main/tabela_global_ETL.ipynb\" target=\"_parent\"><img src=\"https://colab.research.google.com/assets/colab-badge.svg\" alt=\"Open In Colab\"/></a>"
      ]
    },
    {
      "cell_type": "markdown",
      "source": [
        "## **Extração**"
      ],
      "metadata": {
        "id": "jLorZil2rgbO"
      }
    },
    {
      "cell_type": "code",
      "execution_count": 1,
      "metadata": {
        "id": "nFCF-3amrfTB"
      },
      "outputs": [],
      "source": [
        "#Abertura das bibliotecas\n",
        "import pandas as pd"
      ]
    },
    {
      "cell_type": "code",
      "source": [
        "# Importar a biblioteca para conectar o Google Drive ao ambiente Colab\n",
        "from google.colab import drive\n",
        "drive.mount('/content/drive')"
      ],
      "metadata": {
        "colab": {
          "base_uri": "https://localhost:8080/"
        },
        "id": "Szo392f4sLYC",
        "outputId": "53b6f624-e6ad-4782-9436-7fbe00794280"
      },
      "execution_count": 2,
      "outputs": [
        {
          "output_type": "stream",
          "name": "stdout",
          "text": [
            "Drive already mounted at /content/drive; to attempt to forcibly remount, call drive.mount(\"/content/drive\", force_remount=True).\n"
          ]
        }
      ]
    },
    {
      "cell_type": "code",
      "source": [
        "# Passo 4: Extração da informação via pandas\n",
        "df = pd.read_csv('/content/drive/MyDrive/Soul Code/netflix/netflixtop10.csv')"
      ],
      "metadata": {
        "id": "w1dTqcBErkYX"
      },
      "execution_count": 3,
      "outputs": []
    },
    {
      "cell_type": "markdown",
      "source": [
        "## **Pré-Análise**"
      ],
      "metadata": {
        "id": "DyYoqn7N13Cp"
      }
    },
    {
      "cell_type": "code",
      "source": [
        "display(df)"
      ],
      "metadata": {
        "colab": {
          "base_uri": "https://localhost:8080/",
          "height": 652
        },
        "id": "419t8M0ps_jN",
        "outputId": "dc2215f0-697d-408f-ae29-b6d5f1f0d641"
      },
      "execution_count": 4,
      "outputs": [
        {
          "output_type": "display_data",
          "data": {
            "text/plain": [
              "            week          category  weekly_rank  \\\n",
              "0     2024-05-26   Films (English)            1   \n",
              "1     2024-05-26   Films (English)            2   \n",
              "2     2024-05-26   Films (English)            3   \n",
              "3     2024-05-26   Films (English)            4   \n",
              "4     2024-05-26   Films (English)            5   \n",
              "...          ...               ...          ...   \n",
              "6075  2021-07-04  TV (Non-English)            6   \n",
              "6076  2021-07-04  TV (Non-English)            7   \n",
              "6077  2021-07-04  TV (Non-English)            8   \n",
              "6078  2021-07-04  TV (Non-English)            9   \n",
              "6079  2021-07-04  TV (Non-English)           10   \n",
              "\n",
              "                          show_title                  season_title  \\\n",
              "0                              Atlas                           NaN   \n",
              "1                 Thelma the Unicorn                           NaN   \n",
              "2     Ice Age: Dawn of the Dinosaurs                           NaN   \n",
              "3                Mother of the Bride                           NaN   \n",
              "4                          Disturbia                           NaN   \n",
              "...                              ...                           ...   \n",
              "6075                           Elite               Elite: Season 1   \n",
              "6076                           Elite               Elite: Season 3   \n",
              "6077                           Elite               Elite: Season 2   \n",
              "6078                           Katla               Katla: Season 1   \n",
              "6079              Record of Ragnarok  Record of Ragnarok: Season 1   \n",
              "\n",
              "      weekly_hours_viewed runtime  weekly_views  cumulative_weeks_in_top_10  \\\n",
              "0                56300000       2    28200000.0                           1   \n",
              "1                17400000  1,6333    10700000.0                           2   \n",
              "2                15100000  1,5833     9500000.0                           1   \n",
              "3                14000000     1,5     9300000.0                           3   \n",
              "4                14100000    1,75     8100000.0                           2   \n",
              "...                   ...     ...           ...                         ...   \n",
              "6075             10530000     NaN           NaN                           1   \n",
              "6076             10200000     NaN           NaN                           1   \n",
              "6077             10140000     NaN           NaN                           1   \n",
              "6078              9190000     NaN           NaN                           1   \n",
              "6079              9140000     NaN           NaN                           1   \n",
              "\n",
              "      is_staggered_launch episode_launch_details  \n",
              "0                   False                    NaN  \n",
              "1                   False                    NaN  \n",
              "2                   False                    NaN  \n",
              "3                   False                    NaN  \n",
              "4                   False                    NaN  \n",
              "...                   ...                    ...  \n",
              "6075                False                    NaN  \n",
              "6076                False                    NaN  \n",
              "6077                False                    NaN  \n",
              "6078                False                    NaN  \n",
              "6079                False                    NaN  \n",
              "\n",
              "[6080 rows x 11 columns]"
            ],
            "text/html": [
              "\n",
              "  <div id=\"df-183d607d-e4db-441a-817d-9124e0c1f5d2\" class=\"colab-df-container\">\n",
              "    <div>\n",
              "<style scoped>\n",
              "    .dataframe tbody tr th:only-of-type {\n",
              "        vertical-align: middle;\n",
              "    }\n",
              "\n",
              "    .dataframe tbody tr th {\n",
              "        vertical-align: top;\n",
              "    }\n",
              "\n",
              "    .dataframe thead th {\n",
              "        text-align: right;\n",
              "    }\n",
              "</style>\n",
              "<table border=\"1\" class=\"dataframe\">\n",
              "  <thead>\n",
              "    <tr style=\"text-align: right;\">\n",
              "      <th></th>\n",
              "      <th>week</th>\n",
              "      <th>category</th>\n",
              "      <th>weekly_rank</th>\n",
              "      <th>show_title</th>\n",
              "      <th>season_title</th>\n",
              "      <th>weekly_hours_viewed</th>\n",
              "      <th>runtime</th>\n",
              "      <th>weekly_views</th>\n",
              "      <th>cumulative_weeks_in_top_10</th>\n",
              "      <th>is_staggered_launch</th>\n",
              "      <th>episode_launch_details</th>\n",
              "    </tr>\n",
              "  </thead>\n",
              "  <tbody>\n",
              "    <tr>\n",
              "      <th>0</th>\n",
              "      <td>2024-05-26</td>\n",
              "      <td>Films (English)</td>\n",
              "      <td>1</td>\n",
              "      <td>Atlas</td>\n",
              "      <td>NaN</td>\n",
              "      <td>56300000</td>\n",
              "      <td>2</td>\n",
              "      <td>28200000.0</td>\n",
              "      <td>1</td>\n",
              "      <td>False</td>\n",
              "      <td>NaN</td>\n",
              "    </tr>\n",
              "    <tr>\n",
              "      <th>1</th>\n",
              "      <td>2024-05-26</td>\n",
              "      <td>Films (English)</td>\n",
              "      <td>2</td>\n",
              "      <td>Thelma the Unicorn</td>\n",
              "      <td>NaN</td>\n",
              "      <td>17400000</td>\n",
              "      <td>1,6333</td>\n",
              "      <td>10700000.0</td>\n",
              "      <td>2</td>\n",
              "      <td>False</td>\n",
              "      <td>NaN</td>\n",
              "    </tr>\n",
              "    <tr>\n",
              "      <th>2</th>\n",
              "      <td>2024-05-26</td>\n",
              "      <td>Films (English)</td>\n",
              "      <td>3</td>\n",
              "      <td>Ice Age: Dawn of the Dinosaurs</td>\n",
              "      <td>NaN</td>\n",
              "      <td>15100000</td>\n",
              "      <td>1,5833</td>\n",
              "      <td>9500000.0</td>\n",
              "      <td>1</td>\n",
              "      <td>False</td>\n",
              "      <td>NaN</td>\n",
              "    </tr>\n",
              "    <tr>\n",
              "      <th>3</th>\n",
              "      <td>2024-05-26</td>\n",
              "      <td>Films (English)</td>\n",
              "      <td>4</td>\n",
              "      <td>Mother of the Bride</td>\n",
              "      <td>NaN</td>\n",
              "      <td>14000000</td>\n",
              "      <td>1,5</td>\n",
              "      <td>9300000.0</td>\n",
              "      <td>3</td>\n",
              "      <td>False</td>\n",
              "      <td>NaN</td>\n",
              "    </tr>\n",
              "    <tr>\n",
              "      <th>4</th>\n",
              "      <td>2024-05-26</td>\n",
              "      <td>Films (English)</td>\n",
              "      <td>5</td>\n",
              "      <td>Disturbia</td>\n",
              "      <td>NaN</td>\n",
              "      <td>14100000</td>\n",
              "      <td>1,75</td>\n",
              "      <td>8100000.0</td>\n",
              "      <td>2</td>\n",
              "      <td>False</td>\n",
              "      <td>NaN</td>\n",
              "    </tr>\n",
              "    <tr>\n",
              "      <th>...</th>\n",
              "      <td>...</td>\n",
              "      <td>...</td>\n",
              "      <td>...</td>\n",
              "      <td>...</td>\n",
              "      <td>...</td>\n",
              "      <td>...</td>\n",
              "      <td>...</td>\n",
              "      <td>...</td>\n",
              "      <td>...</td>\n",
              "      <td>...</td>\n",
              "      <td>...</td>\n",
              "    </tr>\n",
              "    <tr>\n",
              "      <th>6075</th>\n",
              "      <td>2021-07-04</td>\n",
              "      <td>TV (Non-English)</td>\n",
              "      <td>6</td>\n",
              "      <td>Elite</td>\n",
              "      <td>Elite: Season 1</td>\n",
              "      <td>10530000</td>\n",
              "      <td>NaN</td>\n",
              "      <td>NaN</td>\n",
              "      <td>1</td>\n",
              "      <td>False</td>\n",
              "      <td>NaN</td>\n",
              "    </tr>\n",
              "    <tr>\n",
              "      <th>6076</th>\n",
              "      <td>2021-07-04</td>\n",
              "      <td>TV (Non-English)</td>\n",
              "      <td>7</td>\n",
              "      <td>Elite</td>\n",
              "      <td>Elite: Season 3</td>\n",
              "      <td>10200000</td>\n",
              "      <td>NaN</td>\n",
              "      <td>NaN</td>\n",
              "      <td>1</td>\n",
              "      <td>False</td>\n",
              "      <td>NaN</td>\n",
              "    </tr>\n",
              "    <tr>\n",
              "      <th>6077</th>\n",
              "      <td>2021-07-04</td>\n",
              "      <td>TV (Non-English)</td>\n",
              "      <td>8</td>\n",
              "      <td>Elite</td>\n",
              "      <td>Elite: Season 2</td>\n",
              "      <td>10140000</td>\n",
              "      <td>NaN</td>\n",
              "      <td>NaN</td>\n",
              "      <td>1</td>\n",
              "      <td>False</td>\n",
              "      <td>NaN</td>\n",
              "    </tr>\n",
              "    <tr>\n",
              "      <th>6078</th>\n",
              "      <td>2021-07-04</td>\n",
              "      <td>TV (Non-English)</td>\n",
              "      <td>9</td>\n",
              "      <td>Katla</td>\n",
              "      <td>Katla: Season 1</td>\n",
              "      <td>9190000</td>\n",
              "      <td>NaN</td>\n",
              "      <td>NaN</td>\n",
              "      <td>1</td>\n",
              "      <td>False</td>\n",
              "      <td>NaN</td>\n",
              "    </tr>\n",
              "    <tr>\n",
              "      <th>6079</th>\n",
              "      <td>2021-07-04</td>\n",
              "      <td>TV (Non-English)</td>\n",
              "      <td>10</td>\n",
              "      <td>Record of Ragnarok</td>\n",
              "      <td>Record of Ragnarok: Season 1</td>\n",
              "      <td>9140000</td>\n",
              "      <td>NaN</td>\n",
              "      <td>NaN</td>\n",
              "      <td>1</td>\n",
              "      <td>False</td>\n",
              "      <td>NaN</td>\n",
              "    </tr>\n",
              "  </tbody>\n",
              "</table>\n",
              "<p>6080 rows × 11 columns</p>\n",
              "</div>\n",
              "    <div class=\"colab-df-buttons\">\n",
              "\n",
              "  <div class=\"colab-df-container\">\n",
              "    <button class=\"colab-df-convert\" onclick=\"convertToInteractive('df-183d607d-e4db-441a-817d-9124e0c1f5d2')\"\n",
              "            title=\"Convert this dataframe to an interactive table.\"\n",
              "            style=\"display:none;\">\n",
              "\n",
              "  <svg xmlns=\"http://www.w3.org/2000/svg\" height=\"24px\" viewBox=\"0 -960 960 960\">\n",
              "    <path d=\"M120-120v-720h720v720H120Zm60-500h600v-160H180v160Zm220 220h160v-160H400v160Zm0 220h160v-160H400v160ZM180-400h160v-160H180v160Zm440 0h160v-160H620v160ZM180-180h160v-160H180v160Zm440 0h160v-160H620v160Z\"/>\n",
              "  </svg>\n",
              "    </button>\n",
              "\n",
              "  <style>\n",
              "    .colab-df-container {\n",
              "      display:flex;\n",
              "      gap: 12px;\n",
              "    }\n",
              "\n",
              "    .colab-df-convert {\n",
              "      background-color: #E8F0FE;\n",
              "      border: none;\n",
              "      border-radius: 50%;\n",
              "      cursor: pointer;\n",
              "      display: none;\n",
              "      fill: #1967D2;\n",
              "      height: 32px;\n",
              "      padding: 0 0 0 0;\n",
              "      width: 32px;\n",
              "    }\n",
              "\n",
              "    .colab-df-convert:hover {\n",
              "      background-color: #E2EBFA;\n",
              "      box-shadow: 0px 1px 2px rgba(60, 64, 67, 0.3), 0px 1px 3px 1px rgba(60, 64, 67, 0.15);\n",
              "      fill: #174EA6;\n",
              "    }\n",
              "\n",
              "    .colab-df-buttons div {\n",
              "      margin-bottom: 4px;\n",
              "    }\n",
              "\n",
              "    [theme=dark] .colab-df-convert {\n",
              "      background-color: #3B4455;\n",
              "      fill: #D2E3FC;\n",
              "    }\n",
              "\n",
              "    [theme=dark] .colab-df-convert:hover {\n",
              "      background-color: #434B5C;\n",
              "      box-shadow: 0px 1px 3px 1px rgba(0, 0, 0, 0.15);\n",
              "      filter: drop-shadow(0px 1px 2px rgba(0, 0, 0, 0.3));\n",
              "      fill: #FFFFFF;\n",
              "    }\n",
              "  </style>\n",
              "\n",
              "    <script>\n",
              "      const buttonEl =\n",
              "        document.querySelector('#df-183d607d-e4db-441a-817d-9124e0c1f5d2 button.colab-df-convert');\n",
              "      buttonEl.style.display =\n",
              "        google.colab.kernel.accessAllowed ? 'block' : 'none';\n",
              "\n",
              "      async function convertToInteractive(key) {\n",
              "        const element = document.querySelector('#df-183d607d-e4db-441a-817d-9124e0c1f5d2');\n",
              "        const dataTable =\n",
              "          await google.colab.kernel.invokeFunction('convertToInteractive',\n",
              "                                                    [key], {});\n",
              "        if (!dataTable) return;\n",
              "\n",
              "        const docLinkHtml = 'Like what you see? Visit the ' +\n",
              "          '<a target=\"_blank\" href=https://colab.research.google.com/notebooks/data_table.ipynb>data table notebook</a>'\n",
              "          + ' to learn more about interactive tables.';\n",
              "        element.innerHTML = '';\n",
              "        dataTable['output_type'] = 'display_data';\n",
              "        await google.colab.output.renderOutput(dataTable, element);\n",
              "        const docLink = document.createElement('div');\n",
              "        docLink.innerHTML = docLinkHtml;\n",
              "        element.appendChild(docLink);\n",
              "      }\n",
              "    </script>\n",
              "  </div>\n",
              "\n",
              "\n",
              "<div id=\"df-e8849b78-45ac-4aa9-a1c7-4ed937d9a8af\">\n",
              "  <button class=\"colab-df-quickchart\" onclick=\"quickchart('df-e8849b78-45ac-4aa9-a1c7-4ed937d9a8af')\"\n",
              "            title=\"Suggest charts\"\n",
              "            style=\"display:none;\">\n",
              "\n",
              "<svg xmlns=\"http://www.w3.org/2000/svg\" height=\"24px\"viewBox=\"0 0 24 24\"\n",
              "     width=\"24px\">\n",
              "    <g>\n",
              "        <path d=\"M19 3H5c-1.1 0-2 .9-2 2v14c0 1.1.9 2 2 2h14c1.1 0 2-.9 2-2V5c0-1.1-.9-2-2-2zM9 17H7v-7h2v7zm4 0h-2V7h2v10zm4 0h-2v-4h2v4z\"/>\n",
              "    </g>\n",
              "</svg>\n",
              "  </button>\n",
              "\n",
              "<style>\n",
              "  .colab-df-quickchart {\n",
              "      --bg-color: #E8F0FE;\n",
              "      --fill-color: #1967D2;\n",
              "      --hover-bg-color: #E2EBFA;\n",
              "      --hover-fill-color: #174EA6;\n",
              "      --disabled-fill-color: #AAA;\n",
              "      --disabled-bg-color: #DDD;\n",
              "  }\n",
              "\n",
              "  [theme=dark] .colab-df-quickchart {\n",
              "      --bg-color: #3B4455;\n",
              "      --fill-color: #D2E3FC;\n",
              "      --hover-bg-color: #434B5C;\n",
              "      --hover-fill-color: #FFFFFF;\n",
              "      --disabled-bg-color: #3B4455;\n",
              "      --disabled-fill-color: #666;\n",
              "  }\n",
              "\n",
              "  .colab-df-quickchart {\n",
              "    background-color: var(--bg-color);\n",
              "    border: none;\n",
              "    border-radius: 50%;\n",
              "    cursor: pointer;\n",
              "    display: none;\n",
              "    fill: var(--fill-color);\n",
              "    height: 32px;\n",
              "    padding: 0;\n",
              "    width: 32px;\n",
              "  }\n",
              "\n",
              "  .colab-df-quickchart:hover {\n",
              "    background-color: var(--hover-bg-color);\n",
              "    box-shadow: 0 1px 2px rgba(60, 64, 67, 0.3), 0 1px 3px 1px rgba(60, 64, 67, 0.15);\n",
              "    fill: var(--button-hover-fill-color);\n",
              "  }\n",
              "\n",
              "  .colab-df-quickchart-complete:disabled,\n",
              "  .colab-df-quickchart-complete:disabled:hover {\n",
              "    background-color: var(--disabled-bg-color);\n",
              "    fill: var(--disabled-fill-color);\n",
              "    box-shadow: none;\n",
              "  }\n",
              "\n",
              "  .colab-df-spinner {\n",
              "    border: 2px solid var(--fill-color);\n",
              "    border-color: transparent;\n",
              "    border-bottom-color: var(--fill-color);\n",
              "    animation:\n",
              "      spin 1s steps(1) infinite;\n",
              "  }\n",
              "\n",
              "  @keyframes spin {\n",
              "    0% {\n",
              "      border-color: transparent;\n",
              "      border-bottom-color: var(--fill-color);\n",
              "      border-left-color: var(--fill-color);\n",
              "    }\n",
              "    20% {\n",
              "      border-color: transparent;\n",
              "      border-left-color: var(--fill-color);\n",
              "      border-top-color: var(--fill-color);\n",
              "    }\n",
              "    30% {\n",
              "      border-color: transparent;\n",
              "      border-left-color: var(--fill-color);\n",
              "      border-top-color: var(--fill-color);\n",
              "      border-right-color: var(--fill-color);\n",
              "    }\n",
              "    40% {\n",
              "      border-color: transparent;\n",
              "      border-right-color: var(--fill-color);\n",
              "      border-top-color: var(--fill-color);\n",
              "    }\n",
              "    60% {\n",
              "      border-color: transparent;\n",
              "      border-right-color: var(--fill-color);\n",
              "    }\n",
              "    80% {\n",
              "      border-color: transparent;\n",
              "      border-right-color: var(--fill-color);\n",
              "      border-bottom-color: var(--fill-color);\n",
              "    }\n",
              "    90% {\n",
              "      border-color: transparent;\n",
              "      border-bottom-color: var(--fill-color);\n",
              "    }\n",
              "  }\n",
              "</style>\n",
              "\n",
              "  <script>\n",
              "    async function quickchart(key) {\n",
              "      const quickchartButtonEl =\n",
              "        document.querySelector('#' + key + ' button');\n",
              "      quickchartButtonEl.disabled = true;  // To prevent multiple clicks.\n",
              "      quickchartButtonEl.classList.add('colab-df-spinner');\n",
              "      try {\n",
              "        const charts = await google.colab.kernel.invokeFunction(\n",
              "            'suggestCharts', [key], {});\n",
              "      } catch (error) {\n",
              "        console.error('Error during call to suggestCharts:', error);\n",
              "      }\n",
              "      quickchartButtonEl.classList.remove('colab-df-spinner');\n",
              "      quickchartButtonEl.classList.add('colab-df-quickchart-complete');\n",
              "    }\n",
              "    (() => {\n",
              "      let quickchartButtonEl =\n",
              "        document.querySelector('#df-e8849b78-45ac-4aa9-a1c7-4ed937d9a8af button');\n",
              "      quickchartButtonEl.style.display =\n",
              "        google.colab.kernel.accessAllowed ? 'block' : 'none';\n",
              "    })();\n",
              "  </script>\n",
              "</div>\n",
              "    </div>\n",
              "  </div>\n"
            ],
            "application/vnd.google.colaboratory.intrinsic+json": {
              "type": "dataframe",
              "variable_name": "df",
              "summary": "{\n  \"name\": \"df\",\n  \"rows\": 6080,\n  \"fields\": [\n    {\n      \"column\": \"week\",\n      \"properties\": {\n        \"dtype\": \"object\",\n        \"num_unique_values\": 152,\n        \"samples\": [\n          \"2023-02-05\",\n          \"2021-08-01\",\n          \"2022-07-24\"\n        ],\n        \"semantic_type\": \"\",\n        \"description\": \"\"\n      }\n    },\n    {\n      \"column\": \"category\",\n      \"properties\": {\n        \"dtype\": \"category\",\n        \"num_unique_values\": 4,\n        \"samples\": [\n          \"Films (Non-English)\",\n          \"TV (Non-English)\",\n          \"Films (English)\"\n        ],\n        \"semantic_type\": \"\",\n        \"description\": \"\"\n      }\n    },\n    {\n      \"column\": \"weekly_rank\",\n      \"properties\": {\n        \"dtype\": \"number\",\n        \"std\": 2,\n        \"min\": 1,\n        \"max\": 10,\n        \"num_unique_values\": 10,\n        \"samples\": [\n          9,\n          2,\n          6\n        ],\n        \"semantic_type\": \"\",\n        \"description\": \"\"\n      }\n    },\n    {\n      \"column\": \"show_title\",\n      \"properties\": {\n        \"dtype\": \"category\",\n        \"num_unique_values\": 1993,\n        \"samples\": [\n          \"Phenomena\",\n          \"Fierce\",\n          \"The Three Musketeers: D'Artagnan\"\n        ],\n        \"semantic_type\": \"\",\n        \"description\": \"\"\n      }\n    },\n    {\n      \"column\": \"season_title\",\n      \"properties\": {\n        \"dtype\": \"category\",\n        \"num_unique_values\": 878,\n        \"samples\": [\n          \"THE DAYS: Limited Series\",\n          \"Predators: Season 1\",\n          \"Locke & Key: Season 1\"\n        ],\n        \"semantic_type\": \"\",\n        \"description\": \"\"\n      }\n    },\n    {\n      \"column\": \"weekly_hours_viewed\",\n      \"properties\": {\n        \"dtype\": \"number\",\n        \"std\": 26206714,\n        \"min\": 700000,\n        \"max\": 571760000,\n        \"num_unique_values\": 2729,\n        \"samples\": [\n          2990000,\n          28270000,\n          13560000\n        ],\n        \"semantic_type\": \"\",\n        \"description\": \"\"\n      }\n    },\n    {\n      \"column\": \"runtime\",\n      \"properties\": {\n        \"dtype\": \"category\",\n        \"num_unique_values\": 364,\n        \"samples\": [\n          \"1,85\",\n          \"0\",\n          \"2,0667\"\n        ],\n        \"semantic_type\": \"\",\n        \"description\": \"\"\n      }\n    },\n    {\n      \"column\": \"weekly_views\",\n      \"properties\": {\n        \"dtype\": \"number\",\n        \"std\": 5035917.455867516,\n        \"min\": 600000.0,\n        \"max\": 50800000.0,\n        \"num_unique_values\": 202,\n        \"samples\": [\n          10900000.0,\n          1800000.0,\n          900000.0\n        ],\n        \"semantic_type\": \"\",\n        \"description\": \"\"\n      }\n    },\n    {\n      \"column\": \"cumulative_weeks_in_top_10\",\n      \"properties\": {\n        \"dtype\": \"number\",\n        \"std\": 3,\n        \"min\": 1,\n        \"max\": 30,\n        \"num_unique_values\": 30,\n        \"samples\": [\n          26,\n          15,\n          19\n        ],\n        \"semantic_type\": \"\",\n        \"description\": \"\"\n      }\n    },\n    {\n      \"column\": \"is_staggered_launch\",\n      \"properties\": {\n        \"dtype\": \"boolean\",\n        \"num_unique_values\": 2,\n        \"samples\": [\n          true,\n          false\n        ],\n        \"semantic_type\": \"\",\n        \"description\": \"\"\n      }\n    },\n    {\n      \"column\": \"episode_launch_details\",\n      \"properties\": {\n        \"dtype\": \"category\",\n        \"num_unique_values\": 78,\n        \"samples\": [\n          \"[{\\\"episodesLaunched\\\":11,\\\"countryList\\\":[\\\"KI\\\",\\\"NZ\\\",\\\"TH\\\",\\\"JP\\\",\\\"NU\\\",\\\"TO\\\",\\\"TV\\\",\\\"TL\\\",\\\"PN\\\",\\\"SB\\\",\\\"HK\\\",\\\"KH\\\",\\\"WF\\\",\\\"MO\\\",\\\"ID\\\",\\\"PH\\\",\\\"UM\\\",\\\"IN\\\",\\\"SG\\\",\\\"CX\\\",\\\"MM\\\",\\\"CC\\\",\\\"CK\\\",\\\"FJ\\\",\\\"BT\\\",\\\"PG\\\",\\\"NF\\\",\\\"NC\\\",\\\"KR\\\",\\\"WS\\\",\\\"MN\\\",\\\"NR\\\",\\\"MY\\\",\\\"LA\\\",\\\"TW\\\",\\\"BD\\\",\\\"PF\\\",\\\"NP\\\",\\\"VU\\\",\\\"BN\\\",\\\"MV\\\",\\\"TK\\\",\\\"AU\\\",\\\"VN\\\",\\\"LK\\\"]},{\\\"episodesLaunched\\\":12,\\\"countryList\\\":[\\\"SM\\\",\\\"NL\\\",\\\"BH\\\",\\\"ER\\\",\\\"AM\\\",\\\"QA\\\",\\\"CA\\\",\\\"CW\\\",\\\"MG\\\",\\\"IE\\\",\\\"ET\\\",\\\"GD\\\",\\\"SN\\\",\\\"IR\\\",\\\"DM\\\",\\\"ZW\\\",\\\"LR\\\",\\\"SC\\\",\\\"NE\\\",\\\"LS\\\",\\\"GR\\\",\\\"IL\\\",\\\"RE\\\",\\\"ST\\\",\\\"BE\\\",\\\"DK\\\",\\\"GN\\\",\\\"UA\\\",\\\"SI\\\",\\\"PK\\\",\\\"BJ\\\",\\\"TZ\\\",\\\"GW\\\",\\\"CI\\\",\\\"MD\\\",\\\"SK\\\",\\\"AD\\\",\\\"MZ\\\",\\\"GB\\\",\\\"IS\\\",\\\"HR\\\",\\\"MQ\\\",\\\"CG\\\",\\\"FR\\\",\\\"FK\\\",\\\"EG\\\",\\\"MC\\\",\\\"CM\\\",\\\"MR\\\",\\\"VA\\\",\\\"VG\\\",\\\"AW\\\",\\\"CD\\\",\\\"CV\\\",\\\"AG\\\",\\\"SA\\\",\\\"AQ\\\",\\\"BY\\\",\\\"ZM\\\",\\\"NA\\\",\\\"RW\\\",\\\"EH\\\",\\\"AE\\\",\\\"GM\\\",\\\"BA\\\",\\\"SO\\\",\\\"OM\\\",\\\"PM\\\",\\\"UG\\\",\\\"GA\\\",\\\"PT\\\",\\\"YE\\\",\\\"AF\\\",\\\"CH\\\",\\\"SD\\\",\\\"YT\\\",\\\"BG\\\",\\\"DJ\\\",\\\"IO\\\",\\\"MH\\\",\\\"KY\\\",\\\"MT\\\",\\\"BM\\\",\\\"HU\\\",\\\"AT\\\",\\\"KM\\\",\\\"SZ\\\",\\\"ZA\\\",\\\"FM\\\",\\\"BI\\\",\\\"KZ\\\",\\\"JE\\\",\\\"FO\\\",\\\"BQ\\\",\\\"NG\\\",\\\"AS\\\",\\\"GF\\\",\\\"TR\\\",\\\"DZ\\\",\\\"ES\\\",\\\"IT\\\",\\\"SL\\\",\\\"SE\\\",\\\"JO\\\",\\\"VI\\\",\\\"GL\\\",\\\"VC\\\",\\\"GE\\\",\\\"RU\\\",\\\"RS\\\",\\\"NO\\\",\\\"LI\\\",\\\"LU\\\",\\\"MW\\\",\\\"MK\\\",\\\"HM\\\",\\\"GY\\\",\\\"TN\\\",\\\"RO\\\",\\\"TT\\\",\\\"PW\\\",\\\"IM\\\",\\\"MU\\\",\\\"TG\\\",\\\"CZ\\\",\\\"IQ\\\",\\\"GH\\\",\\\"BS\\\",\\\"GG\\\",\\\"HT\\\",\\\"FI\\\",\\\"GP\\\",\\\"GS\\\",\\\"KN\\\",\\\"MP\\\",\\\"SX\\\",\\\"ME\\\",\\\"TD\\\",\\\"SH\\\",\\\"CY\\\",\\\"AL\\\",\\\"CF\\\",\\\"LC\\\",\\\"AO\\\",\\\"BL\\\",\\\"MA\\\",\\\"EE\\\",\\\"MF\\\",\\\"BF\\\",\\\"LV\\\",\\\"AZ\\\",\\\"TC\\\",\\\"UZ\\\",\\\"MS\\\",\\\"ML\\\",\\\"BB\\\",\\\"GU\\\",\\\"TJ\\\",\\\"DE\\\",\\\"GI\\\",\\\"KW\\\",\\\"LB\\\",\\\"LT\\\",\\\"JM\\\",\\\"US\\\",\\\"LY\\\",\\\"KG\\\",\\\"SS\\\",\\\"KE\\\",\\\"PS\\\",\\\"BW\\\",\\\"SR\\\",\\\"AI\\\",\\\"TM\\\",\\\"PL\\\"]},{\\\"episodesLaunched\\\":6,\\\"countryList\\\":[\\\"VE\\\",\\\"GT\\\",\\\"AR\\\",\\\"SV\\\",\\\"PY\\\",\\\"BZ\\\",\\\"PE\\\",\\\"EC\\\",\\\"DO\\\",\\\"CU\\\",\\\"NI\\\",\\\"PR\\\",\\\"PA\\\",\\\"CO\\\",\\\"CR\\\",\\\"BR\\\",\\\"BO\\\",\\\"HN\\\",\\\"GQ\\\",\\\"MX\\\",\\\"UY\\\",\\\"CL\\\"]}]\",\n          \"[{\\\"episodesLaunched\\\":2,\\\"countryList\\\":[\\\"UY\\\",\\\"BO\\\",\\\"BR\\\",\\\"CR\\\",\\\"HN\\\",\\\"CO\\\",\\\"CL\\\",\\\"GT\\\",\\\"CU\\\",\\\"VE\\\",\\\"DO\\\",\\\"PR\\\",\\\"NI\\\",\\\"PE\\\",\\\"AR\\\",\\\"BZ\\\",\\\"GQ\\\",\\\"SV\\\",\\\"EC\\\",\\\"PA\\\",\\\"MX\\\",\\\"PY\\\"]},{\\\"episodesLaunched\\\":7,\\\"countryList\\\":[\\\"KI\\\",\\\"NZ\\\",\\\"MM\\\",\\\"KR\\\",\\\"MN\\\",\\\"ID\\\",\\\"LA\\\",\\\"BD\\\",\\\"LK\\\",\\\"CX\\\",\\\"PF\\\",\\\"VU\\\",\\\"MV\\\",\\\"NR\\\",\\\"KH\\\",\\\"TK\\\",\\\"IN\\\",\\\"UM\\\",\\\"BT\\\",\\\"VN\\\",\\\"CC\\\",\\\"AU\\\",\\\"NP\\\",\\\"NU\\\",\\\"SG\\\",\\\"TL\\\",\\\"FJ\\\",\\\"TO\\\",\\\"MY\\\",\\\"TV\\\",\\\"CK\\\",\\\"JP\\\",\\\"PG\\\",\\\"NC\\\",\\\"PH\\\",\\\"NF\\\",\\\"BN\\\",\\\"TW\\\",\\\"WF\\\",\\\"HK\\\",\\\"WS\\\",\\\"PN\\\",\\\"SB\\\",\\\"MO\\\",\\\"TH\\\"]},{\\\"episodesLaunched\\\":8,\\\"countryList\\\":[\\\"NA\\\",\\\"YT\\\",\\\"MS\\\",\\\"IR\\\",\\\"FI\\\",\\\"BE\\\",\\\"GI\\\",\\\"AQ\\\",\\\"RW\\\",\\\"ST\\\",\\\"IE\\\",\\\"BM\\\",\\\"GH\\\",\\\"GW\\\",\\\"MG\\\",\\\"SS\\\",\\\"IT\\\",\\\"AF\\\",\\\"HM\\\",\\\"KN\\\",\\\"IQ\\\",\\\"LB\\\",\\\"TG\\\",\\\"ZW\\\",\\\"MU\\\",\\\"SX\\\",\\\"IM\\\",\\\"LC\\\",\\\"IL\\\",\\\"NE\\\",\\\"YE\\\",\\\"CA\\\",\\\"BW\\\",\\\"ZM\\\",\\\"RE\\\",\\\"BF\\\",\\\"CH\\\",\\\"KY\\\",\\\"DE\\\",\\\"MT\\\",\\\"AS\\\",\\\"AO\\\",\\\"PK\\\",\\\"CZ\\\",\\\"CG\\\",\\\"TN\\\",\\\"FO\\\",\\\"SL\\\",\\\"UA\\\",\\\"SR\\\",\\\"KM\\\",\\\"TJ\\\",\\\"KW\\\",\\\"ME\\\",\\\"SO\\\",\\\"SZ\\\",\\\"NO\\\",\\\"NG\\\",\\\"FR\\\",\\\"MZ\\\",\\\"RU\\\",\\\"GA\\\",\\\"SM\\\",\\\"UZ\\\",\\\"IO\\\",\\\"PW\\\",\\\"LI\\\",\\\"EH\\\",\\\"BA\\\",\\\"SE\\\",\\\"CV\\\",\\\"SA\\\",\\\"TM\\\",\\\"GU\\\",\\\"CM\\\",\\\"VC\\\",\\\"HT\\\",\\\"OM\\\",\\\"LV\\\",\\\"TT\\\",\\\"GN\\\",\\\"LR\\\",\\\"AE\\\",\\\"GG\\\",\\\"BG\\\",\\\"GM\\\",\\\"DM\\\",\\\"GE\\\",\\\"RO\\\",\\\"SH\\\",\\\"FM\\\",\\\"MP\\\",\\\"LY\\\",\\\"TD\\\",\\\"AW\\\",\\\"JO\\\",\\\"KG\\\",\\\"JE\\\",\\\"HR\\\",\\\"BJ\\\",\\\"PL\\\",\\\"SK\\\",\\\"NL\\\",\\\"PS\\\",\\\"AM\\\",\\\"ZA\\\",\\\"GL\\\",\\\"MH\\\",\\\"KZ\\\",\\\"SD\\\",\\\"DK\\\",\\\"QA\\\",\\\"AZ\\\",\\\"CI\\\",\\\"GY\\\",\\\"MW\\\",\\\"CD\\\",\\\"MA\\\",\\\"SN\\\",\\\"MD\\\",\\\"EE\\\",\\\"DZ\\\",\\\"BQ\\\",\\\"AI\\\",\\\"MK\\\",\\\"ER\\\",\\\"BB\\\",\\\"BI\\\",\\\"MQ\\\",\\\"AL\\\",\\\"LT\\\",\\\"JM\\\",\\\"MR\\\",\\\"GF\\\",\\\"BH\\\",\\\"AG\\\",\\\"PT\\\",\\\"FK\\\",\\\"GB\\\",\\\"HU\\\",\\\"ET\\\",\\\"US\\\",\\\"ML\\\",\\\"ES\\\",\\\"GS\\\",\\\"LU\\\",\\\"PM\\\",\\\"CF\\\",\\\"RS\\\",\\\"IS\\\",\\\"GR\\\",\\\"TZ\\\",\\\"KE\\\",\\\"GD\\\",\\\"VI\\\",\\\"VA\\\",\\\"BS\\\",\\\"TR\\\",\\\"BY\\\",\\\"EG\\\",\\\"BL\\\",\\\"MF\\\",\\\"VG\\\",\\\"TC\\\",\\\"DJ\\\",\\\"MC\\\",\\\"AT\\\",\\\"GP\\\",\\\"CW\\\",\\\"CY\\\",\\\"LS\\\",\\\"SI\\\",\\\"UG\\\",\\\"AD\\\",\\\"SC\\\"]}]\"\n        ],\n        \"semantic_type\": \"\",\n        \"description\": \"\"\n      }\n    }\n  ]\n}"
            }
          },
          "metadata": {}
        }
      ]
    },
    {
      "cell_type": "code",
      "source": [
        "df.info()"
      ],
      "metadata": {
        "colab": {
          "base_uri": "https://localhost:8080/"
        },
        "id": "rtOLJ0oatEz2",
        "outputId": "4d339d50-84d0-42b9-e1f2-26800d7c0b21"
      },
      "execution_count": 5,
      "outputs": [
        {
          "output_type": "stream",
          "name": "stdout",
          "text": [
            "<class 'pandas.core.frame.DataFrame'>\n",
            "RangeIndex: 6080 entries, 0 to 6079\n",
            "Data columns (total 11 columns):\n",
            " #   Column                      Non-Null Count  Dtype  \n",
            "---  ------                      --------------  -----  \n",
            " 0   week                        6080 non-null   object \n",
            " 1   category                    6080 non-null   object \n",
            " 2   weekly_rank                 6080 non-null   int64  \n",
            " 3   show_title                  6080 non-null   object \n",
            " 4   season_title                2959 non-null   object \n",
            " 5   weekly_hours_viewed         6080 non-null   int64  \n",
            " 6   runtime                     2000 non-null   object \n",
            " 7   weekly_views                2000 non-null   float64\n",
            " 8   cumulative_weeks_in_top_10  6080 non-null   int64  \n",
            " 9   is_staggered_launch         6080 non-null   bool   \n",
            " 10  episode_launch_details      78 non-null     object \n",
            "dtypes: bool(1), float64(1), int64(3), object(6)\n",
            "memory usage: 481.1+ KB\n"
          ]
        }
      ]
    },
    {
      "cell_type": "markdown",
      "source": [
        "Colunas 'episode_launch_details','season_title','weekly_views' e 'runtime' não tem dados suficientes para fazer análises.\n",
        "\n",
        "Coluna week é uma série temporal, porém está em object (string) ao invés de date time.\n"
      ],
      "metadata": {
        "id": "BWybXxRF2P9a"
      }
    },
    {
      "cell_type": "markdown",
      "source": [
        "## **Transformação**"
      ],
      "metadata": {
        "id": "zjy8G-Rg1_0J"
      }
    },
    {
      "cell_type": "markdown",
      "source": [
        "### **Exclusão de Colunas**"
      ],
      "metadata": {
        "id": "uDX5gMuj7iAk"
      }
    },
    {
      "cell_type": "code",
      "source": [
        "#Exclusão de colunas (números elevados de valores nulos)\n",
        "lista = ['episode_launch_details','season_title','weekly_views','runtime','is_staggered_launch']\n",
        "\n",
        "for i in lista:\n",
        "  df.drop(i, axis=1, inplace=True)"
      ],
      "metadata": {
        "id": "eKn4UoWd0ZY-"
      },
      "execution_count": 6,
      "outputs": []
    },
    {
      "cell_type": "markdown",
      "source": [
        "### **Renomeação Colunas**"
      ],
      "metadata": {
        "id": "K_Dz3aJ5RY86"
      }
    },
    {
      "cell_type": "code",
      "source": [
        "# Renomeando colunas para tradução\n",
        "df.rename(columns={'week' : 'semana',\n",
        "                   'category' : 'categoria',\n",
        "                   'weekly_rank' : 'classificaçao_semanal',\n",
        "                   'show_title' : 'titulo_do_programa/show',\n",
        "                   'season_title' : 'titulo_da_temporada',\n",
        "                   'weekly_hours_viewed' : 'horas_visualizadas',\n",
        "                   'cumulative_weeks_in_top_10' : 'semanas_acumuladas_top10'}, inplace=True)"
      ],
      "metadata": {
        "id": "4NZ29iW30vc0"
      },
      "execution_count": 7,
      "outputs": []
    },
    {
      "cell_type": "code",
      "source": [
        "# Trocar valores especificos em colunas\n",
        "df.loc[df.categoria == 'Films (English)', ['categoria']] = 'Filmes (Inglês)'\n",
        "df.loc[df.categoria == 'Films (Non-English)', ['categoria']] = 'Filmes (Estrangeiros)'\n",
        "df.loc[df.categoria == 'TV (English)', ['categoria']] = 'Séries de TV (Inglês)'\n",
        "df.loc[df.categoria == 'TV (Non-English)', ['categoria']] = 'Séries de TV (Estrangeiros)'"
      ],
      "metadata": {
        "id": "DNFAmZ6GSlvV"
      },
      "execution_count": 8,
      "outputs": []
    },
    {
      "cell_type": "markdown",
      "source": [
        "### **Verificação de valores nulos**"
      ],
      "metadata": {
        "id": "LTU1CrjO7op5"
      }
    },
    {
      "cell_type": "code",
      "source": [
        "# Verificando valores null\n",
        "df.isnull().sum()"
      ],
      "metadata": {
        "colab": {
          "base_uri": "https://localhost:8080/"
        },
        "id": "IApGLnKB5wTQ",
        "outputId": "48fff97a-83e1-4e30-fd02-3a7ad58efff6"
      },
      "execution_count": 9,
      "outputs": [
        {
          "output_type": "execute_result",
          "data": {
            "text/plain": [
              "semana                      0\n",
              "categoria                   0\n",
              "classificaçao_semanal       0\n",
              "titulo_do_programa/show     0\n",
              "horas_visualizadas          0\n",
              "semanas_acumuladas_top10    0\n",
              "dtype: int64"
            ]
          },
          "metadata": {},
          "execution_count": 9
        }
      ]
    },
    {
      "cell_type": "code",
      "source": [
        "# Verificando valores nan\n",
        "df.isna().sum()"
      ],
      "metadata": {
        "colab": {
          "base_uri": "https://localhost:8080/"
        },
        "id": "qr74pmWl1CFR",
        "outputId": "3f91397b-66f0-4543-b407-d739407a5abe"
      },
      "execution_count": 10,
      "outputs": [
        {
          "output_type": "execute_result",
          "data": {
            "text/plain": [
              "semana                      0\n",
              "categoria                   0\n",
              "classificaçao_semanal       0\n",
              "titulo_do_programa/show     0\n",
              "horas_visualizadas          0\n",
              "semanas_acumuladas_top10    0\n",
              "dtype: int64"
            ]
          },
          "metadata": {},
          "execution_count": 10
        }
      ]
    },
    {
      "cell_type": "markdown",
      "source": [
        "### **Valores unicos e dados duplicados (REVISAR)**"
      ],
      "metadata": {
        "id": "WZiBdvSj7uqc"
      }
    },
    {
      "cell_type": "markdown",
      "source": [
        "Como em nossa tabela todos os valores de todas as colunas se repetem eventualmente, é necessário fazer uma verificação de valores duplicados de um mesmo título na mesma semana."
      ],
      "metadata": {
        "id": "jSW47Owv_y7C"
      }
    },
    {
      "cell_type": "code",
      "source": [],
      "metadata": {
        "id": "8yyCzhJY_7jC"
      },
      "execution_count": 10,
      "outputs": []
    },
    {
      "cell_type": "markdown",
      "source": [
        "### **Conversão de String para Date Time**"
      ],
      "metadata": {
        "id": "x7b9I5vsAYHL"
      }
    },
    {
      "cell_type": "code",
      "source": [
        "df['semana'] = pd.to_datetime(df['semana'], infer_datetime_format=True)"
      ],
      "metadata": {
        "colab": {
          "base_uri": "https://localhost:8080/"
        },
        "id": "9g13A6jEAbnr",
        "outputId": "c66d4bda-7702-40a9-ceed-b52caa5c014d"
      },
      "execution_count": 11,
      "outputs": [
        {
          "output_type": "stream",
          "name": "stderr",
          "text": [
            "<ipython-input-11-7c84dc2c8b97>:1: UserWarning: The argument 'infer_datetime_format' is deprecated and will be removed in a future version. A strict version of it is now the default, see https://pandas.pydata.org/pdeps/0004-consistent-to-datetime-parsing.html. You can safely remove this argument.\n",
            "  df['semana'] = pd.to_datetime(df['semana'], infer_datetime_format=True)\n"
          ]
        }
      ]
    },
    {
      "cell_type": "code",
      "source": [
        "df.info()"
      ],
      "metadata": {
        "colab": {
          "base_uri": "https://localhost:8080/"
        },
        "id": "BeDIo_N4AnVz",
        "outputId": "4b9f482a-56d7-4a7f-b77c-0a0ed8604c4e"
      },
      "execution_count": 12,
      "outputs": [
        {
          "output_type": "stream",
          "name": "stdout",
          "text": [
            "<class 'pandas.core.frame.DataFrame'>\n",
            "RangeIndex: 6080 entries, 0 to 6079\n",
            "Data columns (total 6 columns):\n",
            " #   Column                    Non-Null Count  Dtype         \n",
            "---  ------                    --------------  -----         \n",
            " 0   semana                    6080 non-null   datetime64[ns]\n",
            " 1   categoria                 6080 non-null   object        \n",
            " 2   classificaçao_semanal     6080 non-null   int64         \n",
            " 3   titulo_do_programa/show   6080 non-null   object        \n",
            " 4   horas_visualizadas        6080 non-null   int64         \n",
            " 5   semanas_acumuladas_top10  6080 non-null   int64         \n",
            "dtypes: datetime64[ns](1), int64(3), object(2)\n",
            "memory usage: 285.1+ KB\n"
          ]
        }
      ]
    },
    {
      "cell_type": "code",
      "source": [
        "df['mes'] = df['semana'].dt.month\n",
        "df['ano'] = df['semana'].dt.year\n",
        "df['dia'] = df['semana'].dt.day"
      ],
      "metadata": {
        "id": "qTPIO85BApHK"
      },
      "execution_count": 13,
      "outputs": []
    },
    {
      "cell_type": "code",
      "source": [
        "# Trocar valores especificos em colunas\n",
        "df.loc[df.mes == '1', ['mes']] = 'JAN'\n",
        "df.loc[df.mes == '2', ['mes']] = 'FEV'\n",
        "df.loc[df.mes == '3', ['mes']] = 'MAR'\n",
        "df.loc[df.mes == '4', ['mes']] = 'ABR'\n",
        "df.loc[df.mes == '5', ['mes']] = 'MAI'\n",
        "df.loc[df.mes == '6', ['mes']] = 'JUN'\n",
        "df.loc[df.mes == '7', ['mes']] = 'JUL'\n",
        "df.loc[df.mes == '8', ['mes']] = 'AGO'\n",
        "df.loc[df.mes == '9', ['mes']] = 'SET'\n",
        "df.loc[df.mes == '10', ['mes']] = 'OUT'\n",
        "df.loc[df.mes == '11', ['mes']] = 'NOV'\n",
        "df.loc[df.mes == '12', ['mes']] = 'DEZ'"
      ],
      "metadata": {
        "id": "gYl8KqEBZWyP"
      },
      "execution_count": 14,
      "outputs": []
    },
    {
      "cell_type": "markdown",
      "source": [
        "### **Traduzir valores das colunas ???????**"
      ],
      "metadata": {
        "id": "bEa_KcGrBhNG"
      }
    },
    {
      "cell_type": "code",
      "source": [],
      "metadata": {
        "id": "3KTQktbpBkhS"
      },
      "execution_count": 14,
      "outputs": []
    },
    {
      "cell_type": "markdown",
      "source": [
        "### **Verificação de Inconsistências**"
      ],
      "metadata": {
        "id": "_VdOKQLuHnrm"
      }
    },
    {
      "cell_type": "code",
      "source": [
        "#Verificando os tipos de objeto no dataset\n",
        "df.info()"
      ],
      "metadata": {
        "colab": {
          "base_uri": "https://localhost:8080/"
        },
        "id": "8cWDzc04IAR8",
        "outputId": "f162e257-ce20-4705-f717-16aabeb1ff2e"
      },
      "execution_count": 15,
      "outputs": [
        {
          "output_type": "stream",
          "name": "stdout",
          "text": [
            "<class 'pandas.core.frame.DataFrame'>\n",
            "RangeIndex: 6080 entries, 0 to 6079\n",
            "Data columns (total 9 columns):\n",
            " #   Column                    Non-Null Count  Dtype         \n",
            "---  ------                    --------------  -----         \n",
            " 0   semana                    6080 non-null   datetime64[ns]\n",
            " 1   categoria                 6080 non-null   object        \n",
            " 2   classificaçao_semanal     6080 non-null   int64         \n",
            " 3   titulo_do_programa/show   6080 non-null   object        \n",
            " 4   horas_visualizadas        6080 non-null   int64         \n",
            " 5   semanas_acumuladas_top10  6080 non-null   int64         \n",
            " 6   mes                       6080 non-null   object        \n",
            " 7   ano                       6080 non-null   int32         \n",
            " 8   dia                       6080 non-null   int32         \n",
            "dtypes: datetime64[ns](1), int32(2), int64(3), object(3)\n",
            "memory usage: 380.1+ KB\n"
          ]
        }
      ]
    },
    {
      "cell_type": "code",
      "source": [
        "# Iterando sobre as colunas do DataFrame\n",
        "for column in df.columns:\n",
        "\n",
        "    # Verificando se a coluna contém valores inteiros\n",
        "    if df[column].dtype == 'int':\n",
        "        print(f\"Valores inteiros únicos na coluna '{column}':\")\n",
        "        print(sorted(df[column].unique()))\n",
        "        print(\"-\" * 50)  # Linha de separação\n",
        "\n",
        "    # Verificando se a coluna contém valores de ponto flutuante\n",
        "    elif df[column].dtype == 'float':\n",
        "        print(f\"Valores decimais únicos na coluna '{column}':\")\n",
        "        print(sorted(df[column].unique()))\n",
        "        print(\"-\" * 50)  # Linha de separação\n",
        "\n",
        "    # Verificando se a coluna contém valores de texto (string)\n",
        "    elif df[column].dtype == 'object':\n",
        "        print(f\"Valores de texto únicos na coluna '{column}':\")\n",
        "        print(sorted(df[column].unique()))\n",
        "        print(\"-\" * 50)  # Linha de separação"
      ],
      "metadata": {
        "colab": {
          "base_uri": "https://localhost:8080/"
        },
        "id": "vBf5hXZlHqF-",
        "outputId": "0fa682be-b242-406f-aba5-6e900b5b1b1e"
      },
      "execution_count": 16,
      "outputs": [
        {
          "output_type": "stream",
          "name": "stdout",
          "text": [
            "Valores de texto únicos na coluna 'categoria':\n",
            "['Filmes (Estrangeiros)', 'Filmes (Inglês)', 'Séries de TV (Estrangeiros)', 'Séries de TV (Inglês)']\n",
            "--------------------------------------------------\n",
            "Valores inteiros únicos na coluna 'classificaçao_semanal':\n",
            "[1, 2, 3, 4, 5, 6, 7, 8, 9, 10]\n",
            "--------------------------------------------------\n",
            "Valores de texto únicos na coluna 'titulo_do_programa/show':\n",
            "[\"'83\", '10 Days of a Bad Man', '10 Days of a Good Man', '1000 Miles from Christmas', '12 Strong', '13 Hours: The Secret Soldiers of Benghazi', '14 Peaks: Nothing Is Impossible', '1899', '1917', '2 Guns', '2 Hearts', '20th Century Girl', '21 Jump Street', '211', '24 Hours with Gaspar', '28 Days Haunted', '3 Body Problem', '365 Days', '365 Days: This Day', '4 Kings', '4 Kings 2', '40 Years Young', '42 Days of Darkness', '47 Meters Down: Uncaged', '47 Ronin', '6 Underground', '65', '6ixtynin9 The Series', '7 Prisoners', '7 Women and a Murder', '85 South: Ghetto Legends', 'A Bad Moms Christmas', 'A Beautiful Life', 'A Boy Called Christmas', 'A California Christmas: City Lights', 'A Castle For Christmas', 'A Christmas Miracle for Daisy', 'A Classic Horror Story', 'A Cut Above', 'A Dangerous Practice', 'A Day and a Half', 'A Day to Die', 'A Deadly Invitation', \"A Dog's Journey\", \"A Dog's Way Home\", 'A Hard Day', \"A Jazzman's Blues\", 'A Journey', 'A Killer Paradox', 'A Life Too Short: The Isabella Nardoni Case', 'A Madea Homecoming', 'A Man Called Otto', 'A Man in Full', 'A Man of Action', 'A Model Family', 'A Nearly Normal Family', 'A Not So Merry Christmas', 'A Perfect Enemy', 'A Perfect Fit', 'A Perfect Pairing', 'A Perfect Story', 'A Quiet Place Part II', 'A Score to Settle', 'A Simple Favor', 'A Storm for Christmas', 'A Tale Dark & Grimm', 'A Time Called You', \"A Tourist's Guide to Love\", 'A Vampire in the Family', 'A Very Good Girl', 'A Walk Among the Tombstones', 'A Woman With No Filter', 'AKA', 'ATHENA', 'Abduction', 'Abominable', 'Accused', 'Adagio', 'Adipurush', 'After Ever Happy', 'After We Fell', 'Afterlife of the Party', 'Aftermath', 'Afwaah', 'Against The Ice', 'Agency', 'Air Force The Movie: Danger Close', 'Air Mata di Ujung Sajadah', 'AlRawabi School for Girls', 'Alba', 'Alchemy of Souls', 'Alexander: The Making of a God', 'Alice in Borderland', 'Alkhallat+', 'All American', 'All Hail', 'All India Rank', 'All My Life', 'All Quiet on the Western Front', 'All of Us Are Dead', 'All the Light We Cannot See', 'All the Places', 'All-Time High', 'Alone', 'Along for the Ride', 'Alpha Males', 'Alvin and the Chipmunks: Chipwrecked', 'Alvin and the Chipmunks: The Squeakquel', 'Amandla', 'Amar Singh Chamkila', 'American Assassin', 'American Conspiracy: The Octopus Murders', 'American Made', 'American Manhunt: The Boston Marathon Bombing', 'American Nightmare', 'Amina', 'Amores perros', 'Amy Schumer: Emergency Contact', 'An Action Hero', 'An Inconvenient Love', 'Anatomy of a Scandal', 'Ancient Apocalypse', 'Anek', 'Angel Falls Christmas', 'Animal', 'Ankahi Kahaniya', 'Anna', \"Anna Nicole Smith: You Don't Know Me\", 'Annapoorni', 'Anonymously Yours', 'Another Life', 'Another Self', 'Ante Sundaraniki', 'Anthracite', 'Anweshippin Kandethum', 'Anyone But You', 'Anything for a Pop Star', 'Aníkúlápó', 'Aquaman', 'Aranyak', 'Arcane', 'Archive 81', 'Army of One', 'Army of Thieves', 'Army of the Dead', 'Arnold', 'Art of Love', 'Article 370', 'As the Crow Flies', 'Ashes', 'Ashley Madison: Sex, Lies & Scandal', \"Assassin's Creed\", 'Astérix & Obélix: The Middle Kingdom', 'At Home With The Furys', 'Atlas', 'Attack on Titan', 'Atypical', 'Avatar The Last Airbender', 'B&B Merry', 'BASTARD‼ -Heavy Metal, Dark Fantasy-', 'BEEF', 'BLUE EYE SAMURAI', 'Baby Bandito', 'Baby Driver', 'Baby Reindeer', 'Back to 15', 'Back to the Outback', 'Backstreet Rookie', 'Backtrace', 'Bad Boys for Life', 'Bad Dinosaurs', 'Bad Surgeon: Love Under the Knife', 'Bad Vegan: Fame. Fraud. Fugitives.', 'Badhaai Do', 'Badland Hunters', 'Bake Squad', 'Baki Hanma', 'Ballerina', 'Ballers', 'Bandidos', 'Bank Robbers: The Last Great Heist', 'Barbarian', 'Barbarians', 'Barbecue Showdown', 'Barbie Life in the Dreamhouse', 'Bartkowiak', 'Battle: Freestyle', 'Battleship', 'Bear Man', 'Beast (Tamil)', 'Beautiful Rebel', 'Beauty and the Beast', 'Bebefinn Playtime', 'Beckett', 'Beckham', 'Behind Your Touch', 'Believer 2', 'Belzebuth', 'Ben & Jody', 'Ben Is Back', 'Berlin', 'Best. Christmas. Ever!', 'Better Call Saul', 'Between Lands', 'Beyond the Universe', 'Bhakshak', 'Bhola Shankar', 'Bhola Shankar (Hindi)', 'Bhool Bhulaiyaa 2', 'Big George Foreman: The Miraculous Story of the Once and Future Heavyweight Champion of the World', 'Big Mouth', \"Big Nunu's Little Heist\", 'Big Vape: The Rise and Fall of Juul', 'Bigbug', 'Biohackers', 'Bird Box Barcelona', 'Bitconned', 'Black Adam', 'Black Beach', 'Black Clover: Sword of the Wizard King', 'Black Crab', 'Black Island', 'Black Knight', 'Black Mirror', 'Black and Blue', 'Blackout', 'Blade Runner 2049', 'Blade of the 47 Ronin', 'Blasted', 'Bling Empire', 'Bling Empire: New York', 'Blonde', 'Blood & Gold', 'Blood & Water', 'Blood Coast', 'Blood Red Sky', 'Blood Sisters', 'Blood Ties', 'Blood Vessel', 'Blood of Zeus', 'Bloodhounds', 'Bloodshot', 'Blown Away', 'Bodies', 'Bodkin', 'Boo, Bitch', 'Bordertown: Mural Murders', 'Borrego', 'Boruto: Naruto Next Generations', 'Boy Swallows Universe', 'Brand New Cherry Flavor', 'Brazen', \"Brazil 2002 - Behind the Scenes of Brazil's Fifth FIFA World Cup Victory\", 'Bridgerton', 'Brigands: The Quest for Gold', 'Britney Vs Spears', 'Bro', 'Bro (Hindi)', 'Broad Peak', 'Brother in Love 2', 'Bruised', 'Bua Pun, Beauty and the Blade', 'Buba', 'Bubble', 'Budapest', 'Bullet Train', 'Bullsh*t The Gameshow', 'Burlesque', 'Burn the House Down', 'Burning Betrayal', 'Burning Body', 'Business Proposal', 'Buying Beverly Hills', 'Buying London', 'CBI 5: The Brain', 'CHIPS', 'CJ7', 'Café con aroma de mujer', 'Caged Wings', 'Call Me Chihiro', 'Can I Tell You A Secret?', 'Can You Keep a Secret?', 'Capitani', 'Captain Nova', 'Captain Underpants: The First Epic Movie', 'Captains of the World', 'Captivating the King', 'Car Masters: Rust to Riches', 'Carandiru', 'Carinha de Anjo', 'Carrossel', 'Carter', 'Casper', 'Castaway Diva', 'Castlevania: Nocturne', 'Cat & Dog', 'Catching Killers', 'Catering Christmas', 'Celebrity', 'Centauro', 'Central Intelligence', 'Chandigarh Kare Aashiqui', \"Charlie's Angels\", 'Cheer', 'Chernobyl 1986', 'Chicken Nugget', 'Chicken Run: Dawn of the Nugget', 'Chickenhare and the Hamster of Darkness', 'Child of Kamiari Month', 'Chiquititas', 'Chokehold', 'Choose Love', 'Choose or Die', 'Chor Nikal Ke Bhaga', 'Chris Rock: Selective Outrage', 'Christmas Flow', 'Christmas Full of Grace', 'Christmas as Usual', 'Christmas on Mistletoe Farm', 'Christmas with You', 'Chupa', 'Cigarette Girl', 'Cindy la Regia', 'Cirkus', 'City Hunter', 'City of God', 'Clark', 'Class', 'Class Act', 'Clean', 'Cleaner', 'Cleveland Abduction', 'Clickbait', 'Close to Home: Murder in the Coalfield', 'CoComelon', 'CoComelon Lane', 'Coach Carter', 'Cobra Kai', 'Cocaine Cowboys: The Kings of Miami', 'Code 8', 'Code 8 Part II', 'Code Name: Emperor', 'Codename: Tiranga', 'Cold Pursuit', 'Collateral', 'Collision', 'Colombiana', 'Como si fuera la primera vez', 'Compadres', 'Concrete Utopia', 'Confessions of an Invisible Girl', 'Confidential Assignment 2: International', 'Control Z', 'Conversations with a Killer: The Jeffrey Dahmer Tapes', 'Conversations with a Killer: The John Wayne Gacy Tapes', 'Cooking Up Murder: Uncovering the Story of César Román', 'Copycat Killer', 'Cowboy Bebop', 'Cracow Monsters', 'Crash Course in Romance', 'Crawl', 'Creature', 'Crew', 'Crime Diaries: The Celebrity Stylist', 'Crime Scene Berlin: Nightlife Killer', 'Crime Scene: The Texas Killing Fields', 'Crime Scene: The Times Square Killer', 'Criminal Code', 'Crooks', 'Crossroads', 'Crypto Boy', 'Curry & Cyanide - The Jolly Joseph Case', 'Cyber Hell: Exposing an Internet Horror', 'Cyberpunk: Edgerunners', 'C’è ancora domani', 'D.P.', 'DAHMER', 'DELETE', 'DEPP V HEARD', 'DI4RIES', 'Daddy Day Care', 'Daily Dose of Sunshine', 'Damsel', 'Dancing on Glass', 'Dangerous', 'Dangerous Liaisons', 'Dark Desire', 'Darlings', 'Dasara', 'Dasvi', 'Dated and Related', 'Daughter From Another Mother', 'Daughter of the Wolf', 'Dave Attell: Hot Cross Buns', 'Dave Chappelle: The Closer', 'Dave Chappelle: The Dreamer', 'David and the Elves', 'Day Shift', 'Dead Boy Detectives', 'Dead Man Down', 'Dead to Me', 'Dear Child', 'Death Whisperer', 'Death to 2021', 'Deception - Round D Corner', 'Deep', 'Deep Fear', 'Deep Impact', 'Delicious in Dungeon', 'Deliver Me', 'Delivery by Christmas', 'Demon Slayer: Kimetsu no Yaiba', 'Den of Thieves', 'Desierto', 'Designated Survivor', 'Despicable Me', 'Despicable Me 2', 'Despicable Me 3', 'Destined with You', 'Detective Forst', 'Devil in Ohio', 'Devotion', 'Devotion, a Story of Love and Desire', 'Dhak Dhak', 'Dhamaka', 'Diary of a Gigolo', 'Dirty Grandpa', 'Disappear Completely', 'Disappearance at Clifton Hill', 'Disconnect: The Wedding Planner', 'Disenchantment', 'Disturbia', 'Dive Club', 'Divorce Attorney Shin', 'Do Not Disturb', 'Do Revenge', 'Dobaaraa', 'Doctor (Tamil)', 'Doctor Cha', 'Doctor G', 'Doctor Slump', 'Dog Gone', 'Dolittle', 'Doll House', 'Don', \"Don't Buy the Seller\", \"Don't Hate the Player\", \"Don't Kill Me\", \"Don't Leave\", \"Don't Look Up\", \"Don't Pick Up the Phone\", 'Don’t Blame Karma!', 'Doom at Your Service', 'Doom of Love', 'Doona!', 'Dora and the Lost City of Gold', 'Double XL', 'Down the Rabbit Hole', 'Downfall: The Case Against Boeing', 'Dr. Cheon and the Lost Talisman', \"Dr. Seuss' The Grinch\", \"Dr. Seuss' The Lorax\", 'Dr. Stone', 'Dragged Across Concrete', 'Dragon', 'Dream', 'Dream Girl 2', 'Drifting Home', 'Dubai Bling', 'Dumb Money', 'Dune', 'Dunki', 'Dynasty', 'Dynasty Warriors', 'EDENS ZERO', 'Earwig and the Witch', 'Echoes', 'Ehrengard: The Art of Seduction', 'Einstein and the Bomb', 'Ek Villain Returns', 'El Conde', 'El Jeremías', 'El Rey, Vicente Fernández', 'El infierno', 'El marginal', 'El paseo 6', 'El paseo 7', 'Elena Knows', 'Elite', 'Elite Squad', 'Elize Matsunaga: Once Upon a Crime', 'Elves', 'Elysium', 'Emergency: NYC', 'Emily in Paris', 'Emily the Criminal', 'Encounters', 'End of the Road', 'Enforcement', 'Enola Holmes', 'Enola Holmes 2', 'Enough', 'Entrapped', 'Escape From Mogadishu', 'Escape Room', 'Escaping Twin Flames', 'Eva Lasting', 'Everything Now', 'Exodus: Gods and Kings', 'Extinct', 'Extraction', 'Extraction 2', 'Extraordinary Attorney Woo', 'Eye of the Storm', 'F*ck Love Too', 'F9: The Fast Saga', 'FUBAR', 'Fack ju Göhte 3', 'Fair Play', 'Faithfully Yours', 'Fake Profile', 'Falling for Christmas', 'Familia', 'Family Secrets', 'Family Switch', 'Faraaz', 'Faraway', 'Farewell, Mr. Haffmann', 'Fast & Furious Presents: Hobbs & Shaw', 'Faster', 'Fatal Seduction', 'Fatale', 'Fate: The Winx Saga', 'Father Christmas Is Back', 'Father Stu', 'Fatherhood', 'Fauda', 'Fear Street Part 1: 1994', 'Fear Street Part 2: 1978', 'Fear Street Part 3: 1666', 'Fenced In', 'Feria: The Darkest Light', 'Ferry: The Series', 'Fever Dream', 'Fiasco', 'Fierce', 'Fifty Shades Freed', 'Fighter', 'Files of the Unexplained', 'Final Score', 'Firedrake the Silver Dragon', 'Firefly Lane', 'Fireplace 4K: Crackling Birchwood from Fireplace for Your Home', 'First Kill', 'First Love', 'First Wives Club', 'Fishbowl Wives', 'Fisk', 'Fistful of Vengeance', 'Flight', 'Florida Man', 'Flu', 'Flushed Away', 'Fool Me Once', 'Foot Fairy (Hindi)', 'For Better, for Worse', 'For Life', 'Force of Nature', 'Ford v. Ferrari', 'Forecasting Love and Weather', 'Forever Out of My League', 'Forever Rich', 'Forgotten Love', \"Forgotten We'll Be\", 'Formula 1: Drive to Survive', 'Four Brothers', 'Four to Dinner', \"Franco Escamilla: Ladies' man\", 'Frankly Speaking', \"Freaks – You're One of Us\", 'Freeridge', 'Freestyle', 'Friday Night Plan', 'Friendzone', 'From Me to You: Kimi ni Todoke', 'From Scratch', 'From the Ashes', 'Full Swing', 'Fullmetal Alchemist The Final Alchemy', 'Fullmetal Alchemist The Revenge of Scar', 'Furies', 'Furioza', 'Fury', \"Gabby's Dollhouse\", 'Gandeevadhari Arjuna', 'Ganglands', 'Gangs of Oslo', 'Gangubai Kathiawadi', 'Garouden: The Way of the Lone Wolf', 'Gatta Kusthi', 'Gemini Man', 'Get Gotti', 'Get Out', 'Ghislaine Maxwell: Filthy Rich', 'Ghost Doctor', 'Ghosts of the Abyss', 'Ginny & Georgia', 'Girl in the Picture', 'Girls to Buy', 'Gladbeck: The Hostage Crisis', 'Glamorous', 'Glamour Girls', 'Glass', 'Glass Onion: A Knives Out Mystery', 'Glitch', 'Glow Up', \"God's Crooked Lines\", \"God's Favorite Idiot\", 'GodFather (Hindi)', 'Godspeed', 'Going in Style', 'Gold Brick', 'Golden Kamuy', 'Gone for Good', 'Good Girls', 'Good Morning, Verônica', 'Good on Paper', 'Goodbye', 'Goodbye Earth', 'Goosebumps 2: Haunted Halloween', 'Grace and Frankie', 'Grand Isle', 'Green Lantern', 'Green Snake', \"Grey's Anatomy\", 'Griselda', 'Grown Ups', 'Grown Ups 2', 'Grudge', 'Grumpy Christmas', \"Guillermo del Toro's Cabinet of Curiosities\", 'Guillermo del Toro’s Pinocchio', 'Gumraah', 'Gunpowder Milkshake', 'Guns & Gulaabs', 'Guntur Kaaram', 'Guntur Kaaram (Hindi)', 'Gyeongseong Creature', 'HELL DOGS - IN THE HOUSE OF BAMBOO -', 'HIT: The First Case', 'Hack My Home', 'Hack Your Health: The Secrets of Your Gut', 'Half Bad: The Bastard Son & The Devil Himself', 'Half Brothers', 'Halftime', 'Hanna', 'Happiness', 'Happiness for Beginners', 'Happy Ending', 'Hard Days', 'Hard Feelings', 'Hard Target 2', 'Harry & Meghan', \"Harry Potter and the Sorcerer's Stone\", 'Haseen Dillruba', 'Hatching', 'Have a nice day!', \"He's All That\", 'Head to Head', 'Heart Parade', 'Heart of Stone', 'Heart of the Hunter', 'Heartbreak High', 'Heartsong', 'Heartstopper', 'Heat', 'Heaven in Hell', 'Heeramandi: The Diamond Bazaar', 'Heirs to the Land', 'Heist', 'Hellbound', 'Hellboy', 'Hellhole', 'Hello, Goodbye, and Everything in Between', 'Herself', 'Hi Nanna', 'Hi Papa (Hindi)', 'Hidden Strike', 'High Heat', 'High Tides', 'High Water', 'Hit & Run', 'Hold Tight', 'Holiday in the Vineyards', 'HollyBlood', 'Holy Family', 'Home', 'Home Team', 'Homefront', 'Hometown Cha-Cha-Cha', 'Homicide', 'Honest Thief', 'Honeymoon with My Mother', 'Honeymoonish', 'Hospital Playlist', 'Hot Skull', \"Hot Wheels Let's Race\", 'Hotel Del Luna', 'Hotel Mumbai', 'Hotel Transylvania 2', 'Hotel Transylvania 3: Summer Vacation', 'House of Ninjas', 'House of Secrets: The Burari Deaths', 'House, M.D.', 'How I Became a Gangster', 'How I Became a Superhero', 'How I Fell in Love with a Gangster', 'How It Ends', 'How To Deal With a Heartbreak', 'How the Grinch Stole Christmas', 'How to Become a Cult Leader', 'How to Become a Mob Boss', 'How to Get Rich', 'How to Sell Drugs Online (Fast)', 'How to Train Your Dragon: The Hidden World', 'Hubie Halloween', 'Human Resources', 'Hunger', 'Hunter X Hunter (2011)', 'Hustle', 'Hypnotic', 'I AM A KILLER', 'I Am Georgina', 'I Am Vanessa Guillen', 'I Believe in Santa', 'I Came By', \"I Don't Know Whether to Slit My Wrists or Leave Them Long\", 'I Hate Christmas', 'I Just Killed My Dad', 'I Like It But It Scares Me', 'I See You', \"I Swear It Wasn't Me\", 'I Used to Be Famous', 'I Woke Up A Vampire', 'Ibiza', 'Ice Age: Collision Course', 'Ice Age: Dawn of the Dinosaurs', 'Ice Cold: Murder, Coffee and Jessica Wongso', 'Identity Thief', 'If I Were Luísa Sonza', 'If Only', 'Ilary Blasi: The One and Only', 'Ilhados', 'In From the Cold', 'In Good Hands', 'In Good Hands 2', 'In His Shadow', 'In Love All Over Again', 'In Love and Deep Water', 'In Our Prime', 'In Time', 'In for a Murder', 'In the Name of God: A Holy Betrayal', 'Incantation', 'Indian Matchmaking', 'Infamy', 'Infiesto', 'Infinite', 'Inheritance', 'Inside Job', 'Inside Man', 'Inside the Mind of a Cat', 'Inside the World’s Toughest Prisons', 'Instant Daddy', 'Interceptor', 'Intervenção', 'Intimacy', 'Into the Night', 'Into the Wind', 'Intrusion', 'Invasion', 'Inventing Anna', 'Invisible City', 'Iratta', 'Irish Wish', 'Iron Reign', 'Irugapatru', 'Is It Cake?', 'It', 'JJ+E', 'JUNG_E', 'Jaadugar', 'Jaane Jaan', 'Jack Reacher', 'Jack Reacher: Never Go Back', 'Jackass 4.5', 'Jaguar', 'Jagun Jagun', 'Jana Gana Mana', 'Japan', 'Jawan: Extended Cut', 'Je Suis Karl', 'Jeffrey Epstein: Filthy Rich', 'Jersey', 'Jimmy Carr: Natural Born Killer', 'Jimmy Savile: A British Horror Story', \"JoJo's Bizarre Adventure\", 'Jogi', 'John Wick: Chapter 2', 'John Wick: Chapter 3 - Parabellum', 'Johnny', 'Journey 2: The Mysterious Island', 'Jujutsu Kaisen', 'Jujutsu Kaisen 0: The Movie', 'Jules', 'Jumanji: The Next Level', 'Jumping from High Places', 'Jurassic World', 'Jurassic World Camp Cretaceous', 'Jurassic World: Chaos Theory', 'Jurassic World: Fallen Kingdom', 'Just Go With It', 'Just Like Heaven', 'Just Short of Perfect', 'Juvenile Justice', 'KENGAN ASHURA', 'Kaala Paani', 'Kaapa', 'Kaiju No. 8', 'Kaleidoscope', 'Kannai Nambathe', 'Kantara (Hindi)', 'Kate', 'Kathal - A Jackfruit Mystery', 'Katla', 'Katt Williams: Woke Foke', 'Keep Breathing', 'Keep Sweet: Pray and Obey', 'Kevin Hart: The Kennedy Center Mark Twain Prize for American Humor', 'Keys to the Heart', 'Khakee: The Bihar Chapter', 'Kho Gaye Hum Kahan', 'Khufiya', 'Kick-Ass 2', 'Kill Boksoon', 'Kill Me If You Dare', 'Killer Book Club', 'Killer Sally', 'King Arthur: Legend of the Sword', 'King of Clones', 'King the Land', 'Kingdom', 'Kingdom 3: The Flame of Destiny', 'Kingdom2: Far and Away', 'Kingdom: Ashin of the North', 'Kiss, Kiss!', 'Kitz', 'Kleo', 'Knight and Day', 'Knives Out', 'Kohrra', \"Kountry Wayne: A Woman's Prayer\", 'Kung Fu Hustle', 'Kung Fu Panda 3', 'Kung Fu Panda: The Dragon Knight', 'Kuttey', 'Kübra', 'La Parisienne', 'La Reina del Sur', 'Laal Singh Chaddha', 'Laapataa Ladies', 'Labor Day', 'Labyu With An Accent', \"Lady Chatterley's Lover\", 'Lady Voyeur', 'Larva Pendant', 'Larva in Mars', 'Lassie Come Home', 'Last Call for Istanbul', 'Last Seen Alive', 'Last Summer', 'Last Vegas', 'Learning and fun with Jose Comelon', 'Leatherface', 'Leave the World Behind', 'Leo', 'Leo (Hindi)', \"Leon's Heart\", 'Lesson Plan', 'Let Him Go', \"Let's Get Divorced\", 'Letters to God', 'Lies Hidden in my Garden', 'Lies and Deceit', 'Life After Death with Tyler Henry', 'Life of a King', 'Life on Our Planet', 'Lifemark', 'Lift', 'Line of Duty', 'Little Angel', 'Little Women', 'Live is Life', 'Live to 100: Secrets of the Blue Zones', 'Loca por el trabajo', 'Locke & Key', 'Locked In', 'Lockwood & Co.', 'Lone Survivor', 'Long Shot', 'Look Both Ways', 'Lookism', 'Looop Lapeta', 'Lords of Scam', 'Lost Bullet', 'Lost Bullet 2', 'Lost Paradise', 'Lost in Space', 'Lost in the Night', 'Lou', 'Loudermilk', 'Love & Gelato', 'Love 101', 'Love After Music', 'Love Again', 'Love Destiny The Movie', 'Love Hard', 'Love Is Blind', 'Love Is Blind: Brazil', 'Love Like the Falling Petals', 'Love Me Instead', 'Love Never Lies', 'Love Never Lies: Destination Sardinia', 'Love Tactics', 'Love Tactics 2', 'Love and Leashes', 'Love at First Kiss', 'Love at First Sight', 'Love at Second Sight', 'Love in the Villa', 'Love is Blind Brazil: After the Altar', 'Love is Blind: Sweden', 'Love is in the Air', 'Love of My Loves', 'Love on the Spectrum', 'Love to Hate You', 'Love, Death & Robots', 'Love, Divided', 'Lover, Stalker, Killer', 'Loving Adults', 'Luccas Neto em: O Mapa do Tesouro 2', 'Luccas Neto em: O Meu Aniversário', 'Luccas Neto em: O Plano dos Vilões', 'Luccas Neto in: The Magical Hotel 2', 'Lucifer', 'Luckiest Girl Alive', 'Ludik', 'Luis Miguel - The Series', 'Lulli', 'Lupin', 'Lust Stories 2', 'Luther: The Fallen Sun', 'Luz: The Light of the Heart', 'Lyle, Lyle, Crocodile', 'MADOFF: The Monster of Wall Street', 'MH370: The Plane That Disappeared', 'Ma', 'Maamannan (Tamil)', 'Maamla Legal Hai', 'Madagascar', 'Madame Web', 'Maestro in Blue', 'Mafia Mamma', 'Maid', 'Major (Hindi)', 'Major (Telugu)', 'Major Grom: Plague Doctor', 'Make Me Believe', 'Malbatt: Misi Bakara', 'Maldivas', 'Malverde, el santo patrón', 'Man Vs Bee', 'Man on Fire', 'Manifest', 'Marauders', 'Mark Normand: Soup to Nuts', 'Marmaduke', 'Married at First Sight', 'Marry My Dead Body', 'Mask Girl', 'Masters of the Universe: Revolution', 'Mat Kilau', 'Matilda', 'Matt Rife: Natural Selection', 'Maya and the Three', 'Maze Runner: The Scorch Trials', 'McGREGOR FOREVER', 'Me Time', 'Mea Culpa', 'Mean Girls', 'Mech Cadets', 'Medieval', 'Meenakshi Sundareshwar', 'Megan Leavey', 'Meltdown: Three Mile Island', 'Memoirs of a Geisha', 'Men in Black 3', 'Men in Black: International', 'Men of Plastic', 'Mending the Line', 'Meninas Não Choram', 'Merry Christmas (Hindi)', 'Meskina', 'Metal Lords', 'Midnight Mass', 'Midnight at the Pera Palace', 'Midsummer Night', \"Mighty Bheem's Playtime\", 'Mighty Morphin Power Rangers: Once & Always', 'Mike Birbiglia: The Old Man and The Pool', 'Mike Epps: Ready to Sell Out', 'Mili', 'Mimi', 'Mindcage', 'Minions', 'Minions & More Volume 1', 'Minions & More Volume 2', 'Minions: The Rise of Gru', 'Minnal Murali', 'Miraculous: Ladybug & Cat Noir, The Movie', 'Mirreyes vs Godinez', 'Miss Adrenaline: A Tale of Twins', 'Missed Connections', 'Missing', 'Missing: Dead or Alive?', 'Missing: The Lucie Blackman Case', 'Mission Majnu', 'Mission Raniganj: The Great Bharat Rescue', 'Mission: Impossible - Fallout', 'Mission: Impossible - Ghost Protocol', 'Mixed by Erry', 'Money Heist', 'Money Heist: Korea - Joint Economic Area', 'Money Shot: The Pornhub Story', 'Monica, O My Darling', 'Monique Olivier: Accessory to Evil', 'Monk', 'Monk Comes Down the Mountain', 'Monster', 'Monster High: The Movie', 'Monster Hunter', 'Monsters Inside: The 24 Faces of Billy Milligan', 'Monte Carlo', 'Morbius', 'More the Merrier', 'Mother of the Bride', \"Mother's Day\", 'Mother/Android', 'Mr. & Mrs. Smith', 'Mr. Car and the Knights Templar', \"Mr. Harrigan's Phone\", 'Mr. Queen', 'Mrs. Chatterjee vs Norway', 'Munich – The Edge of War', 'Murdaugh Murders: A Southern Scandal', 'Murder Mubarak', 'Murder Mystery', 'Murder Mystery 2', 'Murder by the Coast', 'Muscles & Mayhem: An Unauthorized Story of American Gladiators', 'Muted', 'My Best Friend Anne Frank', 'My Brother, My Sister', 'My Dad the Bounty Hunter', 'My Daughter’s Killer', 'My Demon', \"My Father's Violin\", 'My Happy Marriage', 'My Hero Academia', 'My Liberation Notes', 'My Life With the Walter Boys', 'My Little Pony: A New Generation', 'My Name', 'My Name Is Loh Kiwan', 'My Name Is Vendetta', 'My Wonderful Life', 'Mysteries of the Faith', 'NAGA', 'NASCAR: Full Speed', 'NYAD', 'Narco-Saints', 'Narcos: Mexico', 'Narvik', 'Navarasa', 'Never Have I Ever', 'Nevertheless,', 'New Amsterdam', 'Newly Rich, Newly Poor', 'Next in Fashion', 'Neymar: The Perfect Chaos', 'Night Teeth', 'Nightbooks', 'Nikamma', 'Nimona', 'No Hard Feelings', 'No Limit', 'No One Gets Out Alive', 'No Pressure', 'No Ritmo da Fé', 'Noah', 'Nobody', 'Nobody Sleeps in the Woods Tonight', 'Nobody Sleeps in the Woods Tonight 2', 'Noise', 'Nothing to See Here', 'Nowhere', 'O Candidato Honesto', 'O Candidato Honesto 2', 'OMG 2', 'ONE PIECE', 'Obliterated', 'Oblivion', 'Obsession', 'Octonauts: Above & Beyond', 'Oddballs', 'Off Track', 'Oh Belinda', 'Oh My Venus', 'Old', 'Old Dads', 'Old Henry', 'Old People', 'Om Nom Stories', 'On My Block', 'On the Line', 'Once Upon a Crime', 'Once Upon a Small Town', 'One Day', 'One More Time', 'One Piece Film Z', 'One Piece Film: Strong World', 'One of Us Is Lying', 'Onimusha', 'Only Mine', 'Open Your Eyes', 'Operation Mincemeat', 'Operation Romeo', 'Orion and the Dark', 'Our Beloved Summer', 'Our Blues', 'Our Father', 'Our Great National Parks', 'Our Living World', 'Our Planet', 'Out of my league', 'Outer Banks', 'Outlast', 'Outlaws', 'Over the Hedge', 'Overhaul', 'Ozark', 'PAW Patrol', 'PIECES OF HER', 'Pablo Escobar, el patrón del mal', 'Pact of Silence', 'Pain Hustlers', 'Painkiller', 'Pamela, a love story', 'Paradise', 'Parallel Mothers', 'Parallel Roads', 'Parasyte: The Grey', 'Partiu América', 'Partner Track', 'Pasión de Gavilanes', 'Passing', 'Paw Patrol: The Movie', 'Peaky Blinders', 'Pedal to Metal', 'Pedro el escamoso', 'Peppa Pig', \"Pepsi, Where's My Jet?\", 'Perfect Match', 'Perfume: The Story of a Murderer', 'Persuasion', 'Pete Davidson: Turbo Fonzarelli', 'Peter Rabbit 2', 'Phenomena', 'Photocopier', 'Physical: 100', \"Pinkfong & Baby Shark's Space Adventure\", 'Pirate Dad', 'Pitch Perfect', 'Plan A Plan B', 'Players', 'Playing with Fire', 'Poisoned: The Dirty Truth About Your Food', 'Pokémon Concierge', 'Pokémon Journeys: The Series', 'Pokémon the Movie: Secrets of the Jungle', 'Prayers for the Stolen', 'Predators', 'Pretty Woman', 'Prey', 'Prime Time', 'Prisoners', 'Private Lesson', 'Purple Hearts', 'Puss in Boots', 'Puss in Boots: The Last Wish', 'Quarterback', 'Queen', 'Queen Charlotte: A Bridgerton Story', 'Queen Cleopatra', 'Queen of Tears', 'Queen of the South', 'Queenmaker', 'Queenpins', 'Queens on the Run', 'Queer Eye', 'R.I.P.D.', 'RIPLEY', 'RRR (Hindi)', \"Racionais MC's: From the Streets of São Paulo\", 'Radhe Shyam (Hindi)', 'Ragnarok', 'Raising Dion', 'Ramabanam', 'Rambo: Last Blood', 'Rana Naidu', 'Ranga Ranga Vaibhavanga', 'Ransomed', 'Raw (Hindi)', 'Raël: The Alien Prophet', 'Re/Member', 'Ready, Set, Love', 'Rebel Moon — Part One: A Child of Fire', 'Rebel Moon — Part Two: The Scargiver', 'Rebelde', 'Reborn Rich', 'Rebound', 'Record of Ragnarok', 'Recurrence', 'Red Notice', 'Red Rose', 'Redemption', 'Redemption Day', 'Regular Show', 'Remarriage & Desires', 'Replacing Chef Chico', 'Reporting for Duty', 'Reptile', 'Rescued by Ruby', 'Resident Alien', 'Resident Evil', 'Resort to Love', 'Rest In Peace', 'Restless', 'Return to Space', 'Rewind', 'Rhythm + Flow France', 'Rich in Love 2', 'Ricky Gervais: Armageddon', 'Riddick', 'Ride Along', 'Ride Along 2', 'Riders of Justice', 'Rise of the Legend', 'River Wild', 'Riverdale', 'Riverdance: The Animated Adventure', \"Roald Dahl's Matilda The Musical\", 'Robbie Williams', 'Robbing Mussolini', 'Rogue City', \"Rosa Peral's Tapes\", 'Rough Diamonds', 'Royalteen', 'Royalteen: Princess Margrethe', 'Ruby Gillman, Teenage Kraken', 'Rumspringa - An Amish in Berlin', 'Run Rabbit Run', 'Running with the Devil', 'Running with the Devil: The Wild World of John McAfee', 'Rurouni Kenshin: Origins', 'Rurouni Kenshin: The Beginning', 'Rurouni Kenshin: The Final', 'Rust Creek', 'S.W.A.T.', 'SAS: Rise of the Black Swan', 'SHAMAN KING', 'SPRIGGAN', 'SPY x FAMILY', 'STAND BY ME Doraemon 2', 'Saakini Daakini', 'Safe House', 'Sajini Shinde Ka Viral Video', 'Salaar', 'Sanctuary', 'Santo', 'Savage Beauty', 'Scaredy Cats', 'Scary Movie', 'School Life', 'School Spirits', 'School of Chocolate', 'Schumacher', 'Scoop', 'Scott Pilgrim Takes Off', 'Scrooge: A Christmas Carol', 'Seal Team', 'Seasons', 'Secrets of the Neanderthals', 'Security', 'See You in My 19th Life', 'See You on Venus', 'Selling Sunset', 'Selling Tampa', 'Selling The OC', 'Senior Year', 'Seoul Vibe', 'Sex Education', 'Sex and the City', 'Sex/Life', 'Shabaash Mithu (Hindi)', 'Shadow and Bone', 'Shahmaran', 'Shaitaan', 'Shameless (U.S.)', 'Shane Gillis: Beautiful Dogs', 'Shania Twain: Not Just a Girl', 'Shaolin Soccer', 'Shark Bait', 'Shark Tale', 'Sharkdog', 'She', 'She Would Never Know', 'Shehzada', 'Shiny_Flakes: The Teenage Drug Lord', 'Shirley', 'Shooter', 'Shrek', 'Shrek 2', 'Shrek Forever After', 'Shyam Singha Roy', 'Silver Skates', 'Silverton Siege', 'Simón', 'Sin Nombre', 'Sing', 'Sing 2', 'Single All The Way', 'Single’s Inferno', 'Sinkhole', 'Sins of Our Mother', 'Sintonia', 'Sir', 'Sir (Hindi)', 'Sister Death', 'Sixty Minutes', 'Sky High', 'Sky High: The Series', 'Sky Rojo', 'Skylines', 'Skyscraper', 'Sleeping Dog', 'Slumberland', 'Sly', 'Smile', 'Smother-in-Law', 'Smurfs: The Lost Village', 'Snack VS. Chef', \"Sniper: Assassin's End\", 'Sniper: Ghost Shooter', 'Sniper: Ultimate Kill', 'Snitch', 'Snowflake Mountain', 'Society of the Snow', 'Somebody', 'Someone Borrowed', 'Somos.', 'Song of the Bandits', 'Sonic Prime', 'Sonic the Hedgehog', 'Sonic the Hedgehog 2', 'Sooryavanshi', 'Sophie: A Murder in West Cork', 'Soulcatcher', 'Sounds Like Love', 'Space Force', 'Spaceman', 'Spider-Man', 'Spider-Man: Across the Spider-Verse', 'Spider-Man: Far from Home', 'Spider-Man: Homecoming', 'Spider-Man: Into the Spider-Verse', 'Spider-Man: No Way Home', 'Spiderhead', 'Spoiled Brats', 'Sputnik', 'Spy Kids', 'Spy Kids: Armageddon', 'Spy Ops', 'Squared Love All Over Again', 'Squared Love Everlasting', 'Squid Game', 'Squid Game: The Challenge', 'St. Vincent', 'Stay Close', 'Steve Treviño: Simple Man', 'Still Time', 'Stillwater', 'Stolen', 'Stolen Vacation', 'Stranded with my Mother-in-Law', 'Stranger Things', 'Street Flow 2', 'Street Kings', 'Strong Girl Nam-soon', 'Stuck Together', 'Suburræterna', 'Suits', 'Sukhee', 'Summer Heat', 'Summer Vacation', 'Super PupZ', 'Super Rich in Korea', 'Supersex', 'Survival of the Thickest', 'Surviving Paradise', 'Surviving Summer', 'Suzume', 'Sweet Family', 'Sweet Girl', 'Sweet Home', 'Sweet Magnolias', 'Sweet Tooth', 'Switch', 'Synchronic', 'THE DAYS', 'THE MAGIC PRANK SHOW with Justin Willman', 'THE VILLAGE', 'Taboo', 'Tad, The Lost Explorer and the Emerald Tablet', 'Tadeo Jones 2: El secreto del Rey Midas', 'Take Care of Maya', 'Tall Girl 2', 'Tammy', 'Tara VS. Bilal', 'Taylor Tomlinson: Have It All', 'Ted', 'Testament: The Story of Moses', 'Tex Mex Motors', 'Texas Chainsaw Massacre', 'Thai Cave Rescue', 'Thai Massage', 'Thalaivii', 'Thank You for Coming', \"Thank You, I'm Sorry\", 'Thank You, Next', 'Thanksgiving', 'Thar', \"That '90s Show\", \"That's Amor\", 'The (Almost) Legends', 'The 100', 'The 7 Lives of Lea', 'The 8 Show', 'The 8th Night', 'The Abandoned', 'The Abyss', 'The Accountant', 'The Adam Project', 'The Age of Adaline', 'The Amazing Spider-Man', 'The Angry Birds Movie', 'The Angry Birds Movie 2', 'The Archies', 'The Assistant', 'The Asunta Case', 'The Atypical Family', 'The Baby-Sitters Club', 'The Back-Up Plan', 'The Bad Guys', 'The Beast', 'The Beautiful Game', 'The Bequeathed', 'The Big 4', 'The Billionaire, The Butler, and the Boyfriend', 'The Black Book', 'The Blacklist', 'The Blind Side', 'The Bombardment', 'The Boss Baby', 'The Boss Baby: Back in the Crib', 'The Boss Baby: Christmas Bonus', 'The Boss Baby: Family Business', 'The Bourne Legacy', 'The Bricklayer', 'The Brothers Sun', 'The Bubble', 'The Burning Sea', 'The Call', 'The Casagrandes Movie', 'The Catholic School', 'The Chair', 'The Chalk Line', 'The Chestnut Man', 'The Choice', 'The Chosen One', 'The Christmas Chronicles', 'The Christmas Chronicles: Part Two', 'The Circle', 'The Claus Family', 'The Claus Family 2', 'The Claus Family 3', 'The Clovehitch Killer', 'The Club', 'The Collini Case', 'The Company Men', 'The Condemned', 'The Conference', 'The Cook of Castamar', 'The Courier', 'The Creature Cases', 'The Croods', 'The Croods: A New Age', 'The Crown', 'The Cuphead Show!', 'The Curse of Bridge Hollow', 'The Dark Knight Rises', \"The Dead Don't Die\", 'The Deep End of the Ocean', 'The Deep House', 'The Deepest Breath', 'The Devil Wears Prada', 'The Devil on Trial', \"The Devil's Plan\", 'The Dilemma', 'The Diplomat', 'The Doomsday Cult of Antares de la Luz', 'The Empress', 'The Endless Night', 'The Entitled', 'The Equalizer 2', 'The Equalizer 3', 'The Fall of the House of Usher', 'The Fame Game', 'The Fast and the Furious', 'The Fate of the Furious', 'The Father', 'The Father Who Moves Mountains', 'The Favourite', 'The Festival of Troubadours', 'The Figo Affair: The Transfer that Changed Football', 'The Five Juanas', 'The Forever Purge', 'The Forgotten Battle', 'The Four of Us', 'The Frozen Ground', 'The Gentlemen', 'The Getaway King', 'The Ghost', 'The Girl Next Door', 'The Girl from Oslo', 'The Girl in the Mirror', \"The Girl in the Spider's Web\", 'The Glory', 'The Golden Hour', 'The Good Bad Mother', 'The Good Doctor', 'The Good Nurse', 'The Gray Man', 'The Great British Baking Show', 'The Great Indian Kapil Show', \"The Great Robbery of Brazil's Central Bank\", 'The Great Seduction', 'The Great Wall', 'The Greatest Night in Pop', 'The Grimm Variations', 'The Guardian of the Monarchs', 'The Guide to the Perfect Family', 'The Guilty', 'The Hand of God', 'The Hangover: Part III', 'The Harder They Fall', 'The Hatchet Wielding Hitchhiker', 'The Healer', 'The Heartbreak Agency', 'The Hijacking of Flight 601', 'The Hill', 'The Hunger Games', 'The Hunger Games: Catching Fire', \"The Huntsman: Winter's War\", 'The Hurricane Heist', 'The Ice Road', 'The Imperfects', 'The In Between', 'The Indrani Mukerjea Story: Buried Truth', 'The Informer', 'The Interest of Love', 'The Invisible Man', 'The Invisible Thread', 'The Invitation', 'The Judge', 'The Killer', \"The King's Affection\", 'The Kings of the World', 'The Kissing Booth', 'The Kissing Booth 2', 'The Kissing Booth 3', 'The Kitchen', 'The Lady of Silence: The Mataviejitas Murders', 'The Last Hours of Mario Biondo', 'The Last Kingdom', 'The Last Kingdom: Seven Kings Must Die', 'The Last Letter From Your Lover', 'The Last Mercenary', 'The Last Stand', 'The Law According to Lidia Poët', 'The Legend of Tarzan', 'The Lincoln Lawyer', 'The Little Things', 'The Longest Night', 'The Longest Yard', 'The Losers', 'The Lost City', 'The Lost Daughter', 'The Lost Patient', 'The Loud House Movie', 'The Lulú Club', 'The Lørenskog Disappearance', 'The Machine', \"The Magician's Elephant\", 'The Man from Toronto', 'The Manny', 'The Marine', 'The Marked Heart', 'The Marksman', 'The Marriage App', 'The Maze Runner', 'The Medium', 'The Midnight Club', 'The Mire', 'The Mist', 'The Mitchells vs. The Machines', 'The Mole', 'The Monkey King', 'The Most Hated Man on the Internet', 'The Mother', 'The Mule', 'The Mummy', 'The Murderer', 'The Mystery of Marilyn Monroe: The Unheard Tapes', 'The Next 365 Days', 'The Night Agent', 'The Noel Diary', 'The Nurse', 'The Old Ways', 'The Out-Laws', 'The Outpost', 'The Outreau Case: A French Nightmare', 'The Pacific', 'The Pale Blue Eye', 'The Parades', 'The Perfect Family', 'The Perfect Find', 'The Perfect Mother', 'The Perfumier', 'The Pig, the Snake and the Pigeon', 'The Pirates: The Last Royal Treasure', 'The Playing Card Killer', 'The Playlist', 'The Point Men', \"The Pope's Exorcist\", 'The Possession of Hannah Grace', 'The Postcard Killings', 'The Power of the Dog', 'The Price of Family', 'The Princess Switch 3: Romancing the Star', 'The Privilege', 'The Program: Cons, Cults and Kidnapping', 'The Proposal', 'The Quake', 'The Queen of Flow', 'The Queenstown Kings', 'The Raid 2', 'The Raid: Redemption', 'The Railway Men - The Untold Story Of Bhopal 1984', 'The Recruit', 'The Redeem Team', 'The Roast of Tom Brady', 'The Rope Curse 3', 'The Royal Treatment', 'The Sandman', 'The School for Good and Evil', 'The Sea Beast', 'The Secret Diary of an Exchange Student', 'The Secret Life of Pets', 'The Secret Life of Pets 2', 'The Secret of the Greco Family', 'The Seven Deadly Sins', 'The Seven Deadly Sins: Cursed by Light', 'The Seven Deadly Sins: Four Knights of the Apocalypse', 'The Seven Deadly Sins: Grudge of Edinburgh Part 1', 'The Seven Deadly Sins: Grudge of Edinburgh Part 2', 'The Shack', 'The Signal', 'The Silencing', 'The Silent Sea', 'The Sinner', 'The Smurfs', 'The Snitch Cartel: Origins', 'The Snow Girl', 'The Snowman', 'The Son', 'The Sound of Magic', 'The Starling', 'The Stranger', 'The Strays', 'The Stronghold', 'The Super Mario Bros. Movie', 'The Surrogacy', 'The Swarm', 'The Swimmers', 'The Tailor', 'The Takedown', 'The Takeover', 'The Taming of the Shrewd', 'The Taming of the Shrewd 2', 'The Tearsmith', \"The Three Musketeers: D'Artagnan\", 'The Tinder Swindler', 'The Tourist', 'The Tournament', 'The Trip', 'The Trust', 'The Turning Point', 'The Tutor', 'The Twilight Saga: Breaking Dawn: Part 1', 'The Twilight Saga: Breaking Dawn: Part 2', 'The Twilight Saga: Eclipse', 'The Twilight Saga: New Moon', 'The Ultimatum: Marry or Move On', 'The Ultimatum: Queer Love', 'The Umbrella Academy', 'The Unbroken Voice', 'The Uncanny Counter', 'The Unforgivable', 'The Upshaws', 'The Vanishing', 'The Vault', 'The Volcano: Rescue from Whakaari', 'The Vow', 'The Wages of Fear', 'The Walking Dead', 'The War Next-door', 'The Wasteland', 'The Watcher', 'The Water Man', 'The Weekend Away', 'The Whole Truth', 'The Witcher', 'The Witcher: Blood Origin', 'The Witcher: Nightmare of the Wolf', 'The Wolf of Wall Street', 'The Woman King', 'The Woman in the House Across the Street from the Girl in the Window', 'The Women and the Murderer', 'The Wonder', 'The Wonder Weeks', 'The Wrath of God', 'The Year I Started Masturbating', 'Thelma the Unicorn', 'There Is a What-If', \"There's Someone Inside Your House\", 'They Cloned Tyrone', 'Thicker Than Water', 'Thimmarusu', 'Thirty-Nine', 'This Is Where I Leave You', 'This Is the End', 'This Little Love of Mine', 'Thoroughbred', 'Those Who Wish Me Dead', 'Through My Window', 'Through My Window 2: Across the Sea', 'Through My Window 3: Looking at You', 'Thunivu', 'Thunivu (Hindi)', \"Thursday's Widows\", 'Tides', 'Tiger King', 'Til Money Do Us Part', 'Till Murder Do Us Part: Soering vs. Haysom', 'Tillu Square', 'Time Trap', 'Tin & Tina', 'Tires', 'Titanic', 'Titans', 'To Kill a Tiger', 'To Leslie', 'Today We Fix the World', 'Todos queremos a alguien', 'Together: Treble Winners', 'Togo', 'Tom Segura: Sledgehammer', 'Tomb Raider', 'Tomorrow', \"Tonight You're Sleeping with Me\", 'Too Hot to Handle', 'Too Hot to Handle: Brazil', 'Too Hot to Handle: Germany', 'Too Old for Fairy Tales', 'Toolsidas Junior', 'Top Boy', 'Top Gun', 'Top Gun: Maverick', 'Top Secret UFO Projects: Declassified', 'Toscana', 'Tour de France: Unchained', 'Tower Heist', 'Toy Boy', 'Trainwreck', 'Transatlantic', 'Transformers: Dark of the Moon', 'Transformers: Revenge of the Fallen', 'Transformers: The Last Knight', 'Transporter 2', 'Treason', 'Trees of Peace', 'Trevor Noah: Where Was I', 'Triple 9', 'Triple Frontier', 'Triptych', 'Troll', 'Trollhunters: Rise of the Titans', 'Trolls', 'Trolls World Tour', 'True Beauty', 'True Spirit', 'True Story', 'Trust No One: The Hunt for the Crypto King', 'Tu Jhoothi Main Makkaar', 'Turbo', 'Turn of the Tide', 'Turning Point: 9/11 and the War on Terror', 'Turning Point: The Bomb and the Cold War', 'Twenty Five Twenty One', 'Twenty-Something, Divorced and Fabulous', 'Twilight', 'Two', 'Two Summers', \"Tyler Perry's The Single Moms Club\", \"Tyson's Run\", 'Tô Ryca', 'U.S. Marshals', 'UFO', 'UglyDolls', 'Uncharted', 'Uncoupled', 'Under Fire', 'Under Her Control', 'Under the Amalfi Sun', \"Under the Queen's Umbrella\", 'Undercover', 'Underwater', 'Unfaithful', 'Unfrosted', 'Unicorn Academy', 'Unknown: Cave of Bones', 'Unknown: Cosmic Time Machine', 'Unknown: Killer Robots', 'Unknown: The Lost Pyramid', 'Unlocked', 'Unlocked: A Jail Experiment', 'Unseen', 'Unsolved Mysteries', 'Unstable', 'Untold: Hall of Shame', 'Untold: Jake Paul the Problem Child', 'Untold: Johnny Football', 'Untold: Malice at the Palace', 'Untold: Swamp Kings', \"Untold: The Girlfriend Who Didn't Exist\", 'Upgrade', 'Usogui', 'Vaashi (Malayalam)', 'Vaathi', 'Vadh', \"Valentina's Wedding\", 'Valeria', 'Valley of the Dead', 'Vatican Girl: The Disappearance of Emanuela Orlandi', 'Venom', 'Vicky and Her Mystery', 'Victim/Suspect', 'Viking Wolf', 'Vikings: Valhalla', 'Violet Evergarden the Movie', 'Virgin River', 'Vivo', 'WHAM!', 'WILL', 'WWII in Color: Road to Victory', 'Waco: American Apocalypse', 'Waltair Veerayya', 'War', 'War Sailor', 'Warcraft', 'Warrior', 'Warrior Nun', 'Warriors of Future', \"Watch Out, We're Mad\", 'We Have a Ghost', \"We're the Millers\", 'Wedding Season', 'Wednesday', 'Welcome Home Roscoe Jenkins', 'Welcome to Eden', 'Welcome to Samdal-ri', 'Wellmania', 'What Happens in Vegas', 'What If', 'What Jennifer Did', 'What Men Want', 'Where is Marta?', 'Where the Crawdads Sing', 'Where the Tracks End', 'White Chicks', 'White Hot: The Rise & Fall of Abercrombie & Fitch', 'White Noise', 'Whitney Houston: I Wanna Dance with Somebody', 'Who Killed Jill Dando?', 'Who Killed Sara?', 'Who Were We Running From?', 'Who is Erin Carter?', \"Who's a Good Boy?\", 'Wild', 'Wild Croc Territory', 'Wild Is the Wind', 'Windfall', 'Wingwomen', 'Wish Dragon', 'Without Saying Goodbye', 'Woman of the Dead', 'Women at War', 'Women on the Edge', 'Woody Woodpecker', 'Woody Woodpecker Goes to Camp', 'Words Bubble Up Like Soda Pop', \"Workin' Moms\", 'World Trade Center', 'World War II: From the Frontlines', 'World War Z', 'Worst Roommate Ever', 'Worth', 'Wrong Place', 'Wrong Side of the Tracks', 'XO, Kitty', 'Xtreme', 'Ya veremos', 'Yakamoz S-245', 'Yaksha: Ruthless Operations', 'Yakuza Princess', 'Yara', 'Yeh Kaali Kaali Ankhein', 'Yellowstone', 'Yo soy Betty, la fea', 'You', 'You & Me & Me', 'You Are Not Alone: Fighting the Wolf Pack', 'You Are So Not Invited to My Bat Mitzvah', 'You Are What You Eat: A Twin Experiment', 'You Do You', \"You Don't Know Me\", 'You People', 'Young Lady and Gentleman', 'Young Royals', 'Young Sheldon', 'Your Place or Mine', 'Yu Yu Hakusho', 'Zero to Hero', 'Zom 100: Bucket List of the Dead', 'Zombieverse', 'iNumber Number: Jozi Gold', 'jeen-yuhs: A Kanye Trilogy', 'maboroshi', '¡Que viva México!', 'Ìjọ̀gbọ̀n', 'أصحاب ...ولا أعزّ', '비상선언']\n",
            "--------------------------------------------------\n",
            "Valores inteiros únicos na coluna 'horas_visualizadas':\n",
            "[700000, 900000, 930000, 1000000, 1030000, 1050000, 1110000, 1120000, 1130000, 1150000, 1170000, 1180000, 1190000, 1200000, 1210000, 1220000, 1250000, 1260000, 1270000, 1280000, 1300000, 1320000, 1330000, 1340000, 1350000, 1370000, 1380000, 1390000, 1400000, 1410000, 1420000, 1430000, 1440000, 1450000, 1460000, 1470000, 1500000, 1510000, 1530000, 1540000, 1560000, 1570000, 1580000, 1590000, 1600000, 1620000, 1640000, 1660000, 1670000, 1690000, 1700000, 1710000, 1720000, 1730000, 1740000, 1760000, 1770000, 1780000, 1790000, 1800000, 1810000, 1820000, 1830000, 1840000, 1850000, 1860000, 1870000, 1880000, 1900000, 1910000, 1920000, 1940000, 1950000, 1960000, 1970000, 1980000, 1990000, 2000000, 2010000, 2050000, 2060000, 2070000, 2080000, 2090000, 2100000, 2110000, 2120000, 2130000, 2140000, 2150000, 2160000, 2170000, 2180000, 2190000, 2200000, 2210000, 2220000, 2230000, 2240000, 2250000, 2260000, 2270000, 2280000, 2290000, 2300000, 2310000, 2320000, 2330000, 2340000, 2350000, 2360000, 2370000, 2380000, 2390000, 2400000, 2410000, 2420000, 2430000, 2440000, 2450000, 2460000, 2470000, 2480000, 2490000, 2500000, 2510000, 2520000, 2540000, 2550000, 2570000, 2580000, 2590000, 2600000, 2610000, 2620000, 2630000, 2640000, 2650000, 2660000, 2670000, 2680000, 2690000, 2700000, 2710000, 2720000, 2730000, 2740000, 2770000, 2780000, 2800000, 2810000, 2820000, 2830000, 2840000, 2850000, 2860000, 2870000, 2880000, 2890000, 2900000, 2910000, 2920000, 2930000, 2940000, 2950000, 2960000, 2970000, 2990000, 3000000, 3020000, 3030000, 3040000, 3050000, 3060000, 3080000, 3090000, 3100000, 3110000, 3120000, 3130000, 3140000, 3150000, 3170000, 3180000, 3190000, 3200000, 3210000, 3220000, 3230000, 3240000, 3250000, 3260000, 3270000, 3280000, 3290000, 3300000, 3310000, 3320000, 3330000, 3340000, 3350000, 3360000, 3370000, 3390000, 3400000, 3410000, 3420000, 3430000, 3440000, 3450000, 3460000, 3470000, 3490000, 3500000, 3520000, 3530000, 3540000, 3550000, 3570000, 3580000, 3590000, 3600000, 3610000, 3630000, 3640000, 3650000, 3660000, 3670000, 3680000, 3690000, 3700000, 3710000, 3720000, 3730000, 3750000, 3760000, 3770000, 3780000, 3790000, 3800000, 3810000, 3820000, 3830000, 3840000, 3850000, 3860000, 3880000, 3890000, 3900000, 3920000, 3930000, 3940000, 3950000, 3960000, 3970000, 3980000, 4000000, 4010000, 4020000, 4030000, 4040000, 4050000, 4060000, 4070000, 4080000, 4090000, 4100000, 4120000, 4130000, 4140000, 4160000, 4190000, 4200000, 4210000, 4230000, 4250000, 4260000, 4270000, 4280000, 4300000, 4320000, 4330000, 4340000, 4370000, 4380000, 4390000, 4400000, 4410000, 4420000, 4430000, 4440000, 4450000, 4460000, 4470000, 4480000, 4490000, 4500000, 4510000, 4520000, 4530000, 4540000, 4550000, 4560000, 4570000, 4580000, 4590000, 4600000, 4610000, 4620000, 4640000, 4650000, 4660000, 4690000, 4700000, 4730000, 4740000, 4750000, 4760000, 4770000, 4780000, 4790000, 4800000, 4820000, 4840000, 4850000, 4860000, 4870000, 4880000, 4890000, 4900000, 4920000, 4950000, 4960000, 4970000, 5000000, 5010000, 5020000, 5030000, 5050000, 5070000, 5080000, 5090000, 5100000, 5130000, 5140000, 5150000, 5160000, 5170000, 5180000, 5190000, 5200000, 5210000, 5220000, 5230000, 5240000, 5250000, 5280000, 5300000, 5310000, 5320000, 5330000, 5340000, 5350000, 5360000, 5370000, 5380000, 5390000, 5400000, 5410000, 5420000, 5430000, 5440000, 5450000, 5460000, 5470000, 5490000, 5500000, 5510000, 5520000, 5530000, 5540000, 5550000, 5560000, 5570000, 5580000, 5590000, 5600000, 5620000, 5630000, 5640000, 5650000, 5660000, 5670000, 5680000, 5690000, 5700000, 5710000, 5720000, 5740000, 5750000, 5760000, 5770000, 5780000, 5790000, 5800000, 5820000, 5840000, 5850000, 5860000, 5880000, 5890000, 5900000, 5910000, 5920000, 5930000, 5940000, 5960000, 5980000, 5990000, 6000000, 6010000, 6030000, 6040000, 6050000, 6060000, 6070000, 6080000, 6090000, 6100000, 6110000, 6130000, 6140000, 6150000, 6160000, 6170000, 6190000, 6200000, 6210000, 6220000, 6230000, 6250000, 6260000, 6270000, 6280000, 6290000, 6300000, 6310000, 6320000, 6330000, 6340000, 6350000, 6360000, 6370000, 6380000, 6400000, 6410000, 6420000, 6430000, 6440000, 6450000, 6460000, 6470000, 6480000, 6490000, 6500000, 6510000, 6520000, 6530000, 6540000, 6550000, 6560000, 6570000, 6580000, 6600000, 6610000, 6620000, 6630000, 6640000, 6650000, 6660000, 6670000, 6680000, 6690000, 6700000, 6710000, 6720000, 6730000, 6740000, 6750000, 6760000, 6770000, 6780000, 6790000, 6800000, 6820000, 6830000, 6840000, 6850000, 6870000, 6890000, 6900000, 6910000, 6920000, 6930000, 6940000, 6950000, 6960000, 6970000, 6980000, 6990000, 7000000, 7010000, 7020000, 7030000, 7050000, 7060000, 7070000, 7090000, 7100000, 7110000, 7120000, 7130000, 7150000, 7160000, 7170000, 7180000, 7190000, 7200000, 7210000, 7220000, 7230000, 7240000, 7250000, 7260000, 7270000, 7280000, 7290000, 7300000, 7310000, 7330000, 7340000, 7360000, 7370000, 7380000, 7390000, 7400000, 7420000, 7430000, 7440000, 7460000, 7470000, 7480000, 7490000, 7500000, 7520000, 7530000, 7540000, 7550000, 7560000, 7570000, 7580000, 7590000, 7600000, 7610000, 7620000, 7640000, 7650000, 7680000, 7690000, 7700000, 7710000, 7720000, 7730000, 7750000, 7760000, 7770000, 7780000, 7790000, 7800000, 7820000, 7840000, 7850000, 7860000, 7870000, 7880000, 7900000, 7910000, 7920000, 7940000, 7950000, 7960000, 7980000, 7990000, 8000000, 8010000, 8020000, 8030000, 8040000, 8050000, 8070000, 8080000, 8100000, 8110000, 8120000, 8130000, 8140000, 8150000, 8170000, 8180000, 8200000, 8210000, 8220000, 8230000, 8250000, 8270000, 8280000, 8300000, 8310000, 8320000, 8330000, 8340000, 8350000, 8360000, 8370000, 8380000, 8390000, 8400000, 8410000, 8420000, 8430000, 8440000, 8450000, 8460000, 8470000, 8490000, 8500000, 8510000, 8520000, 8530000, 8540000, 8550000, 8570000, 8580000, 8590000, 8600000, 8610000, 8620000, 8630000, 8640000, 8660000, 8670000, 8680000, 8690000, 8700000, 8710000, 8720000, 8730000, 8740000, 8750000, 8760000, 8770000, 8780000, 8790000, 8800000, 8810000, 8820000, 8830000, 8840000, 8850000, 8860000, 8870000, 8890000, 8900000, 8910000, 8920000, 8930000, 8940000, 8950000, 8960000, 8970000, 8980000, 8990000, 9000000, 9010000, 9020000, 9030000, 9040000, 9050000, 9060000, 9070000, 9080000, 9090000, 9100000, 9110000, 9120000, 9130000, 9140000, 9150000, 9160000, 9170000, 9180000, 9190000, 9200000, 9210000, 9220000, 9240000, 9250000, 9260000, 9270000, 9280000, 9300000, 9310000, 9320000, 9330000, 9340000, 9360000, 9370000, 9380000, 9390000, 9400000, 9410000, 9420000, 9430000, 9440000, 9450000, 9470000, 9480000, 9490000, 9500000, 9510000, 9520000, 9530000, 9540000, 9550000, 9560000, 9570000, 9580000, 9590000, 9600000, 9630000, 9640000, 9650000, 9660000, 9670000, 9680000, 9690000, 9700000, 9710000, 9720000, 9730000, 9740000, 9750000, 9760000, 9770000, 9780000, 9790000, 9800000, 9820000, 9830000, 9840000, 9850000, 9860000, 9870000, 9880000, 9890000, 9900000, 9910000, 9920000, 9930000, 9940000, 9950000, 9960000, 9970000, 9980000, 9990000, 10000000, 10010000, 10030000, 10040000, 10050000, 10080000, 10090000, 10100000, 10110000, 10120000, 10130000, 10140000, 10150000, 10200000, 10210000, 10230000, 10240000, 10250000, 10260000, 10270000, 10290000, 10300000, 10310000, 10320000, 10330000, 10340000, 10350000, 10360000, 10370000, 10380000, 10390000, 10400000, 10420000, 10430000, 10440000, 10460000, 10470000, 10480000, 10490000, 10500000, 10510000, 10520000, 10530000, 10540000, 10550000, 10560000, 10570000, 10580000, 10590000, 10600000, 10620000, 10630000, 10640000, 10650000, 10660000, 10690000, 10700000, 10710000, 10750000, 10780000, 10790000, 10800000, 10810000, 10820000, 10830000, 10840000, 10850000, 10860000, 10870000, 10880000, 10890000, 10900000, 10910000, 10920000, 10930000, 10940000, 10950000, 10960000, 10970000, 10980000, 10990000, 11000000, 11010000, 11020000, 11030000, 11040000, 11050000, 11070000, 11080000, 11090000, 11100000, 11110000, 11120000, 11130000, 11140000, 11150000, 11160000, 11170000, 11180000, 11200000, 11210000, 11230000, 11250000, 11260000, 11270000, 11280000, 11290000, 11300000, 11310000, 11320000, 11340000, 11350000, 11360000, 11370000, 11380000, 11390000, 11400000, 11410000, 11420000, 11430000, 11440000, 11450000, 11460000, 11470000, 11480000, 11490000, 11500000, 11510000, 11520000, 11530000, 11540000, 11550000, 11560000, 11570000, 11580000, 11590000, 11600000, 11610000, 11620000, 11630000, 11640000, 11650000, 11660000, 11670000, 11690000, 11700000, 11720000, 11730000, 11740000, 11760000, 11770000, 11780000, 11800000, 11810000, 11830000, 11840000, 11850000, 11860000, 11880000, 11890000, 11900000, 11910000, 11920000, 11930000, 11940000, 11950000, 11960000, 11970000, 11980000, 11990000, 12000000, 12020000, 12040000, 12050000, 12060000, 12070000, 12080000, 12090000, 12100000, 12110000, 12120000, 12130000, 12140000, 12150000, 12160000, 12170000, 12180000, 12190000, 12200000, 12210000, 12220000, 12230000, 12250000, 12260000, 12270000, 12280000, 12290000, 12300000, 12310000, 12320000, 12330000, 12340000, 12350000, 12360000, 12370000, 12380000, 12390000, 12400000, 12410000, 12430000, 12450000, 12460000, 12470000, 12490000, 12500000, 12510000, 12520000, 12530000, 12540000, 12550000, 12560000, 12570000, 12590000, 12600000, 12610000, 12620000, 12630000, 12650000, 12660000, 12680000, 12690000, 12700000, 12710000, 12720000, 12730000, 12740000, 12750000, 12760000, 12770000, 12800000, 12810000, 12830000, 12860000, 12870000, 12880000, 12890000, 12900000, 12910000, 12920000, 12930000, 12940000, 12960000, 12970000, 12980000, 12990000, 13000000, 13040000, 13050000, 13060000, 13070000, 13080000, 13090000, 13100000, 13110000, 13130000, 13140000, 13150000, 13160000, 13170000, 13180000, 13190000, 13200000, 13210000, 13220000, 13230000, 13240000, 13260000, 13270000, 13280000, 13300000, 13310000, 13320000, 13330000, 13340000, 13350000, 13360000, 13370000, 13390000, 13400000, 13410000, 13420000, 13430000, 13440000, 13450000, 13470000, 13480000, 13500000, 13510000, 13530000, 13560000, 13580000, 13590000, 13600000, 13630000, 13640000, 13660000, 13670000, 13690000, 13700000, 13710000, 13720000, 13750000, 13760000, 13770000, 13780000, 13790000, 13800000, 13810000, 13820000, 13830000, 13840000, 13850000, 13860000, 13870000, 13890000, 13900000, 13910000, 13920000, 13930000, 13940000, 13950000, 13960000, 13970000, 13980000, 14000000, 14020000, 14060000, 14070000, 14080000, 14090000, 14100000, 14110000, 14120000, 14130000, 14140000, 14160000, 14180000, 14200000, 14210000, 14230000, 14240000, 14250000, 14260000, 14270000, 14280000, 14300000, 14320000, 14340000, 14350000, 14360000, 14370000, 14380000, 14400000, 14410000, 14420000, 14460000, 14480000, 14500000, 14510000, 14520000, 14540000, 14550000, 14560000, 14570000, 14580000, 14590000, 14600000, 14630000, 14640000, 14650000, 14670000, 14680000, 14690000, 14700000, 14740000, 14750000, 14760000, 14770000, 14780000, 14790000, 14800000, 14810000, 14820000, 14830000, 14840000, 14870000, 14880000, 14890000, 14900000, 14910000, 14920000, 14930000, 14940000, 14950000, 14960000, 14970000, 14980000, 14990000, 15000000, 15010000, 15020000, 15030000, 15050000, 15060000, 15070000, 15080000, 15090000, 15100000, 15110000, 15120000, 15150000, 15160000, 15170000, 15200000, 15210000, 15230000, 15240000, 15260000, 15290000, 15300000, 15310000, 15330000, 15340000, 15350000, 15360000, 15370000, 15380000, 15390000, 15400000, 15410000, 15430000, 15440000, 15470000, 15480000, 15490000, 15500000, 15510000, 15520000, 15550000, 15570000, 15590000, 15600000, 15620000, 15630000, 15640000, 15650000, 15660000, 15670000, 15680000, 15700000, 15710000, 15740000, 15760000, 15790000, 15800000, 15820000, 15830000, 15850000, 15860000, 15870000, 15900000, 15910000, 15920000, 15930000, 15940000, 15950000, 15960000, 15990000, 16000000, 16010000, 16020000, 16030000, 16040000, 16060000, 16080000, 16100000, 16110000, 16120000, 16130000, 16140000, 16150000, 16160000, 16170000, 16200000, 16210000, 16220000, 16230000, 16240000, 16250000, 16260000, 16270000, 16290000, 16300000, 16310000, 16360000, 16380000, 16390000, 16400000, 16410000, 16420000, 16430000, 16450000, 16460000, 16470000, 16480000, 16490000, 16500000, 16510000, 16520000, 16550000, 16560000, 16580000, 16600000, 16620000, 16640000, 16650000, 16660000, 16670000, 16690000, 16700000, 16710000, 16720000, 16730000, 16740000, 16750000, 16760000, 16770000, 16790000, 16800000, 16810000, 16820000, 16830000, 16840000, 16860000, 16880000, 16890000, 16900000, 16910000, 16930000, 16960000, 16980000, 17000000, 17010000, 17020000, 17030000, 17040000, 17070000, 17080000, 17090000, 17100000, 17110000, 17120000, 17130000, 17150000, 17170000, 17180000, 17200000, 17210000, 17220000, 17230000, 17250000, 17260000, 17270000, 17280000, 17290000, 17300000, 17310000, 17320000, 17330000, 17360000, 17370000, 17390000, 17400000, 17410000, 17420000, 17430000, 17440000, 17460000, 17480000, 17490000, 17500000, 17520000, 17550000, 17570000, 17580000, 17600000, 17610000, 17620000, 17630000, 17670000, 17700000, 17710000, 17720000, 17740000, 17790000, 17800000, 17820000, 17830000, 17840000, 17850000, 17900000, 17920000, 17930000, 17940000, 17950000, 17990000, 18000000, 18010000, 18020000, 18040000, 18050000, 18060000, 18070000, 18080000, 18100000, 18110000, 18120000, 18140000, 18160000, 18170000, 18180000, 18190000, 18200000, 18210000, 18220000, 18230000, 18240000, 18250000, 18260000, 18270000, 18290000, 18300000, 18310000, 18340000, 18360000, 18370000, 18380000, 18400000, 18420000, 18430000, 18440000, 18460000, 18490000, 18500000, 18510000, 18540000, 18550000, 18570000, 18580000, 18590000, 18600000, 18610000, 18650000, 18660000, 18680000, 18700000, 18710000, 18720000, 18730000, 18760000, 18770000, 18790000, 18800000, 18810000, 18840000, 18850000, 18860000, 18880000, 18890000, 18900000, 18930000, 18940000, 18950000, 18960000, 18980000, 19000000, 19010000, 19030000, 19070000, 19080000, 19090000, 19100000, 19110000, 19130000, 19170000, 19180000, 19190000, 19200000, 19210000, 19220000, 19230000, 19240000, 19250000, 19260000, 19280000, 19290000, 19300000, 19310000, 19340000, 19360000, 19370000, 19400000, 19410000, 19440000, 19460000, 19470000, 19480000, 19500000, 19530000, 19540000, 19550000, 19570000, 19580000, 19590000, 19600000, 19610000, 19630000, 19680000, 19700000, 19710000, 19740000, 19770000, 19780000, 19800000, 19810000, 19870000, 19880000, 19890000, 19900000, 19910000, 19920000, 19930000, 19940000, 19960000, 19970000, 20000000, 20050000, 20070000, 20080000, 20090000, 20100000, 20130000, 20160000, 20170000, 20180000, 20200000, 20210000, 20230000, 20240000, 20250000, 20280000, 20300000, 20330000, 20340000, 20370000, 20380000, 20400000, 20410000, 20430000, 20460000, 20470000, 20480000, 20490000, 20500000, 20510000, 20540000, 20550000, 20560000, 20590000, 20600000, 20610000, 20620000, 20650000, 20660000, 20700000, 20720000, 20730000, 20740000, 20760000, 20790000, 20800000, 20820000, 20850000, 20870000, 20880000, 20900000, 20910000, 20920000, 20940000, 20950000, 20970000, 21020000, 21040000, 21050000, 21070000, 21090000, 21100000, 21160000, 21180000, 21200000, 21220000, 21230000, 21240000, 21270000, 21300000, 21310000, 21320000, 21330000, 21350000, 21400000, 21420000, 21440000, 21450000, 21460000, 21470000, 21480000, 21500000, 21510000, 21520000, 21540000, 21570000, 21580000, 21590000, 21600000, 21620000, 21630000, 21640000, 21650000, 21660000, 21700000, 21730000, 21740000, 21770000, 21780000, 21800000, 21810000, 21830000, 21870000, 21900000, 21910000, 21940000, 21960000, 21970000, 21980000, 21990000, 22000000, 22020000, 22030000, 22060000, 22150000, 22200000, 22210000, 22220000, 22230000, 22250000, 22280000, 22290000, 22300000, 22340000, 22350000, 22380000, 22400000, 22410000, 22440000, 22480000, 22490000, 22500000, 22510000, 22530000, 22550000, 22570000, 22600000, 22640000, 22650000, 22700000, 22710000, 22730000, 22780000, 22800000, 22810000, 22860000, 22900000, 22950000, 22990000, 23000000, 23020000, 23030000, 23050000, 23060000, 23100000, 23130000, 23140000, 23160000, 23170000, 23180000, 23200000, 23220000, 23230000, 23240000, 23280000, 23300000, 23360000, 23370000, 23400000, 23410000, 23460000, 23480000, 23500000, 23520000, 23530000, 23570000, 23580000, 23590000, 23630000, 23640000, 23650000, 23660000, 23700000, 23710000, 23750000, 23770000, 23790000, 23810000, 23830000, 23840000, 23850000, 23860000, 23870000, 23880000, 23890000, 23900000, 23920000, 23940000, 23950000, 23960000, 24000000, 24020000, 24050000, 24070000, 24080000, 24100000, 24120000, 24150000, 24170000, 24190000, 24200000, 24210000, 24240000, 24250000, 24270000, 24280000, 24290000, 24300000, 24320000, 24330000, 24380000, 24390000, 24430000, 24480000, 24500000, 24510000, 24530000, 24560000, 24590000, 24600000, 24620000, 24650000, 24670000, 24690000, 24700000, 24720000, 24750000, 24770000, 24800000, 24890000, 24900000, 24970000, 24990000, 25000000, 25040000, 25080000, 25100000, 25110000, 25120000, 25170000, 25180000, 25300000, 25310000, 25320000, 25340000, 25360000, 25370000, 25390000, 25400000, 25410000, 25430000, 25490000, 25500000, 25520000, 25550000, 25600000, 25620000, 25630000, 25640000, 25680000, 25690000, 25700000, 25710000, 25730000, 25760000, 25790000, 25800000, 25820000, 25880000, 25890000, 25900000, 25930000, 25940000, 25950000, 25970000, 26000000, 26030000, 26050000, 26060000, 26100000, 26140000, 26150000, 26170000, 26180000, 26190000, 26200000, 26210000, 26220000, 26230000, 26240000, 26250000, 26260000, 26280000, 26290000, 26300000, 26310000, 26340000, 26370000, 26400000, 26410000, 26460000, 26510000, 26520000, 26570000, 26580000, 26590000, 26600000, 26670000, 26680000, 26690000, 26700000, 26710000, 26720000, 26730000, 26750000, 26770000, 26800000, 26820000, 26880000, 26900000, 26960000, 26980000, 26990000, 27000000, 27010000, 27030000, 27040000, 27060000, 27090000, 27100000, 27120000, 27190000, 27200000, 27210000, 27230000, 27250000, 27290000, 27300000, 27380000, 27440000, 27470000, 27530000, 27540000, 27600000, 27610000, 27630000, 27640000, 27680000, 27700000, 27710000, 27720000, 27740000, 27750000, 27790000, 27800000, 27820000, 27830000, 27900000, 27970000, 27980000, 28000000, 28010000, 28030000, 28050000, 28080000, 28100000, 28110000, 28120000, 28150000, 28190000, 28200000, 28230000, 28250000, 28270000, 28300000, 28310000, 28320000, 28330000, 28360000, 28380000, 28390000, 28400000, 28430000, 28480000, 28500000, 28510000, 28570000, 28590000, 28600000, 28630000, 28660000, 28690000, 28700000, 28720000, 28740000, 28780000, 28800000, 28900000, 28930000, 28980000, 28990000, 29000000, 29010000, 29020000, 29030000, 29040000, 29060000, 29080000, 29180000, 29190000, 29210000, 29300000, 29350000, 29400000, 29480000, 29490000, 29500000, 29530000, 29550000, 29650000, 29660000, 29680000, 29700000, 29730000, 29740000, 29760000, 29800000, 29810000, 29830000, 29880000, 29890000, 29900000, 29940000, 30000000, 30020000, 30030000, 30040000, 30160000, 30170000, 30200000, 30210000, 30220000, 30230000, 30260000, 30280000, 30300000, 30340000, 30350000, 30390000, 30410000, 30500000, 30560000, 30600000, 30630000, 30640000, 30700000, 30730000, 30790000, 30800000, 30890000, 30900000, 30940000, 31000000, 31040000, 31140000, 31150000, 31190000, 31200000, 31220000, 31290000, 31300000, 31380000, 31400000, 31500000, 31510000, 31540000, 31560000, 31600000, 31640000, 31700000, 31740000, 31750000, 31800000, 31830000, 31840000, 31870000, 31900000, 31940000, 32000000, 32050000, 32100000, 32200000, 32210000, 32230000, 32250000, 32280000, 32300000, 32370000, 32400000, 32440000, 32490000, 32520000, 32530000, 32540000, 32600000, 32630000, 32700000, 32730000, 32800000, 32840000, 32890000, 32900000, 33000000, 33020000, 33050000, 33060000, 33080000, 33120000, 33180000, 33200000, 33240000, 33250000, 33320000, 33330000, 33340000, 33350000, 33360000, 33370000, 33390000, 33400000, 33420000, 33470000, 33520000, 33600000, 33630000, 33720000, 33740000, 33750000, 33790000, 33800000, 33960000, 34000000, 34050000, 34080000, 34100000, 34140000, 34170000, 34310000, 34350000, 34370000, 34410000, 34450000, 34470000, 34500000, 34600000, 34630000, 34690000, 34700000, 35020000, 35100000, 35110000, 35200000, 35230000, 35300000, 35310000, 35370000, 35400000, 35420000, 35500000, 35530000, 35600000, 35650000, 35700000, 35730000, 35760000, 35820000, 35860000, 35880000, 35890000, 35900000, 35920000, 35930000, 36100000, 36200000, 36270000, 36330000, 36400000, 36500000, 36580000, 36590000, 36650000, 36690000, 36730000, 36780000, 36870000, 36900000, 36950000, 37050000, 37100000, 37160000, 37300000, 37340000, 37400000, 37420000, 37460000, 37470000, 37500000, 37540000, 37580000, 37600000, 37680000, 37700000, 37740000, 37800000, 37830000, 37850000, 37900000, 37910000, 37980000, 38030000, 38050000, 38090000, 38100000, 38120000, 38200000, 38300000, 38400000, 38420000, 38440000, 38580000, 38600000, 38640000, 38660000, 38700000, 38720000, 38780000, 38800000, 38860000, 38900000, 38990000, 39080000, 39090000, 39200000, 39300000, 39310000, 39380000, 39400000, 39420000, 39460000, 39480000, 39500000, 39510000, 39650000, 39740000, 39750000, 39760000, 39860000, 39910000, 39950000, 39960000, 39980000, 40000000, 40050000, 40080000, 40110000, 40200000, 40280000, 40470000, 40500000, 40510000, 40530000, 40570000, 40600000, 40700000, 40790000, 40890000, 40960000, 41000000, 41060000, 41080000, 41100000, 41110000, 41220000, 41240000, 41290000, 41330000, 41400000, 41460000, 41610000, 41760000, 41780000, 41840000, 41950000, 41990000, 42000000, 42070000, 42100000, 42120000, 42200000, 42280000, 42360000, 42400000, 42490000, 42530000, 42550000, 42620000, 42660000, 42700000, 42790000, 42810000, 42890000, 42900000, 42960000, 42990000, 43000000, 43080000, 43100000, 43140000, 43200000, 43290000, 43300000, 43360000, 43480000, 43490000, 43580000, 43710000, 43760000, 43800000, 43840000, 43890000, 43900000, 43970000, 44000000, 44050000, 44200000, 44320000, 44370000, 44450000, 44500000, 44580000, 44610000, 44620000, 44630000, 44700000, 44760000, 44800000, 44810000, 44890000, 45000000, 45080000, 45090000, 45100000, 45190000, 45220000, 45340000, 45400000, 45420000, 45430000, 45500000, 45580000, 45600000, 45710000, 45740000, 45800000, 45840000, 45900000, 45930000, 46130000, 46190000, 46300000, 46310000, 46370000, 46520000, 46570000, 46590000, 46600000, 46700000, 46720000, 46930000, 47000000, 47100000, 47130000, 47180000, 47210000, 47250000, 47380000, 47420000, 47500000, 47600000, 47640000, 47700000, 47780000, 47820000, 47830000, 48060000, 48090000, 48100000, 48140000, 48230000, 48270000, 48340000, 48350000, 48360000, 48500000, 48550000, 48620000, 48770000, 48800000, 48820000, 48850000, 48940000, 48950000, 48960000, 49000000, 49090000, 49100000, 49180000, 49320000, 49590000, 49640000, 49870000, 49900000, 49950000, 49990000, 50000000, 50190000, 50200000, 50240000, 50290000, 50300000, 50350000, 50400000, 50450000, 50500000, 50540000, 50650000, 50730000, 50800000, 50900000, 51230000, 51280000, 51380000, 51420000, 51490000, 51570000, 51600000, 51800000, 51840000, 51900000, 51930000, 52230000, 52270000, 52300000, 52310000, 52370000, 52380000, 52590000, 52700000, 52800000, 52940000, 53020000, 53240000, 53390000, 53600000, 53680000, 53700000, 53720000, 53790000, 53800000, 53810000, 53890000, 54090000, 54100000, 54320000, 54400000, 54420000, 54730000, 54900000, 55010000, 55030000, 55070000, 55200000, 55350000, 55530000, 55610000, 55650000, 55700000, 55800000, 55940000, 56060000, 56300000, 56400000, 56490000, 56510000, 56560000, 56650000, 56700000, 56900000, 57000000, 57010000, 57060000, 57100000, 57160000, 57190000, 57340000, 57400000, 57480000, 57500000, 57720000, 57740000, 57820000, 57900000, 58150000, 58200000, 58270000, 58380000, 58470000, 58500000, 58560000, 58600000, 58700000, 58800000, 58960000, 59000000, 59120000, 59230000, 59430000, 59450000, 59460000, 59840000, 59880000, 60400000, 60470000, 60480000, 60600000, 60670000, 60970000, 61080000, 61190000, 61300000, 61360000, 61500000, 61620000, 61700000, 62130000, 62150000, 62420000, 62490000, 62580000, 62640000, 62650000, 62860000, 62890000, 63190000, 63230000, 63390000, 63500000, 63520000, 63540000, 63780000, 63900000, 64060000, 64080000, 64420000, 64500000, 64520000, 64700000, 64730000, 64760000, 64800000, 64820000, 65000000, 65100000, 65300000, 65400000, 65610000, 65630000, 65700000, 65860000, 65900000, 65920000, 66300000, 66400000, 66460000, 66500000, 66610000, 67000000, 67010000, 67390000, 67510000, 67520000, 68040000, 68110000, 68300000, 68310000, 68490000, 68500000, 68800000, 69030000, 69110000, 69360000, 69480000, 69540000, 69600000, 69860000, 70380000, 70810000, 70980000, 71610000, 71700000, 72020000, 72080000, 72670000, 72870000, 73000000, 73200000, 73260000, 73600000, 74000000, 74300000, 74440000, 74780000, 74990000, 75080000, 75300000, 75400000, 75500000, 75560000, 75810000, 75860000, 75940000, 76210000, 76310000, 76540000, 76910000, 77000000, 77010000, 77240000, 77310000, 77430000, 77590000, 77900000, 77980000, 78000000, 78150000, 78400000, 78830000, 79040000, 79250000, 79270000, 80500000, 80560000, 81340000, 81500000, 81550000, 81700000, 82140000, 82390000, 82480000, 82750000, 82790000, 82980000, 83710000, 84310000, 84530000, 84580000, 85000000, 85260000, 85360000, 85600000, 85700000, 85860000, 86730000, 87270000, 87300000, 87400000, 87500000, 87890000, 87940000, 87980000, 88030000, 88400000, 88550000, 88940000, 90040000, 90100000, 90300000, 90860000, 91180000, 91980000, 92070000, 92430000, 92800000, 93200000, 94270000, 94420000, 95330000, 95550000, 95590000, 95720000, 96340000, 96360000, 96470000, 97500000, 97600000, 97710000, 98140000, 98700000, 98850000, 99000000, 100160000, 102120000, 102260000, 102330000, 102590000, 103960000, 105330000, 105440000, 106200000, 106700000, 107390000, 107640000, 107810000, 108090000, 108400000, 111030000, 112320000, 113240000, 113380000, 113800000, 114100000, 115600000, 115750000, 117610000, 118540000, 120060000, 122780000, 123170000, 123590000, 124460000, 124530000, 124790000, 125010000, 125770000, 127250000, 127500000, 129110000, 129280000, 130480000, 130800000, 133120000, 134200000, 140100000, 142430000, 144200000, 145700000, 146400000, 147560000, 147950000, 148240000, 148280000, 148720000, 152290000, 153300000, 153400000, 154970000, 158680000, 159240000, 160420000, 162720000, 165200000, 166520000, 168460000, 168710000, 173960000, 179000000, 180470000, 188190000, 189920000, 193020000, 195970000, 196200000, 201910000, 205330000, 216390000, 236230000, 238200000, 251740000, 258840000, 269670000, 286790000, 299840000, 301280000, 335010000, 341230000, 411290000, 412940000, 448730000, 571760000]\n",
            "--------------------------------------------------\n",
            "Valores inteiros únicos na coluna 'semanas_acumuladas_top10':\n",
            "[1, 2, 3, 4, 5, 6, 7, 8, 9, 10, 11, 12, 13, 14, 15, 16, 17, 18, 19, 20, 21, 22, 23, 24, 25, 26, 27, 28, 29, 30]\n",
            "--------------------------------------------------\n",
            "Valores de texto únicos na coluna 'mes':\n",
            "[1, 2, 3, 4, 5, 6, 7, 8, 9, 10, 11, 12]\n",
            "--------------------------------------------------\n"
          ]
        }
      ]
    },
    {
      "cell_type": "markdown",
      "source": [
        "### **Verificação de Integridade**"
      ],
      "metadata": {
        "id": "EbI-aLNrI0_5"
      }
    },
    {
      "cell_type": "code",
      "source": [
        "#Instalação do pacote pandera\n",
        "!pip install pandera"
      ],
      "metadata": {
        "colab": {
          "base_uri": "https://localhost:8080/"
        },
        "id": "MrV2xxQMI3HF",
        "outputId": "a6d04d42-f3ae-4e3e-d271-6be014ee8e5f"
      },
      "execution_count": 17,
      "outputs": [
        {
          "output_type": "stream",
          "name": "stdout",
          "text": [
            "Requirement already satisfied: pandera in /usr/local/lib/python3.10/dist-packages (0.19.3)\n",
            "Requirement already satisfied: multimethod<=1.10.0 in /usr/local/lib/python3.10/dist-packages (from pandera) (1.10)\n",
            "Requirement already satisfied: numpy>=1.19.0 in /usr/local/lib/python3.10/dist-packages (from pandera) (1.25.2)\n",
            "Requirement already satisfied: packaging>=20.0 in /usr/local/lib/python3.10/dist-packages (from pandera) (24.0)\n",
            "Requirement already satisfied: pandas>=1.2.0 in /usr/local/lib/python3.10/dist-packages (from pandera) (2.0.3)\n",
            "Requirement already satisfied: pydantic in /usr/local/lib/python3.10/dist-packages (from pandera) (2.7.1)\n",
            "Requirement already satisfied: typeguard in /usr/local/lib/python3.10/dist-packages (from pandera) (4.3.0)\n",
            "Requirement already satisfied: typing-inspect>=0.6.0 in /usr/local/lib/python3.10/dist-packages (from pandera) (0.9.0)\n",
            "Requirement already satisfied: wrapt in /usr/local/lib/python3.10/dist-packages (from pandera) (1.14.1)\n",
            "Requirement already satisfied: python-dateutil>=2.8.2 in /usr/local/lib/python3.10/dist-packages (from pandas>=1.2.0->pandera) (2.8.2)\n",
            "Requirement already satisfied: pytz>=2020.1 in /usr/local/lib/python3.10/dist-packages (from pandas>=1.2.0->pandera) (2023.4)\n",
            "Requirement already satisfied: tzdata>=2022.1 in /usr/local/lib/python3.10/dist-packages (from pandas>=1.2.0->pandera) (2024.1)\n",
            "Requirement already satisfied: mypy-extensions>=0.3.0 in /usr/local/lib/python3.10/dist-packages (from typing-inspect>=0.6.0->pandera) (1.0.0)\n",
            "Requirement already satisfied: typing-extensions>=3.7.4 in /usr/local/lib/python3.10/dist-packages (from typing-inspect>=0.6.0->pandera) (4.11.0)\n",
            "Requirement already satisfied: annotated-types>=0.4.0 in /usr/local/lib/python3.10/dist-packages (from pydantic->pandera) (0.7.0)\n",
            "Requirement already satisfied: pydantic-core==2.18.2 in /usr/local/lib/python3.10/dist-packages (from pydantic->pandera) (2.18.2)\n",
            "Requirement already satisfied: six>=1.5 in /usr/local/lib/python3.10/dist-packages (from python-dateutil>=2.8.2->pandas>=1.2.0->pandera) (1.16.0)\n"
          ]
        }
      ]
    },
    {
      "cell_type": "code",
      "source": [
        "# importando o pacote pandera\n",
        "import pandera as pa"
      ],
      "metadata": {
        "id": "qxdlHg8nI8aq"
      },
      "execution_count": 18,
      "outputs": []
    },
    {
      "cell_type": "code",
      "source": [
        "#Alterando mes, ano e dia de Integer para String\n",
        "df['mes'] = df['mes'].astype('str')\n",
        "df['ano'] = df['ano'].astype('str')\n",
        "df['dia'] = df['dia'].astype('str')"
      ],
      "metadata": {
        "id": "0WRfn5J2KJpL"
      },
      "execution_count": 19,
      "outputs": []
    },
    {
      "cell_type": "code",
      "source": [
        "# Definição do esquema de validação\n",
        "schema = pa.DataFrameSchema({'semana': pa.Column(pa.DateTime),\n",
        "                             'categoria': pa.Column(pa.String),\n",
        "                             'classificaçao_semanal': pa.Column(pa.Int),\n",
        "                             'titulo_do_programa/show': pa.Column(pa.String),\n",
        "                             'horas_visualizadas': pa.Column(pa.Int),\n",
        "                             'semanas_acumuladas_top10': pa.Column(pa.Int),\n",
        "                             'mes': pa.Column(pa.String),\n",
        "                             'ano': pa.Column(pa.String),\n",
        "                             'dia': pa.Column(pa.String)\n",
        "                            })"
      ],
      "metadata": {
        "id": "W6kSxTCfJDXr"
      },
      "execution_count": 20,
      "outputs": []
    },
    {
      "cell_type": "code",
      "source": [
        "df.dtypes"
      ],
      "metadata": {
        "colab": {
          "base_uri": "https://localhost:8080/"
        },
        "id": "g2ntjacBKr9e",
        "outputId": "7ffd8ece-53ff-4349-d081-00eacacd8f92"
      },
      "execution_count": 21,
      "outputs": [
        {
          "output_type": "execute_result",
          "data": {
            "text/plain": [
              "semana                      datetime64[ns]\n",
              "categoria                           object\n",
              "classificaçao_semanal                int64\n",
              "titulo_do_programa/show             object\n",
              "horas_visualizadas                   int64\n",
              "semanas_acumuladas_top10             int64\n",
              "mes                                 object\n",
              "ano                                 object\n",
              "dia                                 object\n",
              "dtype: object"
            ]
          },
          "metadata": {},
          "execution_count": 21
        }
      ]
    },
    {
      "cell_type": "code",
      "source": [
        "# Validar o DataFrame\n",
        "schema.validate(df)"
      ],
      "metadata": {
        "colab": {
          "base_uri": "https://localhost:8080/",
          "height": 423
        },
        "id": "VF3tOC9bJFhq",
        "outputId": "9b350c7e-11d2-4df9-dbab-35f1f32e09be"
      },
      "execution_count": 22,
      "outputs": [
        {
          "output_type": "execute_result",
          "data": {
            "text/plain": [
              "         semana                    categoria  classificaçao_semanal  \\\n",
              "0    2024-05-26              Filmes (Inglês)                      1   \n",
              "1    2024-05-26              Filmes (Inglês)                      2   \n",
              "2    2024-05-26              Filmes (Inglês)                      3   \n",
              "3    2024-05-26              Filmes (Inglês)                      4   \n",
              "4    2024-05-26              Filmes (Inglês)                      5   \n",
              "...         ...                          ...                    ...   \n",
              "6075 2021-07-04  Séries de TV (Estrangeiros)                      6   \n",
              "6076 2021-07-04  Séries de TV (Estrangeiros)                      7   \n",
              "6077 2021-07-04  Séries de TV (Estrangeiros)                      8   \n",
              "6078 2021-07-04  Séries de TV (Estrangeiros)                      9   \n",
              "6079 2021-07-04  Séries de TV (Estrangeiros)                     10   \n",
              "\n",
              "             titulo_do_programa/show  horas_visualizadas  \\\n",
              "0                              Atlas            56300000   \n",
              "1                 Thelma the Unicorn            17400000   \n",
              "2     Ice Age: Dawn of the Dinosaurs            15100000   \n",
              "3                Mother of the Bride            14000000   \n",
              "4                          Disturbia            14100000   \n",
              "...                              ...                 ...   \n",
              "6075                           Elite            10530000   \n",
              "6076                           Elite            10200000   \n",
              "6077                           Elite            10140000   \n",
              "6078                           Katla             9190000   \n",
              "6079              Record of Ragnarok             9140000   \n",
              "\n",
              "      semanas_acumuladas_top10 mes   ano dia  \n",
              "0                            1   5  2024  26  \n",
              "1                            2   5  2024  26  \n",
              "2                            1   5  2024  26  \n",
              "3                            3   5  2024  26  \n",
              "4                            2   5  2024  26  \n",
              "...                        ...  ..   ...  ..  \n",
              "6075                         1   7  2021   4  \n",
              "6076                         1   7  2021   4  \n",
              "6077                         1   7  2021   4  \n",
              "6078                         1   7  2021   4  \n",
              "6079                         1   7  2021   4  \n",
              "\n",
              "[6080 rows x 9 columns]"
            ],
            "text/html": [
              "\n",
              "  <div id=\"df-30a45c01-b62e-4847-9492-c96fbfd85194\" class=\"colab-df-container\">\n",
              "    <div>\n",
              "<style scoped>\n",
              "    .dataframe tbody tr th:only-of-type {\n",
              "        vertical-align: middle;\n",
              "    }\n",
              "\n",
              "    .dataframe tbody tr th {\n",
              "        vertical-align: top;\n",
              "    }\n",
              "\n",
              "    .dataframe thead th {\n",
              "        text-align: right;\n",
              "    }\n",
              "</style>\n",
              "<table border=\"1\" class=\"dataframe\">\n",
              "  <thead>\n",
              "    <tr style=\"text-align: right;\">\n",
              "      <th></th>\n",
              "      <th>semana</th>\n",
              "      <th>categoria</th>\n",
              "      <th>classificaçao_semanal</th>\n",
              "      <th>titulo_do_programa/show</th>\n",
              "      <th>horas_visualizadas</th>\n",
              "      <th>semanas_acumuladas_top10</th>\n",
              "      <th>mes</th>\n",
              "      <th>ano</th>\n",
              "      <th>dia</th>\n",
              "    </tr>\n",
              "  </thead>\n",
              "  <tbody>\n",
              "    <tr>\n",
              "      <th>0</th>\n",
              "      <td>2024-05-26</td>\n",
              "      <td>Filmes (Inglês)</td>\n",
              "      <td>1</td>\n",
              "      <td>Atlas</td>\n",
              "      <td>56300000</td>\n",
              "      <td>1</td>\n",
              "      <td>5</td>\n",
              "      <td>2024</td>\n",
              "      <td>26</td>\n",
              "    </tr>\n",
              "    <tr>\n",
              "      <th>1</th>\n",
              "      <td>2024-05-26</td>\n",
              "      <td>Filmes (Inglês)</td>\n",
              "      <td>2</td>\n",
              "      <td>Thelma the Unicorn</td>\n",
              "      <td>17400000</td>\n",
              "      <td>2</td>\n",
              "      <td>5</td>\n",
              "      <td>2024</td>\n",
              "      <td>26</td>\n",
              "    </tr>\n",
              "    <tr>\n",
              "      <th>2</th>\n",
              "      <td>2024-05-26</td>\n",
              "      <td>Filmes (Inglês)</td>\n",
              "      <td>3</td>\n",
              "      <td>Ice Age: Dawn of the Dinosaurs</td>\n",
              "      <td>15100000</td>\n",
              "      <td>1</td>\n",
              "      <td>5</td>\n",
              "      <td>2024</td>\n",
              "      <td>26</td>\n",
              "    </tr>\n",
              "    <tr>\n",
              "      <th>3</th>\n",
              "      <td>2024-05-26</td>\n",
              "      <td>Filmes (Inglês)</td>\n",
              "      <td>4</td>\n",
              "      <td>Mother of the Bride</td>\n",
              "      <td>14000000</td>\n",
              "      <td>3</td>\n",
              "      <td>5</td>\n",
              "      <td>2024</td>\n",
              "      <td>26</td>\n",
              "    </tr>\n",
              "    <tr>\n",
              "      <th>4</th>\n",
              "      <td>2024-05-26</td>\n",
              "      <td>Filmes (Inglês)</td>\n",
              "      <td>5</td>\n",
              "      <td>Disturbia</td>\n",
              "      <td>14100000</td>\n",
              "      <td>2</td>\n",
              "      <td>5</td>\n",
              "      <td>2024</td>\n",
              "      <td>26</td>\n",
              "    </tr>\n",
              "    <tr>\n",
              "      <th>...</th>\n",
              "      <td>...</td>\n",
              "      <td>...</td>\n",
              "      <td>...</td>\n",
              "      <td>...</td>\n",
              "      <td>...</td>\n",
              "      <td>...</td>\n",
              "      <td>...</td>\n",
              "      <td>...</td>\n",
              "      <td>...</td>\n",
              "    </tr>\n",
              "    <tr>\n",
              "      <th>6075</th>\n",
              "      <td>2021-07-04</td>\n",
              "      <td>Séries de TV (Estrangeiros)</td>\n",
              "      <td>6</td>\n",
              "      <td>Elite</td>\n",
              "      <td>10530000</td>\n",
              "      <td>1</td>\n",
              "      <td>7</td>\n",
              "      <td>2021</td>\n",
              "      <td>4</td>\n",
              "    </tr>\n",
              "    <tr>\n",
              "      <th>6076</th>\n",
              "      <td>2021-07-04</td>\n",
              "      <td>Séries de TV (Estrangeiros)</td>\n",
              "      <td>7</td>\n",
              "      <td>Elite</td>\n",
              "      <td>10200000</td>\n",
              "      <td>1</td>\n",
              "      <td>7</td>\n",
              "      <td>2021</td>\n",
              "      <td>4</td>\n",
              "    </tr>\n",
              "    <tr>\n",
              "      <th>6077</th>\n",
              "      <td>2021-07-04</td>\n",
              "      <td>Séries de TV (Estrangeiros)</td>\n",
              "      <td>8</td>\n",
              "      <td>Elite</td>\n",
              "      <td>10140000</td>\n",
              "      <td>1</td>\n",
              "      <td>7</td>\n",
              "      <td>2021</td>\n",
              "      <td>4</td>\n",
              "    </tr>\n",
              "    <tr>\n",
              "      <th>6078</th>\n",
              "      <td>2021-07-04</td>\n",
              "      <td>Séries de TV (Estrangeiros)</td>\n",
              "      <td>9</td>\n",
              "      <td>Katla</td>\n",
              "      <td>9190000</td>\n",
              "      <td>1</td>\n",
              "      <td>7</td>\n",
              "      <td>2021</td>\n",
              "      <td>4</td>\n",
              "    </tr>\n",
              "    <tr>\n",
              "      <th>6079</th>\n",
              "      <td>2021-07-04</td>\n",
              "      <td>Séries de TV (Estrangeiros)</td>\n",
              "      <td>10</td>\n",
              "      <td>Record of Ragnarok</td>\n",
              "      <td>9140000</td>\n",
              "      <td>1</td>\n",
              "      <td>7</td>\n",
              "      <td>2021</td>\n",
              "      <td>4</td>\n",
              "    </tr>\n",
              "  </tbody>\n",
              "</table>\n",
              "<p>6080 rows × 9 columns</p>\n",
              "</div>\n",
              "    <div class=\"colab-df-buttons\">\n",
              "\n",
              "  <div class=\"colab-df-container\">\n",
              "    <button class=\"colab-df-convert\" onclick=\"convertToInteractive('df-30a45c01-b62e-4847-9492-c96fbfd85194')\"\n",
              "            title=\"Convert this dataframe to an interactive table.\"\n",
              "            style=\"display:none;\">\n",
              "\n",
              "  <svg xmlns=\"http://www.w3.org/2000/svg\" height=\"24px\" viewBox=\"0 -960 960 960\">\n",
              "    <path d=\"M120-120v-720h720v720H120Zm60-500h600v-160H180v160Zm220 220h160v-160H400v160Zm0 220h160v-160H400v160ZM180-400h160v-160H180v160Zm440 0h160v-160H620v160ZM180-180h160v-160H180v160Zm440 0h160v-160H620v160Z\"/>\n",
              "  </svg>\n",
              "    </button>\n",
              "\n",
              "  <style>\n",
              "    .colab-df-container {\n",
              "      display:flex;\n",
              "      gap: 12px;\n",
              "    }\n",
              "\n",
              "    .colab-df-convert {\n",
              "      background-color: #E8F0FE;\n",
              "      border: none;\n",
              "      border-radius: 50%;\n",
              "      cursor: pointer;\n",
              "      display: none;\n",
              "      fill: #1967D2;\n",
              "      height: 32px;\n",
              "      padding: 0 0 0 0;\n",
              "      width: 32px;\n",
              "    }\n",
              "\n",
              "    .colab-df-convert:hover {\n",
              "      background-color: #E2EBFA;\n",
              "      box-shadow: 0px 1px 2px rgba(60, 64, 67, 0.3), 0px 1px 3px 1px rgba(60, 64, 67, 0.15);\n",
              "      fill: #174EA6;\n",
              "    }\n",
              "\n",
              "    .colab-df-buttons div {\n",
              "      margin-bottom: 4px;\n",
              "    }\n",
              "\n",
              "    [theme=dark] .colab-df-convert {\n",
              "      background-color: #3B4455;\n",
              "      fill: #D2E3FC;\n",
              "    }\n",
              "\n",
              "    [theme=dark] .colab-df-convert:hover {\n",
              "      background-color: #434B5C;\n",
              "      box-shadow: 0px 1px 3px 1px rgba(0, 0, 0, 0.15);\n",
              "      filter: drop-shadow(0px 1px 2px rgba(0, 0, 0, 0.3));\n",
              "      fill: #FFFFFF;\n",
              "    }\n",
              "  </style>\n",
              "\n",
              "    <script>\n",
              "      const buttonEl =\n",
              "        document.querySelector('#df-30a45c01-b62e-4847-9492-c96fbfd85194 button.colab-df-convert');\n",
              "      buttonEl.style.display =\n",
              "        google.colab.kernel.accessAllowed ? 'block' : 'none';\n",
              "\n",
              "      async function convertToInteractive(key) {\n",
              "        const element = document.querySelector('#df-30a45c01-b62e-4847-9492-c96fbfd85194');\n",
              "        const dataTable =\n",
              "          await google.colab.kernel.invokeFunction('convertToInteractive',\n",
              "                                                    [key], {});\n",
              "        if (!dataTable) return;\n",
              "\n",
              "        const docLinkHtml = 'Like what you see? Visit the ' +\n",
              "          '<a target=\"_blank\" href=https://colab.research.google.com/notebooks/data_table.ipynb>data table notebook</a>'\n",
              "          + ' to learn more about interactive tables.';\n",
              "        element.innerHTML = '';\n",
              "        dataTable['output_type'] = 'display_data';\n",
              "        await google.colab.output.renderOutput(dataTable, element);\n",
              "        const docLink = document.createElement('div');\n",
              "        docLink.innerHTML = docLinkHtml;\n",
              "        element.appendChild(docLink);\n",
              "      }\n",
              "    </script>\n",
              "  </div>\n",
              "\n",
              "\n",
              "<div id=\"df-19bfb058-42f6-4ee1-b2a6-14d707f7876d\">\n",
              "  <button class=\"colab-df-quickchart\" onclick=\"quickchart('df-19bfb058-42f6-4ee1-b2a6-14d707f7876d')\"\n",
              "            title=\"Suggest charts\"\n",
              "            style=\"display:none;\">\n",
              "\n",
              "<svg xmlns=\"http://www.w3.org/2000/svg\" height=\"24px\"viewBox=\"0 0 24 24\"\n",
              "     width=\"24px\">\n",
              "    <g>\n",
              "        <path d=\"M19 3H5c-1.1 0-2 .9-2 2v14c0 1.1.9 2 2 2h14c1.1 0 2-.9 2-2V5c0-1.1-.9-2-2-2zM9 17H7v-7h2v7zm4 0h-2V7h2v10zm4 0h-2v-4h2v4z\"/>\n",
              "    </g>\n",
              "</svg>\n",
              "  </button>\n",
              "\n",
              "<style>\n",
              "  .colab-df-quickchart {\n",
              "      --bg-color: #E8F0FE;\n",
              "      --fill-color: #1967D2;\n",
              "      --hover-bg-color: #E2EBFA;\n",
              "      --hover-fill-color: #174EA6;\n",
              "      --disabled-fill-color: #AAA;\n",
              "      --disabled-bg-color: #DDD;\n",
              "  }\n",
              "\n",
              "  [theme=dark] .colab-df-quickchart {\n",
              "      --bg-color: #3B4455;\n",
              "      --fill-color: #D2E3FC;\n",
              "      --hover-bg-color: #434B5C;\n",
              "      --hover-fill-color: #FFFFFF;\n",
              "      --disabled-bg-color: #3B4455;\n",
              "      --disabled-fill-color: #666;\n",
              "  }\n",
              "\n",
              "  .colab-df-quickchart {\n",
              "    background-color: var(--bg-color);\n",
              "    border: none;\n",
              "    border-radius: 50%;\n",
              "    cursor: pointer;\n",
              "    display: none;\n",
              "    fill: var(--fill-color);\n",
              "    height: 32px;\n",
              "    padding: 0;\n",
              "    width: 32px;\n",
              "  }\n",
              "\n",
              "  .colab-df-quickchart:hover {\n",
              "    background-color: var(--hover-bg-color);\n",
              "    box-shadow: 0 1px 2px rgba(60, 64, 67, 0.3), 0 1px 3px 1px rgba(60, 64, 67, 0.15);\n",
              "    fill: var(--button-hover-fill-color);\n",
              "  }\n",
              "\n",
              "  .colab-df-quickchart-complete:disabled,\n",
              "  .colab-df-quickchart-complete:disabled:hover {\n",
              "    background-color: var(--disabled-bg-color);\n",
              "    fill: var(--disabled-fill-color);\n",
              "    box-shadow: none;\n",
              "  }\n",
              "\n",
              "  .colab-df-spinner {\n",
              "    border: 2px solid var(--fill-color);\n",
              "    border-color: transparent;\n",
              "    border-bottom-color: var(--fill-color);\n",
              "    animation:\n",
              "      spin 1s steps(1) infinite;\n",
              "  }\n",
              "\n",
              "  @keyframes spin {\n",
              "    0% {\n",
              "      border-color: transparent;\n",
              "      border-bottom-color: var(--fill-color);\n",
              "      border-left-color: var(--fill-color);\n",
              "    }\n",
              "    20% {\n",
              "      border-color: transparent;\n",
              "      border-left-color: var(--fill-color);\n",
              "      border-top-color: var(--fill-color);\n",
              "    }\n",
              "    30% {\n",
              "      border-color: transparent;\n",
              "      border-left-color: var(--fill-color);\n",
              "      border-top-color: var(--fill-color);\n",
              "      border-right-color: var(--fill-color);\n",
              "    }\n",
              "    40% {\n",
              "      border-color: transparent;\n",
              "      border-right-color: var(--fill-color);\n",
              "      border-top-color: var(--fill-color);\n",
              "    }\n",
              "    60% {\n",
              "      border-color: transparent;\n",
              "      border-right-color: var(--fill-color);\n",
              "    }\n",
              "    80% {\n",
              "      border-color: transparent;\n",
              "      border-right-color: var(--fill-color);\n",
              "      border-bottom-color: var(--fill-color);\n",
              "    }\n",
              "    90% {\n",
              "      border-color: transparent;\n",
              "      border-bottom-color: var(--fill-color);\n",
              "    }\n",
              "  }\n",
              "</style>\n",
              "\n",
              "  <script>\n",
              "    async function quickchart(key) {\n",
              "      const quickchartButtonEl =\n",
              "        document.querySelector('#' + key + ' button');\n",
              "      quickchartButtonEl.disabled = true;  // To prevent multiple clicks.\n",
              "      quickchartButtonEl.classList.add('colab-df-spinner');\n",
              "      try {\n",
              "        const charts = await google.colab.kernel.invokeFunction(\n",
              "            'suggestCharts', [key], {});\n",
              "      } catch (error) {\n",
              "        console.error('Error during call to suggestCharts:', error);\n",
              "      }\n",
              "      quickchartButtonEl.classList.remove('colab-df-spinner');\n",
              "      quickchartButtonEl.classList.add('colab-df-quickchart-complete');\n",
              "    }\n",
              "    (() => {\n",
              "      let quickchartButtonEl =\n",
              "        document.querySelector('#df-19bfb058-42f6-4ee1-b2a6-14d707f7876d button');\n",
              "      quickchartButtonEl.style.display =\n",
              "        google.colab.kernel.accessAllowed ? 'block' : 'none';\n",
              "    })();\n",
              "  </script>\n",
              "</div>\n",
              "    </div>\n",
              "  </div>\n"
            ],
            "application/vnd.google.colaboratory.intrinsic+json": {
              "type": "dataframe",
              "summary": "{\n  \"name\": \"schema\",\n  \"rows\": 6080,\n  \"fields\": [\n    {\n      \"column\": \"semana\",\n      \"properties\": {\n        \"dtype\": \"date\",\n        \"min\": \"2021-07-04 00:00:00\",\n        \"max\": \"2024-05-26 00:00:00\",\n        \"num_unique_values\": 152,\n        \"samples\": [\n          \"2023-02-05 00:00:00\",\n          \"2021-08-01 00:00:00\",\n          \"2022-07-24 00:00:00\"\n        ],\n        \"semantic_type\": \"\",\n        \"description\": \"\"\n      }\n    },\n    {\n      \"column\": \"categoria\",\n      \"properties\": {\n        \"dtype\": \"category\",\n        \"num_unique_values\": 4,\n        \"samples\": [\n          \"Filmes (Estrangeiros)\",\n          \"S\\u00e9ries de TV (Estrangeiros)\",\n          \"Filmes (Ingl\\u00eas)\"\n        ],\n        \"semantic_type\": \"\",\n        \"description\": \"\"\n      }\n    },\n    {\n      \"column\": \"classifica\\u00e7ao_semanal\",\n      \"properties\": {\n        \"dtype\": \"number\",\n        \"std\": 2,\n        \"min\": 1,\n        \"max\": 10,\n        \"num_unique_values\": 10,\n        \"samples\": [\n          9,\n          2,\n          6\n        ],\n        \"semantic_type\": \"\",\n        \"description\": \"\"\n      }\n    },\n    {\n      \"column\": \"titulo_do_programa/show\",\n      \"properties\": {\n        \"dtype\": \"category\",\n        \"num_unique_values\": 1993,\n        \"samples\": [\n          \"Phenomena\",\n          \"Fierce\",\n          \"The Three Musketeers: D'Artagnan\"\n        ],\n        \"semantic_type\": \"\",\n        \"description\": \"\"\n      }\n    },\n    {\n      \"column\": \"horas_visualizadas\",\n      \"properties\": {\n        \"dtype\": \"number\",\n        \"std\": 26206714,\n        \"min\": 700000,\n        \"max\": 571760000,\n        \"num_unique_values\": 2729,\n        \"samples\": [\n          2990000,\n          28270000,\n          13560000\n        ],\n        \"semantic_type\": \"\",\n        \"description\": \"\"\n      }\n    },\n    {\n      \"column\": \"semanas_acumuladas_top10\",\n      \"properties\": {\n        \"dtype\": \"number\",\n        \"std\": 3,\n        \"min\": 1,\n        \"max\": 30,\n        \"num_unique_values\": 30,\n        \"samples\": [\n          26,\n          15,\n          19\n        ],\n        \"semantic_type\": \"\",\n        \"description\": \"\"\n      }\n    },\n    {\n      \"column\": \"mes\",\n      \"properties\": {\n        \"dtype\": \"category\",\n        \"num_unique_values\": 12,\n        \"samples\": [\n          \"7\",\n          \"8\",\n          \"5\"\n        ],\n        \"semantic_type\": \"\",\n        \"description\": \"\"\n      }\n    },\n    {\n      \"column\": \"ano\",\n      \"properties\": {\n        \"dtype\": \"object\",\n        \"num_unique_values\": 4,\n        \"samples\": [\n          \"2023\",\n          \"2021\",\n          \"2024\"\n        ],\n        \"semantic_type\": \"\",\n        \"description\": \"\"\n      }\n    },\n    {\n      \"column\": \"dia\",\n      \"properties\": {\n        \"dtype\": \"category\",\n        \"num_unique_values\": 31,\n        \"samples\": [\n          \"23\",\n          \"11\",\n          \"20\"\n        ],\n        \"semantic_type\": \"\",\n        \"description\": \"\"\n      }\n    }\n  ]\n}"
            }
          },
          "metadata": {},
          "execution_count": 22
        }
      ]
    },
    {
      "cell_type": "markdown",
      "source": [
        "## **Carregamento**"
      ],
      "metadata": {
        "id": "zYRcZfhoLPyB"
      }
    },
    {
      "cell_type": "code",
      "source": [
        "df.to_csv('/content/drive/MyDrive/Soul Code/netflix/netflixtop10_tratado.csv')"
      ],
      "metadata": {
        "id": "eO3s0FBsLRil"
      },
      "execution_count": 23,
      "outputs": []
    }
  ]
}